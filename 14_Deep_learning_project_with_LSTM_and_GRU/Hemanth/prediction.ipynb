{
 "cells": [
  {
   "cell_type": "code",
   "execution_count": 1,
   "id": "977032fe",
   "metadata": {},
   "outputs": [
    {
     "name": "stdout",
     "output_type": "stream",
     "text": [
      "WARNING:tensorflow:From c:\\venv\\tf_env\\lib\\site-packages\\keras\\src\\losses.py:2976: The name tf.losses.sparse_softmax_cross_entropy is deprecated. Please use tf.compat.v1.losses.sparse_softmax_cross_entropy instead.\n",
      "\n"
     ]
    }
   ],
   "source": [
    "import pandas as pd\n",
    "from tensorflow.keras.preprocessing.text import Tokenizer\n",
    "from tensorflow.keras.preprocessing.sequence import pad_sequences\n",
    "from sklearn.model_selection import train_test_split\n",
    "import numpy as np\n",
    "from tensorflow.keras.models import load_model"
   ]
  },
  {
   "cell_type": "code",
   "execution_count": 42,
   "id": "d3806b1b",
   "metadata": {},
   "outputs": [],
   "source": [
    "lstm_model = load_model('LSTM_model.h5')\n",
    "GRU_model = load_model('GRU_model.h5')"
   ]
  },
  {
   "cell_type": "code",
   "execution_count": 4,
   "id": "dbdd9c2b",
   "metadata": {},
   "outputs": [],
   "source": [
    "import pickle\n",
    "\n",
    "with open('Tokenizer.pkl', 'rb') as file:\n",
    "    tokenizer = pickle.load(file)"
   ]
  },
  {
   "cell_type": "code",
   "execution_count": 14,
   "id": "6175fdea",
   "metadata": {},
   "outputs": [],
   "source": [
    "def pre_processing(tokenizer, line, max_sequence_length):\n",
    "    sequence = tokenizer.texts_to_sequences([line])[0]\n",
    "    if len(sequence) >= max_sequence_length:\n",
    "        sequence = sequence[-(max_sequence_length):]  # Ensure the sequence length matches max_sequence_len-1\n",
    "    padded_sequence = np.array(pad_sequences([sequence], maxlen=max_sequence_length, padding='pre'))\n",
    "\n",
    "    return padded_sequence\n",
    "    "
   ]
  },
  {
   "cell_type": "code",
   "execution_count": 39,
   "id": "fdf9b315",
   "metadata": {},
   "outputs": [],
   "source": [
    "def predict_model(model, pre_processing_result, ):\n",
    "    predicted = model.predict(pre_processing_result, verbose = 0)\n",
    "    max_predicted_class = np.argmax(predicted, axis = 1)\n",
    "    for word, index in tokenizer.word_index.items():\n",
    "        if index == max_predicted_class:\n",
    "            return word\n",
    "    return None"
   ]
  },
  {
   "cell_type": "code",
   "execution_count": null,
   "id": "1177d4e2",
   "metadata": {},
   "outputs": [
    {
     "data": {
      "text/plain": [
       "'the'"
      ]
     },
     "execution_count": 44,
     "metadata": {},
     "output_type": "execute_result"
    }
   ],
   "source": [
    "input_text=\"To be or not to be\"\n",
    "max_sequence_len=lstm_model.input_shape[1]\n",
    "pre_processing_result = pre_processing(tokenizer, input_text, max_sequence_len)\n",
    "predicted_word = predict_model(lstm_model, pre_processing_result)\n",
    "predicted_word\n"
   ]
  },
  {
   "cell_type": "code",
   "execution_count": 43,
   "id": "cc1f1124",
   "metadata": {},
   "outputs": [
    {
     "data": {
      "text/plain": [
       "'the'"
      ]
     },
     "execution_count": 43,
     "metadata": {},
     "output_type": "execute_result"
    }
   ],
   "source": [
    "predicted_word = predict_model(GRU_model, pre_processing_result)\n",
    "predicted_word"
   ]
  }
 ],
 "metadata": {
  "kernelspec": {
   "display_name": "tf_env",
   "language": "python",
   "name": "python3"
  },
  "language_info": {
   "codemirror_mode": {
    "name": "ipython",
    "version": 3
   },
   "file_extension": ".py",
   "mimetype": "text/x-python",
   "name": "python",
   "nbconvert_exporter": "python",
   "pygments_lexer": "ipython3",
   "version": "3.9.13"
  }
 },
 "nbformat": 4,
 "nbformat_minor": 5
}
