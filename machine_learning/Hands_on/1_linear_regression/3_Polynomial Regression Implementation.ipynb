{
 "cells": [
  {
   "cell_type": "code",
   "execution_count": 49,
   "metadata": {},
   "outputs": [],
   "source": [
    "import pandas as pd\n",
    "import numpy as np\n",
    "import matplotlib.pyplot as plt\n"
   ]
  },
  {
   "cell_type": "code",
   "execution_count": 50,
   "metadata": {},
   "outputs": [],
   "source": [
    "x = 6 * np.random.rand(100,1) - 3\n",
    "\n",
    "# quadratic equation used- y=0.5x^2+1.5x+2+outliers\n",
    "\n",
    "y = 0.5 * x**2 + 1.5 * x + 2 + np.random.rand(100,1)\n"
   ]
  },
  {
   "cell_type": "code",
   "execution_count": 51,
   "metadata": {},
   "outputs": [
    {
     "data": {
      "text/plain": [
       "array([[ 2.3993093 ],\n",
       "       [-0.01161159],\n",
       "       [-2.76437226],\n",
       "       [-0.79350592],\n",
       "       [ 1.73807268],\n",
       "       [-1.243046  ],\n",
       "       [-0.03887336],\n",
       "       [-2.80507766],\n",
       "       [ 0.25206654],\n",
       "       [ 1.5213607 ],\n",
       "       [-0.77079386],\n",
       "       [ 2.98384576],\n",
       "       [-2.31143227],\n",
       "       [ 1.22759368],\n",
       "       [ 2.02653116],\n",
       "       [ 0.46305857],\n",
       "       [ 0.98310004],\n",
       "       [ 2.11551868],\n",
       "       [-0.51977493],\n",
       "       [-1.85341496],\n",
       "       [-1.18346888],\n",
       "       [ 2.36200915],\n",
       "       [ 1.46623685],\n",
       "       [ 1.72034839],\n",
       "       [-0.62955652],\n",
       "       [ 0.61005098],\n",
       "       [-0.43761808],\n",
       "       [ 2.24007497],\n",
       "       [ 2.37951597],\n",
       "       [-2.47977414],\n",
       "       [ 0.18496552],\n",
       "       [ 0.39763604],\n",
       "       [ 2.0951989 ],\n",
       "       [-2.68757938],\n",
       "       [-2.0466415 ],\n",
       "       [-1.32971437],\n",
       "       [-1.06397016],\n",
       "       [ 2.89183541],\n",
       "       [-1.34396746],\n",
       "       [ 1.09886477],\n",
       "       [-2.67073579],\n",
       "       [-1.250646  ],\n",
       "       [ 0.22924538],\n",
       "       [-1.95978489],\n",
       "       [-0.92794324],\n",
       "       [-1.35292864],\n",
       "       [ 1.24144126],\n",
       "       [ 1.16508329],\n",
       "       [ 2.51698509],\n",
       "       [ 0.35381312],\n",
       "       [ 1.97575716],\n",
       "       [ 2.60528659],\n",
       "       [ 2.84023946],\n",
       "       [ 1.35460295],\n",
       "       [ 0.30499822],\n",
       "       [-1.85688156],\n",
       "       [ 1.42043752],\n",
       "       [-2.62074393],\n",
       "       [-1.27185653],\n",
       "       [-1.12005957],\n",
       "       [ 2.46210872],\n",
       "       [ 2.94217517],\n",
       "       [-0.88588832],\n",
       "       [-1.21408037],\n",
       "       [-2.99857797],\n",
       "       [-2.69502754],\n",
       "       [-0.87975549],\n",
       "       [ 0.44917871],\n",
       "       [-1.836013  ],\n",
       "       [ 2.71486085],\n",
       "       [ 1.58748574],\n",
       "       [ 0.2036302 ],\n",
       "       [-0.38971795],\n",
       "       [ 2.86437155],\n",
       "       [-0.57158376],\n",
       "       [-2.48621294],\n",
       "       [ 2.94132604],\n",
       "       [ 1.3435598 ],\n",
       "       [ 0.10470866],\n",
       "       [-2.57884636],\n",
       "       [-2.992931  ],\n",
       "       [ 1.98195143],\n",
       "       [ 2.81254781],\n",
       "       [ 2.39460838],\n",
       "       [ 1.51875217],\n",
       "       [-0.70290926],\n",
       "       [-1.82803363],\n",
       "       [ 0.80308368],\n",
       "       [-2.58983375],\n",
       "       [ 1.49054293],\n",
       "       [ 0.66915205],\n",
       "       [-2.11195753],\n",
       "       [-1.83168861],\n",
       "       [ 1.77589212],\n",
       "       [-0.43552646],\n",
       "       [-2.24152578],\n",
       "       [-0.36095042],\n",
       "       [-2.87012616],\n",
       "       [-2.9774236 ],\n",
       "       [-2.5704668 ]])"
      ]
     },
     "execution_count": 51,
     "metadata": {},
     "output_type": "execute_result"
    }
   ],
   "source": [
    "x"
   ]
  },
  {
   "cell_type": "code",
   "execution_count": 52,
   "metadata": {},
   "outputs": [
    {
     "data": {
      "text/plain": [
       "array([[ 8.83894123],\n",
       "       [ 2.75152607],\n",
       "       [ 1.73467781],\n",
       "       [ 1.45766862],\n",
       "       [ 6.35052575],\n",
       "       [ 1.33539714],\n",
       "       [ 1.95294235],\n",
       "       [ 2.12957745],\n",
       "       [ 2.595287  ],\n",
       "       [ 6.34549126],\n",
       "       [ 2.02406628],\n",
       "       [11.84860421],\n",
       "       [ 1.81993916],\n",
       "       [ 4.70448228],\n",
       "       [ 7.15750764],\n",
       "       [ 2.95646612],\n",
       "       [ 4.70161749],\n",
       "       [ 7.64750339],\n",
       "       [ 1.66346318],\n",
       "       [ 1.93202708],\n",
       "       [ 1.52653707],\n",
       "       [ 9.00307791],\n",
       "       [ 5.57077608],\n",
       "       [ 6.16212914],\n",
       "       [ 2.21357755],\n",
       "       [ 4.06247017],\n",
       "       [ 1.53198616],\n",
       "       [ 8.59739531],\n",
       "       [ 8.59722197],\n",
       "       [ 1.68481129],\n",
       "       [ 3.03107856],\n",
       "       [ 3.66088341],\n",
       "       [ 8.30915561],\n",
       "       [ 1.89544601],\n",
       "       [ 1.15515863],\n",
       "       [ 1.29621331],\n",
       "       [ 1.00769801],\n",
       "       [10.68718203],\n",
       "       [ 1.17381844],\n",
       "       [ 4.82949892],\n",
       "       [ 1.59031882],\n",
       "       [ 1.6154101 ],\n",
       "       [ 2.52280368],\n",
       "       [ 1.64872027],\n",
       "       [ 1.64251899],\n",
       "       [ 1.66924937],\n",
       "       [ 4.81389492],\n",
       "       [ 4.71538252],\n",
       "       [ 9.01932894],\n",
       "       [ 2.89658255],\n",
       "       [ 7.21922185],\n",
       "       [ 9.42852534],\n",
       "       [10.76046903],\n",
       "       [ 5.58937038],\n",
       "       [ 3.14411841],\n",
       "       [ 1.31339316],\n",
       "       [ 6.01046447],\n",
       "       [ 2.15921492],\n",
       "       [ 1.79481301],\n",
       "       [ 1.45786562],\n",
       "       [ 8.73389357],\n",
       "       [11.26105729],\n",
       "       [ 1.77736057],\n",
       "       [ 1.60724186],\n",
       "       [ 2.61698744],\n",
       "       [ 2.18642609],\n",
       "       [ 1.54861515],\n",
       "       [ 3.2226159 ],\n",
       "       [ 1.92721444],\n",
       "       [10.46212286],\n",
       "       [ 6.46386775],\n",
       "       [ 2.54987559],\n",
       "       [ 1.67941382],\n",
       "       [10.61328595],\n",
       "       [ 2.27053006],\n",
       "       [ 1.46405092],\n",
       "       [11.73220068],\n",
       "       [ 5.36150513],\n",
       "       [ 2.26937437],\n",
       "       [ 2.22618315],\n",
       "       [ 2.2002753 ],\n",
       "       [ 7.28801192],\n",
       "       [11.01810738],\n",
       "       [ 8.67684894],\n",
       "       [ 6.0209548 ],\n",
       "       [ 1.60353109],\n",
       "       [ 1.87104542],\n",
       "       [ 4.32836311],\n",
       "       [ 1.88859538],\n",
       "       [ 5.5355646 ],\n",
       "       [ 4.10680771],\n",
       "       [ 1.19824645],\n",
       "       [ 1.42783317],\n",
       "       [ 6.47961714],\n",
       "       [ 1.78578775],\n",
       "       [ 1.63170649],\n",
       "       [ 2.39650846],\n",
       "       [ 1.90382194],\n",
       "       [ 2.94132624],\n",
       "       [ 2.37569407]])"
      ]
     },
     "execution_count": 52,
     "metadata": {},
     "output_type": "execute_result"
    }
   ],
   "source": [
    "y"
   ]
  },
  {
   "cell_type": "code",
   "execution_count": 53,
   "metadata": {},
   "outputs": [
    {
     "data": {
      "text/plain": [
       "Text(0, 0.5, 'y')"
      ]
     },
     "execution_count": 53,
     "metadata": {},
     "output_type": "execute_result"
    },
    {
     "data": {
      "image/png": "[encoded data removed]",
      "text/plain": [
       "<Figure size 640x480 with 1 Axes>"
      ]
     },
     "metadata": {},
     "output_type": "display_data"
    }
   ],
   "source": [
    "plt.scatter(x,y,c='green')\n",
    "plt.xlabel('x')\n",
    "plt.ylabel('y')"
   ]
  },
  {
   "cell_type": "code",
   "execution_count": 54,
   "metadata": {},
   "outputs": [],
   "source": [
    "# First lets try this using linear regression\n",
    "\n",
    "#divide the data\n",
    "from sklearn.model_selection import train_test_split\n",
    "x_train, x_test, y_train, y_test = train_test_split(x,y,test_size=0.25,random_state=42)\n"
   ]
  },
  {
   "cell_type": "code",
   "execution_count": 55,
   "metadata": {},
   "outputs": [
    {
     "data": {
      "text/plain": [
       "array([[ 0.46305857],\n",
       "       [-2.67073579],\n",
       "       [-0.36095042],\n",
       "       [ 1.5213607 ],\n",
       "       [-0.38971795],\n",
       "       [ 2.98384576],\n",
       "       [ 1.16508329],\n",
       "       [-0.70290926],\n",
       "       [ 2.37951597],\n",
       "       [ 1.77589212],\n",
       "       [-1.243046  ],\n",
       "       [-0.87975549],\n",
       "       [-2.69502754],\n",
       "       [-1.32971437],\n",
       "       [ 0.98310004],\n",
       "       [ 0.35381312],\n",
       "       [-2.0466415 ],\n",
       "       [-2.80507766],\n",
       "       [-2.24152578],\n",
       "       [ 2.24007497],\n",
       "       [-1.85341496],\n",
       "       [ 1.98195143],\n",
       "       [ 0.61005098],\n",
       "       [-0.88588832],\n",
       "       [ 1.22759368],\n",
       "       [-0.62955652],\n",
       "       [-0.79350592],\n",
       "       [ 2.11551868],\n",
       "       [-1.34396746],\n",
       "       [ 0.25206654],\n",
       "       [ 0.10470866],\n",
       "       [-0.03887336],\n",
       "       [-2.99857797],\n",
       "       [-1.06397016],\n",
       "       [ 1.49054293],\n",
       "       [ 1.42043752],\n",
       "       [-2.5704668 ],\n",
       "       [ 0.30499822],\n",
       "       [-1.95978489],\n",
       "       [ 1.97575716],\n",
       "       [ 0.44917871],\n",
       "       [ 1.24144126],\n",
       "       [-1.836013  ],\n",
       "       [ 2.94217517],\n",
       "       [-2.87012616],\n",
       "       [-2.57884636],\n",
       "       [-1.250646  ],\n",
       "       [-1.27185653],\n",
       "       [ 2.51698509],\n",
       "       [-2.9774236 ],\n",
       "       [-2.62074393],\n",
       "       [-2.48621294],\n",
       "       [ 2.0951989 ],\n",
       "       [-0.43552646],\n",
       "       [-1.12005957],\n",
       "       [-1.21408037],\n",
       "       [ 1.51875217],\n",
       "       [ 2.89183541],\n",
       "       [-2.47977414],\n",
       "       [-0.01161159],\n",
       "       [ 2.84023946],\n",
       "       [ 2.36200915],\n",
       "       [-2.76437226],\n",
       "       [ 1.72034839],\n",
       "       [ 0.80308368],\n",
       "       [-2.11195753],\n",
       "       [-0.57158376],\n",
       "       [-1.82803363],\n",
       "       [ 2.81254781],\n",
       "       [-1.18346888],\n",
       "       [ 2.46210872],\n",
       "       [ 0.2036302 ],\n",
       "       [ 2.02653116],\n",
       "       [-1.83168861],\n",
       "       [ 2.60528659]])"
      ]
     },
     "execution_count": 55,
     "metadata": {},
     "output_type": "execute_result"
    }
   ],
   "source": [
    "x_train"
   ]
  },
  {
   "cell_type": "code",
   "execution_count": 56,
   "metadata": {},
   "outputs": [
    {
     "data": {
      "text/plain": [
       "array([[ 2.39460838],\n",
       "       [ 1.35460295],\n",
       "       [ 1.58748574],\n",
       "       [-1.35292864],\n",
       "       [-0.92794324],\n",
       "       [ 1.09886477],\n",
       "       [ 1.46623685],\n",
       "       [-2.992931  ],\n",
       "       [-0.77079386],\n",
       "       [ 2.3993093 ],\n",
       "       [-0.51977493],\n",
       "       [ 0.18496552],\n",
       "       [ 2.86437155],\n",
       "       [-2.68757938],\n",
       "       [ 0.66915205],\n",
       "       [ 1.73807268],\n",
       "       [ 2.94132604],\n",
       "       [ 1.3435598 ],\n",
       "       [-2.31143227],\n",
       "       [ 0.39763604],\n",
       "       [-1.85688156],\n",
       "       [-2.58983375],\n",
       "       [-0.43761808],\n",
       "       [ 0.22924538],\n",
       "       [ 2.71486085]])"
      ]
     },
     "execution_count": 56,
     "metadata": {},
     "output_type": "execute_result"
    }
   ],
   "source": [
    "x_test"
   ]
  },
  {
   "cell_type": "code",
   "execution_count": 57,
   "metadata": {},
   "outputs": [
    {
     "data": {
      "text/html": [
       "<style>#sk-container-id-3 {\n",
       "  /* Definition of color scheme common for light and dark mode */\n",
       "  --sklearn-color-text: #000;\n",
       "  --sklearn-color-text-muted: #666;\n",
       "  --sklearn-color-line: gray;\n",
       "  /* Definition of color scheme for unfitted estimators */\n",
       "  --sklearn-color-unfitted-level-0: #fff5e6;\n",
       "  --sklearn-color-unfitted-level-1: #f6e4d2;\n",
       "  --sklearn-color-unfitted-level-2: #ffe0b3;\n",
       "  --sklearn-color-unfitted-level-3: chocolate;\n",
       "  /* Definition of color scheme for fitted estimators */\n",
       "  --sklearn-color-fitted-level-0: #f0f8ff;\n",
       "  --sklearn-color-fitted-level-1: #d4ebff;\n",
       "  --sklearn-color-fitted-level-2: #b3dbfd;\n",
       "  --sklearn-color-fitted-level-3: cornflowerblue;\n",
       "\n",
       "  /* Specific color for light theme */\n",
       "  --sklearn-color-text-on-default-background: var(--sg-text-color, var(--theme-code-foreground, var(--jp-content-font-color1, black)));\n",
       "  --sklearn-color-background: var(--sg-background-color, var(--theme-background, var(--jp-layout-color0, white)));\n",
       "  --sklearn-color-border-box: var(--sg-text-color, var(--theme-code-foreground, var(--jp-content-font-color1, black)));\n",
       "  --sklearn-color-icon: #696969;\n",
       "\n",
       "  @media (prefers-color-scheme: dark) {\n",
       "    /* Redefinition of color scheme for dark theme */\n",
       "    --sklearn-color-text-on-default-background: var(--sg-text-color, var(--theme-code-foreground, var(--jp-content-font-color1, white)));\n",
       "    --sklearn-color-background: var(--sg-background-color, var(--theme-background, var(--jp-layout-color0, #111)));\n",
       "    --sklearn-color-border-box: var(--sg-text-color, var(--theme-code-foreground, var(--jp-content-font-color1, white)));\n",
       "    --sklearn-color-icon: #878787;\n",
       "  }\n",
       "}\n",
       "\n",
       "#sk-container-id-3 {\n",
       "  color: var(--sklearn-color-text);\n",
       "}\n",
       "\n",
       "#sk-container-id-3 pre {\n",
       "  padding: 0;\n",
       "}\n",
       "\n",
       "#sk-container-id-3 input.sk-hidden--visually {\n",
       "  border: 0;\n",
       "  clip: rect(1px 1px 1px 1px);\n",
       "  clip: rect(1px, 1px, 1px, 1px);\n",
       "  height: 1px;\n",
       "  margin: -1px;\n",
       "  overflow: hidden;\n",
       "  padding: 0;\n",
       "  position: absolute;\n",
       "  width: 1px;\n",
       "}\n",
       "\n",
       "#sk-container-id-3 div.sk-dashed-wrapped {\n",
       "  border: 1px dashed var(--sklearn-color-line);\n",
       "  margin: 0 0.4em 0.5em 0.4em;\n",
       "  box-sizing: border-box;\n",
       "  padding-bottom: 0.4em;\n",
       "  background-color: var(--sklearn-color-background);\n",
       "}\n",
       "\n",
       "#sk-container-id-3 div.sk-container {\n",
       "  /* jupyter's `normalize.less` sets `[hidden] { display: none; }`\n",
       "     but bootstrap.min.css set `[hidden] { display: none !important; }`\n",
       "     so we also need the `!important` here to be able to override the\n",
       "     default hidden behavior on the sphinx rendered scikit-learn.org.\n",
       "     See: https://github.com/scikit-learn/scikit-learn/issues/21755 */\n",
       "  display: inline-block !important;\n",
       "  position: relative;\n",
       "}\n",
       "\n",
       "#sk-container-id-3 div.sk-text-repr-fallback {\n",
       "  display: none;\n",
       "}\n",
       "\n",
       "div.sk-parallel-item,\n",
       "div.sk-serial,\n",
       "div.sk-item {\n",
       "  /* draw centered vertical line to link estimators */\n",
       "  background-image: linear-gradient(var(--sklearn-color-text-on-default-background), var(--sklearn-color-text-on-default-background));\n",
       "  background-size: 2px 100%;\n",
       "  background-repeat: no-repeat;\n",
       "  background-position: center center;\n",
       "}\n",
       "\n",
       "/* Parallel-specific style estimator block */\n",
       "\n",
       "#sk-container-id-3 div.sk-parallel-item::after {\n",
       "  content: \"\";\n",
       "  width: 100%;\n",
       "  border-bottom: 2px solid var(--sklearn-color-text-on-default-background);\n",
       "  flex-grow: 1;\n",
       "}\n",
       "\n",
       "#sk-container-id-3 div.sk-parallel {\n",
       "  display: flex;\n",
       "  align-items: stretch;\n",
       "  justify-content: center;\n",
       "  background-color: var(--sklearn-color-background);\n",
       "  position: relative;\n",
       "}\n",
       "\n",
       "#sk-container-id-3 div.sk-parallel-item {\n",
       "  display: flex;\n",
       "  flex-direction: column;\n",
       "}\n",
       "\n",
       "#sk-container-id-3 div.sk-parallel-item:first-child::after {\n",
       "  align-self: flex-end;\n",
       "  width: 50%;\n",
       "}\n",
       "\n",
       "#sk-container-id-3 div.sk-parallel-item:last-child::after {\n",
       "  align-self: flex-start;\n",
       "  width: 50%;\n",
       "}\n",
       "\n",
       "#sk-container-id-3 div.sk-parallel-item:only-child::after {\n",
       "  width: 0;\n",
       "}\n",
       "\n",
       "/* Serial-specific style estimator block */\n",
       "\n",
       "#sk-container-id-3 div.sk-serial {\n",
       "  display: flex;\n",
       "  flex-direction: column;\n",
       "  align-items: center;\n",
       "  background-color: var(--sklearn-color-background);\n",
       "  padding-right: 1em;\n",
       "  padding-left: 1em;\n",
       "}\n",
       "\n",
       "\n",
       "/* Toggleable style: style used for estimator/Pipeline/ColumnTransformer box that is\n",
       "clickable and can be expanded/collapsed.\n",
       "- Pipeline and ColumnTransformer use this feature and define the default style\n",
       "- Estimators will overwrite some part of the style using the `sk-estimator` class\n",
       "*/\n",
       "\n",
       "/* Pipeline and ColumnTransformer style (default) */\n",
       "\n",
       "#sk-container-id-3 div.sk-toggleable {\n",
       "  /* Default theme specific background. It is overwritten whether we have a\n",
       "  specific estimator or a Pipeline/ColumnTransformer */\n",
       "  background-color: var(--sklearn-color-background);\n",
       "}\n",
       "\n",
       "/* Toggleable label */\n",
       "#sk-container-id-3 label.sk-toggleable__label {\n",
       "  cursor: pointer;\n",
       "  display: flex;\n",
       "  width: 100%;\n",
       "  margin-bottom: 0;\n",
       "  padding: 0.5em;\n",
       "  box-sizing: border-box;\n",
       "  text-align: center;\n",
       "  align-items: start;\n",
       "  justify-content: space-between;\n",
       "  gap: 0.5em;\n",
       "}\n",
       "\n",
       "#sk-container-id-3 label.sk-toggleable__label .caption {\n",
       "  font-size: 0.6rem;\n",
       "  font-weight: lighter;\n",
       "  color: var(--sklearn-color-text-muted);\n",
       "}\n",
       "\n",
       "#sk-container-id-3 label.sk-toggleable__label-arrow:before {\n",
       "  /* Arrow on the left of the label */\n",
       "  content: \"▸\";\n",
       "  float: left;\n",
       "  margin-right: 0.25em;\n",
       "  color: var(--sklearn-color-icon);\n",
       "}\n",
       "\n",
       "#sk-container-id-3 label.sk-toggleable__label-arrow:hover:before {\n",
       "  color: var(--sklearn-color-text);\n",
       "}\n",
       "\n",
       "/* Toggleable content - dropdown */\n",
       "\n",
       "#sk-container-id-3 div.sk-toggleable__content {\n",
       "  max-height: 0;\n",
       "  max-width: 0;\n",
       "  overflow: hidden;\n",
       "  text-align: left;\n",
       "  /* unfitted */\n",
       "  background-color: var(--sklearn-color-unfitted-level-0);\n",
       "}\n",
       "\n",
       "#sk-container-id-3 div.sk-toggleable__content.fitted {\n",
       "  /* fitted */\n",
       "  background-color: var(--sklearn-color-fitted-level-0);\n",
       "}\n",
       "\n",
       "#sk-container-id-3 div.sk-toggleable__content pre {\n",
       "  margin: 0.2em;\n",
       "  border-radius: 0.25em;\n",
       "  color: var(--sklearn-color-text);\n",
       "  /* unfitted */\n",
       "  background-color: var(--sklearn-color-unfitted-level-0);\n",
       "}\n",
       "\n",
       "#sk-container-id-3 div.sk-toggleable__content.fitted pre {\n",
       "  /* unfitted */\n",
       "  background-color: var(--sklearn-color-fitted-level-0);\n",
       "}\n",
       "\n",
       "#sk-container-id-3 input.sk-toggleable__control:checked~div.sk-toggleable__content {\n",
       "  /* Expand drop-down */\n",
       "  max-height: 200px;\n",
       "  max-width: 100%;\n",
       "  overflow: auto;\n",
       "}\n",
       "\n",
       "#sk-container-id-3 input.sk-toggleable__control:checked~label.sk-toggleable__label-arrow:before {\n",
       "  content: \"▾\";\n",
       "}\n",
       "\n",
       "/* Pipeline/ColumnTransformer-specific style */\n",
       "\n",
       "#sk-container-id-3 div.sk-label input.sk-toggleable__control:checked~label.sk-toggleable__label {\n",
       "  color: var(--sklearn-color-text);\n",
       "  background-color: var(--sklearn-color-unfitted-level-2);\n",
       "}\n",
       "\n",
       "#sk-container-id-3 div.sk-label.fitted input.sk-toggleable__control:checked~label.sk-toggleable__label {\n",
       "  background-color: var(--sklearn-color-fitted-level-2);\n",
       "}\n",
       "\n",
       "/* Estimator-specific style */\n",
       "\n",
       "/* Colorize estimator box */\n",
       "#sk-container-id-3 div.sk-estimator input.sk-toggleable__control:checked~label.sk-toggleable__label {\n",
       "  /* unfitted */\n",
       "  background-color: var(--sklearn-color-unfitted-level-2);\n",
       "}\n",
       "\n",
       "#sk-container-id-3 div.sk-estimator.fitted input.sk-toggleable__control:checked~label.sk-toggleable__label {\n",
       "  /* fitted */\n",
       "  background-color: var(--sklearn-color-fitted-level-2);\n",
       "}\n",
       "\n",
       "#sk-container-id-3 div.sk-label label.sk-toggleable__label,\n",
       "#sk-container-id-3 div.sk-label label {\n",
       "  /* The background is the default theme color */\n",
       "  color: var(--sklearn-color-text-on-default-background);\n",
       "}\n",
       "\n",
       "/* On hover, darken the color of the background */\n",
       "#sk-container-id-3 div.sk-label:hover label.sk-toggleable__label {\n",
       "  color: var(--sklearn-color-text);\n",
       "  background-color: var(--sklearn-color-unfitted-level-2);\n",
       "}\n",
       "\n",
       "/* Label box, darken color on hover, fitted */\n",
       "#sk-container-id-3 div.sk-label.fitted:hover label.sk-toggleable__label.fitted {\n",
       "  color: var(--sklearn-color-text);\n",
       "  background-color: var(--sklearn-color-fitted-level-2);\n",
       "}\n",
       "\n",
       "/* Estimator label */\n",
       "\n",
       "#sk-container-id-3 div.sk-label label {\n",
       "  font-family: monospace;\n",
       "  font-weight: bold;\n",
       "  display: inline-block;\n",
       "  line-height: 1.2em;\n",
       "}\n",
       "\n",
       "#sk-container-id-3 div.sk-label-container {\n",
       "  text-align: center;\n",
       "}\n",
       "\n",
       "/* Estimator-specific */\n",
       "#sk-container-id-3 div.sk-estimator {\n",
       "  font-family: monospace;\n",
       "  border: 1px dotted var(--sklearn-color-border-box);\n",
       "  border-radius: 0.25em;\n",
       "  box-sizing: border-box;\n",
       "  margin-bottom: 0.5em;\n",
       "  /* unfitted */\n",
       "  background-color: var(--sklearn-color-unfitted-level-0);\n",
       "}\n",
       "\n",
       "#sk-container-id-3 div.sk-estimator.fitted {\n",
       "  /* fitted */\n",
       "  background-color: var(--sklearn-color-fitted-level-0);\n",
       "}\n",
       "\n",
       "/* on hover */\n",
       "#sk-container-id-3 div.sk-estimator:hover {\n",
       "  /* unfitted */\n",
       "  background-color: var(--sklearn-color-unfitted-level-2);\n",
       "}\n",
       "\n",
       "#sk-container-id-3 div.sk-estimator.fitted:hover {\n",
       "  /* fitted */\n",
       "  background-color: var(--sklearn-color-fitted-level-2);\n",
       "}\n",
       "\n",
       "/* Specification for estimator info (e.g. \"i\" and \"?\") */\n",
       "\n",
       "/* Common style for \"i\" and \"?\" */\n",
       "\n",
       ".sk-estimator-doc-link,\n",
       "a:link.sk-estimator-doc-link,\n",
       "a:visited.sk-estimator-doc-link {\n",
       "  float: right;\n",
       "  font-size: smaller;\n",
       "  line-height: 1em;\n",
       "  font-family: monospace;\n",
       "  background-color: var(--sklearn-color-background);\n",
       "  border-radius: 1em;\n",
       "  height: 1em;\n",
       "  width: 1em;\n",
       "  text-decoration: none !important;\n",
       "  margin-left: 0.5em;\n",
       "  text-align: center;\n",
       "  /* unfitted */\n",
       "  border: var(--sklearn-color-unfitted-level-1) 1pt solid;\n",
       "  color: var(--sklearn-color-unfitted-level-1);\n",
       "}\n",
       "\n",
       ".sk-estimator-doc-link.fitted,\n",
       "a:link.sk-estimator-doc-link.fitted,\n",
       "a:visited.sk-estimator-doc-link.fitted {\n",
       "  /* fitted */\n",
       "  border: var(--sklearn-color-fitted-level-1) 1pt solid;\n",
       "  color: var(--sklearn-color-fitted-level-1);\n",
       "}\n",
       "\n",
       "/* On hover */\n",
       "div.sk-estimator:hover .sk-estimator-doc-link:hover,\n",
       ".sk-estimator-doc-link:hover,\n",
       "div.sk-label-container:hover .sk-estimator-doc-link:hover,\n",
       ".sk-estimator-doc-link:hover {\n",
       "  /* unfitted */\n",
       "  background-color: var(--sklearn-color-unfitted-level-3);\n",
       "  color: var(--sklearn-color-background);\n",
       "  text-decoration: none;\n",
       "}\n",
       "\n",
       "div.sk-estimator.fitted:hover .sk-estimator-doc-link.fitted:hover,\n",
       ".sk-estimator-doc-link.fitted:hover,\n",
       "div.sk-label-container:hover .sk-estimator-doc-link.fitted:hover,\n",
       ".sk-estimator-doc-link.fitted:hover {\n",
       "  /* fitted */\n",
       "  background-color: var(--sklearn-color-fitted-level-3);\n",
       "  color: var(--sklearn-color-background);\n",
       "  text-decoration: none;\n",
       "}\n",
       "\n",
       "/* Span, style for the box shown on hovering the info icon */\n",
       ".sk-estimator-doc-link span {\n",
       "  display: none;\n",
       "  z-index: 9999;\n",
       "  position: relative;\n",
       "  font-weight: normal;\n",
       "  right: .2ex;\n",
       "  padding: .5ex;\n",
       "  margin: .5ex;\n",
       "  width: min-content;\n",
       "  min-width: 20ex;\n",
       "  max-width: 50ex;\n",
       "  color: var(--sklearn-color-text);\n",
       "  box-shadow: 2pt 2pt 4pt #999;\n",
       "  /* unfitted */\n",
       "  background: var(--sklearn-color-unfitted-level-0);\n",
       "  border: .5pt solid var(--sklearn-color-unfitted-level-3);\n",
       "}\n",
       "\n",
       ".sk-estimator-doc-link.fitted span {\n",
       "  /* fitted */\n",
       "  background: var(--sklearn-color-fitted-level-0);\n",
       "  border: var(--sklearn-color-fitted-level-3);\n",
       "}\n",
       "\n",
       ".sk-estimator-doc-link:hover span {\n",
       "  display: block;\n",
       "}\n",
       "\n",
       "/* \"?\"-specific style due to the `<a>` HTML tag */\n",
       "\n",
       "#sk-container-id-3 a.estimator_doc_link {\n",
       "  float: right;\n",
       "  font-size: 1rem;\n",
       "  line-height: 1em;\n",
       "  font-family: monospace;\n",
       "  background-color: var(--sklearn-color-background);\n",
       "  border-radius: 1rem;\n",
       "  height: 1rem;\n",
       "  width: 1rem;\n",
       "  text-decoration: none;\n",
       "  /* unfitted */\n",
       "  color: var(--sklearn-color-unfitted-level-1);\n",
       "  border: var(--sklearn-color-unfitted-level-1) 1pt solid;\n",
       "}\n",
       "\n",
       "#sk-container-id-3 a.estimator_doc_link.fitted {\n",
       "  /* fitted */\n",
       "  border: var(--sklearn-color-fitted-level-1) 1pt solid;\n",
       "  color: var(--sklearn-color-fitted-level-1);\n",
       "}\n",
       "\n",
       "/* On hover */\n",
       "#sk-container-id-3 a.estimator_doc_link:hover {\n",
       "  /* unfitted */\n",
       "  background-color: var(--sklearn-color-unfitted-level-3);\n",
       "  color: var(--sklearn-color-background);\n",
       "  text-decoration: none;\n",
       "}\n",
       "\n",
       "#sk-container-id-3 a.estimator_doc_link.fitted:hover {\n",
       "  /* fitted */\n",
       "  background-color: var(--sklearn-color-fitted-level-3);\n",
       "}\n",
       "</style><div id=\"sk-container-id-3\" class=\"sk-top-container\"><div class=\"sk-text-repr-fallback\"><pre>LinearRegression()</pre><b>In a Jupyter environment, please rerun this cell to show the HTML representation or trust the notebook. <br />On GitHub, the HTML representation is unable to render, please try loading this page with nbviewer.org.</b></div><div class=\"sk-container\" hidden><div class=\"sk-item\"><div class=\"sk-estimator fitted sk-toggleable\"><input class=\"sk-toggleable__control sk-hidden--visually\" id=\"sk-estimator-id-3\" type=\"checkbox\" checked><label for=\"sk-estimator-id-3\" class=\"sk-toggleable__label fitted sk-toggleable__label-arrow\"><div><div>LinearRegression</div></div><div><a class=\"sk-estimator-doc-link fitted\" rel=\"noreferrer\" target=\"_blank\" href=\"https://scikit-learn.org/1.6/modules/generated/sklearn.linear_model.LinearRegression.html\">?<span>Documentation for LinearRegression</span></a><span class=\"sk-estimator-doc-link fitted\">i<span>Fitted</span></span></div></label><div class=\"sk-toggleable__content fitted\"><pre>LinearRegression()</pre></div> </div></div></div></div>"
      ],
      "text/plain": [
       "LinearRegression()"
      ]
     },
     "execution_count": 57,
     "metadata": {},
     "output_type": "execute_result"
    }
   ],
   "source": [
    "# no need to do standardisation, since we have already did by creating it\n",
    "# now create linear regression\n",
    "\n",
    "from sklearn.linear_model import LinearRegression\n",
    "\n",
    "linear = LinearRegression()\n",
    "\n",
    "linear.fit(x_train,y_train)"
   ]
  },
  {
   "cell_type": "code",
   "execution_count": 58,
   "metadata": {},
   "outputs": [
    {
     "data": {
      "text/plain": [
       "array([[ 7.66692522],\n",
       "       [ 6.15502266],\n",
       "       [ 6.49357482],\n",
       "       [ 2.21896249],\n",
       "       [ 2.83678284],\n",
       "       [ 5.78324459],\n",
       "       [ 6.31730987],\n",
       "       [-0.16518254],\n",
       "       [ 3.06523794],\n",
       "       [ 7.67375916],\n",
       "       [ 3.43015542],\n",
       "       [ 4.45466823],\n",
       "       [ 8.34984101],\n",
       "       [ 0.27872082],\n",
       "       [ 5.15855193],\n",
       "       [ 6.7124898 ],\n",
       "       [ 8.46171321],\n",
       "       [ 6.13896874],\n",
       "       [ 0.82554274],\n",
       "       [ 4.76383692],\n",
       "       [ 1.48634351],\n",
       "       [ 0.42081802],\n",
       "       [ 3.54959053],\n",
       "       [ 4.51903986],\n",
       "       [ 8.13249061]])"
      ]
     },
     "execution_count": 58,
     "metadata": {},
     "output_type": "execute_result"
    }
   ],
   "source": [
    "y_pred = linear.predict(x_test)\n",
    "y_pred"
   ]
  },
  {
   "cell_type": "code",
   "execution_count": 59,
   "metadata": {},
   "outputs": [
    {
     "data": {
      "text/plain": [
       "array([[1.45374487]])"
      ]
     },
     "execution_count": 59,
     "metadata": {},
     "output_type": "execute_result"
    }
   ],
   "source": [
    "linear.coef_"
   ]
  },
  {
   "cell_type": "code",
   "execution_count": 60,
   "metadata": {},
   "outputs": [
    {
     "data": {
      "text/plain": [
       "array([4.18577556])"
      ]
     },
     "execution_count": 60,
     "metadata": {},
     "output_type": "execute_result"
    }
   ],
   "source": [
    "linear.intercept_"
   ]
  },
  {
   "cell_type": "code",
   "execution_count": 61,
   "metadata": {},
   "outputs": [
    {
     "data": {
      "text/plain": [
       "[<matplotlib.lines.Line2D at 0x262d29b1fa0>]"
      ]
     },
     "execution_count": 61,
     "metadata": {},
     "output_type": "execute_result"
    },
    {
     "data": {
      "image/png": "[encoded data removed]",
      "text/plain": [
       "<Figure size 640x480 with 1 Axes>"
      ]
     },
     "metadata": {},
     "output_type": "display_data"
    }
   ],
   "source": [
    "plt.scatter(x_train,y_train,c='green')\n",
    "plt.xlabel('x_train')\n",
    "plt.ylabel('y_train')\n",
    "plt.plot(x_train, linear.predict(x_train))"
   ]
  },
  {
   "cell_type": "code",
   "execution_count": 62,
   "metadata": {},
   "outputs": [
    {
     "name": "stdout",
     "output_type": "stream",
     "text": [
      "mean squared error:  2.234730531471895\n",
      "mean absolute error:  1.289400515697027\n",
      "root mean squared error:  1.4949015122983502\n",
      "r square value is :  0.7799853740786176\n",
      "adjusted square is :  0.7704195207776878\n"
     ]
    }
   ],
   "source": [
    "#check performance matrix mse,mae,rmse\n",
    "\n",
    "from sklearn.metrics import mean_absolute_error, mean_squared_error, r2_score\n",
    "\n",
    "mse = mean_squared_error(y_test, y_pred)\n",
    "mae = mean_absolute_error(y_test, y_pred)\n",
    "rmse = np.sqrt(mse)\n",
    "\n",
    "print(f\"mean squared error: \",mse )\n",
    "print(f\"mean absolute error: \",mae )\n",
    "print(f\"root mean squared error: \",rmse )\n",
    "\n",
    "\n",
    "#calculating r square and adjusted rsquare\n",
    "# adjusted r square formula is 1 – [(1-R2)*(n-1)/(n-k-1)]\n",
    "# where n is no.of data points & k is no.of independent features\n",
    "\n",
    "rsquare = r2_score(y_test, y_pred)\n",
    "print(f\"r square value is : \",rsquare)\n",
    "\n",
    "adjusted_r_square = 1 - (1-rsquare) * (len(y_test)-1)/(len(y_test)-x_test.shape[1]-1)\n",
    "print(f\"adjusted square is : \", adjusted_r_square)"
   ]
  },
  {
   "cell_type": "code",
   "execution_count": 63,
   "metadata": {},
   "outputs": [],
   "source": [
    "from sklearn.preprocessing import PolynomialFeatures\n",
    "\n",
    "poly = PolynomialFeatures(degree=2, include_bias=True)\n",
    "\n",
    "x_train_poly = poly.fit_transform(x_train)\n",
    "x_test_poly = poly.transform(x_test)"
   ]
  },
  {
   "cell_type": "code",
   "execution_count": 64,
   "metadata": {},
   "outputs": [],
   "source": [
    "#now apply linear regression on top of this polynomial\n",
    "\n",
    "linear.fit(x_train_poly, y_train)\n",
    "y_poly_pred = linear.predict(x_test_poly)"
   ]
  },
  {
   "cell_type": "code",
   "execution_count": 65,
   "metadata": {},
   "outputs": [
    {
     "data": {
      "text/plain": [
       "array([[ 8.87636209],\n",
       "       [ 5.40185248],\n",
       "       [ 6.08657723],\n",
       "       [ 1.39300471],\n",
       "       [ 1.54073042],\n",
       "       [ 4.71195609],\n",
       "       [ 5.72336097],\n",
       "       [ 2.50399379],\n",
       "       [ 1.64076638],\n",
       "       [ 8.89450498],\n",
       "       [ 1.85141531],\n",
       "       [ 2.77716383],\n",
       "       [10.79782815],\n",
       "       [ 2.09484254],\n",
       "       [ 3.69894365],\n",
       "       [ 6.55799888],\n",
       "       [11.13347827],\n",
       "       [ 5.37072041],\n",
       "       [ 1.71807569],\n",
       "       [ 3.15337651],\n",
       "       [ 1.45020898],\n",
       "       [ 1.98342792],\n",
       "       [ 1.93394677],\n",
       "       [ 2.85179338],\n",
       "       [10.16251895]])"
      ]
     },
     "execution_count": 65,
     "metadata": {},
     "output_type": "execute_result"
    }
   ],
   "source": [
    "y_poly_pred"
   ]
  },
  {
   "cell_type": "code",
   "execution_count": 66,
   "metadata": {},
   "outputs": [
    {
     "name": "stdout",
     "output_type": "stream",
     "text": [
      "mean squared error:  0.07920494064304671\n",
      "mean absolute error:  0.24302872203278755\n",
      "root mean squared error:  0.28143372335782135\n",
      "r square value is :  0.9922020820222887\n",
      "adjusted square is :  0.9918630421102143\n"
     ]
    }
   ],
   "source": [
    "#check performance matrix mse,mae,rmse\n",
    "\n",
    "from sklearn.metrics import mean_absolute_error, mean_squared_error, r2_score\n",
    "\n",
    "mse = mean_squared_error(y_test, y_poly_pred)\n",
    "mae = mean_absolute_error(y_test, y_poly_pred)\n",
    "rmse = np.sqrt(mse)\n",
    "\n",
    "print(f\"mean squared error: \",mse )\n",
    "print(f\"mean absolute error: \",mae )\n",
    "print(f\"root mean squared error: \",rmse )\n",
    "\n",
    "\n",
    "#calculating r square and adjusted rsquare\n",
    "# adjusted r square formula is 1 – [(1-R2)*(n-1)/(n-k-1)]\n",
    "# where n is no.of data points & k is no.of independent features\n",
    "\n",
    "rsquare = r2_score(y_test, y_poly_pred)\n",
    "print(f\"r square value is : \",rsquare)\n",
    "\n",
    "adjusted_r_square = 1 - (1-rsquare) * (len(y_test)-1)/(len(y_test)-x_test.shape[1]-1)\n",
    "print(f\"adjusted square is : \", adjusted_r_square)"
   ]
  },
  {
   "cell_type": "code",
   "execution_count": 67,
   "metadata": {},
   "outputs": [
    {
     "data": {
      "text/plain": [
       "<matplotlib.collections.PathCollection at 0x262d4c179e0>"
      ]
     },
     "execution_count": 67,
     "metadata": {},
     "output_type": "execute_result"
    },
    {
     "data": {
      "image/png": "[encoded data removed]",
      "text/plain": [
       "<Figure size 640x480 with 1 Axes>"
      ]
     },
     "metadata": {},
     "output_type": "display_data"
    }
   ],
   "source": [
    "# visualise the data now\n",
    "\n",
    "plt.scatter(x_train,y_train,c='green')\n",
    "plt.xlabel('x_train')\n",
    "plt.ylabel('y_train')\n",
    "plt.scatter(x_train, linear.predict(x_train_poly), c='red')"
   ]
  },
  {
   "cell_type": "code",
   "execution_count": 68,
   "metadata": {},
   "outputs": [
    {
     "data": {
      "text/plain": [
       "array([[0.        , 1.47979715, 0.49638707]])"
      ]
     },
     "execution_count": 68,
     "metadata": {},
     "output_type": "execute_result"
    }
   ],
   "source": [
    "linear.coef_"
   ]
  },
  {
   "cell_type": "code",
   "execution_count": 69,
   "metadata": {},
   "outputs": [
    {
     "data": {
      "text/plain": [
       "array([2.48646987])"
      ]
     },
     "execution_count": 69,
     "metadata": {},
     "output_type": "execute_result"
    }
   ],
   "source": [
    "linear.intercept_"
   ]
  },
  {
   "cell_type": "code",
   "execution_count": 70,
   "metadata": {},
   "outputs": [],
   "source": [
    "poly = PolynomialFeatures(degree=3, include_bias=True)\n",
    "\n",
    "x_train_poly = poly.fit_transform(x_train)\n",
    "x_test_poly = poly.transform(x_test)"
   ]
  },
  {
   "cell_type": "code",
   "execution_count": 71,
   "metadata": {},
   "outputs": [],
   "source": [
    "#now apply linear regression on top of this polynomial\n",
    "\n",
    "linear.fit(x_train_poly, y_train)\n",
    "y_poly_pred = linear.predict(x_test_poly)"
   ]
  },
  {
   "cell_type": "code",
   "execution_count": 72,
   "metadata": {},
   "outputs": [
    {
     "name": "stdout",
     "output_type": "stream",
     "text": [
      "mean squared error:  0.07691700192265444\n",
      "mean absolute error:  0.23955247297884694\n",
      "root mean squared error:  0.2773391460336143\n",
      "r square value is :  0.9924273351231028\n",
      "adjusted square is :  0.9920980888241072\n"
     ]
    }
   ],
   "source": [
    "#check performance matrix mse,mae,rmse\n",
    "\n",
    "from sklearn.metrics import mean_absolute_error, mean_squared_error, r2_score\n",
    "\n",
    "mse = mean_squared_error(y_test, y_poly_pred)\n",
    "mae = mean_absolute_error(y_test, y_poly_pred)\n",
    "rmse = np.sqrt(mse)\n",
    "\n",
    "print(f\"mean squared error: \",mse )\n",
    "print(f\"mean absolute error: \",mae )\n",
    "print(f\"root mean squared error: \",rmse )\n",
    "\n",
    "\n",
    "#calculating r square and adjusted rsquare\n",
    "# adjusted r square formula is 1 – [(1-R2)*(n-1)/(n-k-1)]\n",
    "# where n is no.of data points & k is no.of independent features\n",
    "\n",
    "rsquare = r2_score(y_test, y_poly_pred)\n",
    "print(f\"r square value is : \",rsquare)\n",
    "\n",
    "adjusted_r_square = 1 - (1-rsquare) * (len(y_test)-1)/(len(y_test)-x_test.shape[1]-1)\n",
    "print(f\"adjusted square is : \", adjusted_r_square)"
   ]
  },
  {
   "cell_type": "code",
   "execution_count": 73,
   "metadata": {},
   "outputs": [
    {
     "data": {
      "text/plain": [
       "array([[0.        , 1.4218217 , 0.49783669, 0.00991691]])"
      ]
     },
     "execution_count": 73,
     "metadata": {},
     "output_type": "execute_result"
    }
   ],
   "source": [
    "linear.coef_"
   ]
  },
  {
   "cell_type": "code",
   "execution_count": 74,
   "metadata": {},
   "outputs": [
    {
     "data": {
      "text/plain": [
       "array([2.48068692])"
      ]
     },
     "execution_count": 74,
     "metadata": {},
     "output_type": "execute_result"
    }
   ],
   "source": [
    "linear.intercept_"
   ]
  },
  {
   "cell_type": "code",
   "execution_count": 89,
   "metadata": {},
   "outputs": [
    {
     "data": {
      "text/plain": [
       "<matplotlib.legend.Legend at 0x262d85abe00>"
      ]
     },
     "execution_count": 89,
     "metadata": {},
     "output_type": "execute_result"
    },
    {
     "data": {
      "image/png": "[encoded data removed]",
      "text/plain": [
       "<Figure size 640x480 with 1 Axes>"
      ]
     },
     "metadata": {},
     "output_type": "display_data"
    }
   ],
   "source": [
    "plt.scatter(x_train, y_train, c='green', label = 'train data')\n",
    "plt.scatter(x_test, y_test, c='yellow', label = 'test data')\n",
    "plt.xlabel('x data')\n",
    "plt.ylabel('y data')\n",
    "plt.scatter(x_train, linear.predict(x_train_poly), label = 'predicted data')\n",
    "plt.legend()"
   ]
  },
  {
   "cell_type": "markdown",
   "metadata": {},
   "source": [
    "## Polynomial Pipeline"
   ]
  },
  {
   "cell_type": "code",
   "execution_count": 90,
   "metadata": {},
   "outputs": [],
   "source": [
    "from sklearn.pipeline import Pipeline"
   ]
  },
  {
   "cell_type": "code",
   "execution_count": 98,
   "metadata": {},
   "outputs": [],
   "source": [
    "def poly_regression(degree):\n",
    "    poly_features = PolynomialFeatures(degree=degree, include_bias=True)\n",
    "    linear = LinearRegression()\n",
    "    poly_regression = Pipeline([\n",
    "        ('poly_features', poly_features),\n",
    "        ('linear', linear)\n",
    "    ])\n",
    "\n",
    "    poly_regression.fit(x_train,y_train)\n",
    "    y_pred = poly_regression.predict(x_test)\n",
    "\n",
    "    y_train_pred = poly_regression.predict(x_train)\n",
    "    # Now visualise the data\n",
    "    plt.scatter(x_train, y_train, c='green', label='Train data')\n",
    "    plt.scatter(x_test, y_test, c='yellow' , label = 'Test data')\n",
    "    plt.xlabel('X data')\n",
    "    plt.ylabel('Y data')\n",
    "    plt.scatter(x_train, y_train_pred)\n",
    "    plt.legend(loc=\"upper left\")\n",
    "\n"
   ]
  },
  {
   "cell_type": "code",
   "execution_count": 99,
   "metadata": {},
   "outputs": [
    {
     "data": {
      "image/png": "[encoded data removed]",
      "text/plain": [
       "<Figure size 640x480 with 1 Axes>"
      ]
     },
     "metadata": {},
     "output_type": "display_data"
    }
   ],
   "source": [
    "poly_regression(20)"
   ]
  },
  {
   "cell_type": "code",
   "execution_count": null,
   "metadata": {},
   "outputs": [],
   "source": []
  }
 ],
 "metadata": {
  "kernelspec": {
   "display_name": "myenv",
   "language": "python",
   "name": "python3"
  },
  "language_info": {
   "codemirror_mode": {
    "name": "ipython",
    "version": 3
   },
   "file_extension": ".py",
   "mimetype": "text/x-python",
   "name": "python",
   "nbconvert_exporter": "python",
   "pygments_lexer": "ipython3",
   "version": "3.12.7"
  }
 },
 "nbformat": 4,
 "nbformat_minor": 2
}
