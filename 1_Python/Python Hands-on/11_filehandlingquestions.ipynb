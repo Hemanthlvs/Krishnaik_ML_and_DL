{
 "cells": [
  {
   "cell_type": "markdown",
   "metadata": {},
   "source": [
    "# Module: File Handling Assignments\n",
    "## Lesson: File Handling and Operations\n",
    "### Assignment 1: Reading a File\n",
    "\n",
    "Write a function that reads the contents of a file named `sample.txt` and prints each line."
   ]
  },
  {
   "cell_type": "code",
   "execution_count": 7,
   "metadata": {},
   "outputs": [
    {
     "name": "stdout",
     "output_type": "stream",
     "text": [
      "hello world\n",
      "this is Hemanth.\n"
     ]
    }
   ],
   "source": [
    "def read_file(file_path):\n",
    "    with open(file_path, 'r') as file:\n",
    "        content = file.read()\n",
    "        print(content)\n",
    "\n",
    "read_file('11_test_file.txt')"
   ]
  },
  {
   "cell_type": "markdown",
   "id": "8ac70985",
   "metadata": {},
   "source": [
    "### Assignment 2: Writing to a File\n",
    "\n",
    "Write a function that writes a list of strings to a file named `output.txt`, with each string on a new line."
   ]
  },
  {
   "cell_type": "code",
   "execution_count": 14,
   "id": "cfa75ce2",
   "metadata": {},
   "outputs": [
    {
     "name": "stdout",
     "output_type": "stream",
     "text": [
      "file got written in overwrite mode\n"
     ]
    }
   ],
   "source": [
    "def write_file(file_path, lst):\n",
    "    with open(file_path, 'w') as file:\n",
    "        for str in lst:\n",
    "            file.write(str+ '\\n')\n",
    "        print('file got written in overwrite mode')\n",
    "\n",
    "write_file('11_test_file_write.txt', ['hi', 'hello','world.'])"
   ]
  },
  {
   "cell_type": "markdown",
   "id": "49bd0d88",
   "metadata": {},
   "source": [
    "### Assignment 3: Copying a File\n",
    "\n",
    "Write a function that copies the contents of a file named `source.txt` to a new file named `destination.txt`."
   ]
  },
  {
   "cell_type": "code",
   "execution_count": 16,
   "id": "c72d13ec",
   "metadata": {},
   "outputs": [
    {
     "name": "stdout",
     "output_type": "stream",
     "text": [
      "hello world\n",
      "this is Hemanth.\n",
      "file got written in overwrite mode\n"
     ]
    }
   ],
   "source": [
    "def read_write_file(source_path, destination_path):\n",
    "    with open(source_path, 'r') as file:\n",
    "        content = file.read()\n",
    "        print(content)\n",
    "    with open(destination_path, 'w') as file:\n",
    "        # for line in content:\n",
    "        #     file.write(line + '\\n')\n",
    "        file.write(content + '\\n')\n",
    "        print('file got written in overwrite mode')\n",
    "\n",
    "read_write_file('11_test_file.txt', '11_destination.txt')"
   ]
  },
  {
   "cell_type": "markdown",
   "id": "7afc7a14",
   "metadata": {},
   "source": [
    "### Assignment 4: Appending to a File\n",
    "\n",
    "Write a function that appends a given string to the end of a file named `log.txt`."
   ]
  },
  {
   "cell_type": "code",
   "execution_count": 20,
   "id": "a8d349d6",
   "metadata": {},
   "outputs": [
    {
     "name": "stdout",
     "output_type": "stream",
     "text": [
      "file got written in overwrite mode\n"
     ]
    }
   ],
   "source": [
    "def write_file(file_path, string):\n",
    "    with open(file_path, 'a') as file:\n",
    "        file.write(string + '\\n')\n",
    "        print('file got written in overwrite mode')\n",
    "\n",
    "write_file('11_log.txt', 'how are you?')"
   ]
  },
  {
   "cell_type": "markdown",
   "id": "e53e2068",
   "metadata": {},
   "source": [
    "### Assignment 5: Counting Words in a File\n",
    "\n",
    "Write a function that reads the contents of a file named `document.txt` and returns the number of words in the file."
   ]
  },
  {
   "cell_type": "code",
   "execution_count": null,
   "id": "9661cd7b",
   "metadata": {},
   "outputs": [],
   "source": []
  },
  {
   "cell_type": "markdown",
   "id": "8f2f6835",
   "metadata": {},
   "source": [
    "### Assignment 6: Finding and Replacing Text\n",
    "\n",
    "Write a function that finds and replaces all occurrences of a given word in a file named `data.txt` with another word."
   ]
  },
  {
   "cell_type": "code",
   "execution_count": 22,
   "id": "87aff172",
   "metadata": {},
   "outputs": [
    {
     "name": "stdout",
     "output_type": "stream",
     "text": [
      "file written with new content..!\n"
     ]
    }
   ],
   "source": [
    "def replace(file_path, old_word, new_word):\n",
    "    with open(file_path, 'r') as file:\n",
    "        content = file.read()\n",
    "        new_content = content.replace(old_word, new_word)\n",
    "    with open(file_path, 'w') as file:\n",
    "        file.write(new_content)\n",
    "        print(\"file written with new content..!\")\n",
    "\n",
    "\n",
    "replace('11_test_file_write.txt', 'hello', 'heyyyyyy')"
   ]
  },
  {
   "cell_type": "markdown",
   "id": "7c4d0bb7",
   "metadata": {},
   "source": [
    "### Assignment 7: Reading a File in Reverse\n",
    "\n",
    "Write a function that reads the contents of a file named `reverse.txt` and prints each line in reverse order."
   ]
  },
  {
   "cell_type": "code",
   "execution_count": 31,
   "id": "7b8652ed",
   "metadata": {},
   "outputs": [
    {
     "name": "stdout",
     "output_type": "stream",
     "text": [
      "heyyyyyyheyyyyyy\n",
      "heyyyyyy\n",
      "heyyyyyy\n",
      "world.\n",
      "heyyyyyy\n",
      "hi\n"
     ]
    }
   ],
   "source": [
    "def reverse(file_path):\n",
    "    with open(file_path, 'r') as file:\n",
    "        content = file.readlines()\n",
    "        for line in reversed(content):\n",
    "            print(line.strip())\n",
    "reverse('11_test_file_write.txt')"
   ]
  },
  {
   "cell_type": "markdown",
   "id": "936df672",
   "metadata": {},
   "source": [
    "### Assignment 8: Counting Lines, Words, and Characters\n",
    "\n",
    "Write a function that reads the contents of a file named `stats.txt` and returns the number of lines, words, and characters in the file."
   ]
  },
  {
   "cell_type": "code",
   "execution_count": 59,
   "id": "a4de6e36",
   "metadata": {},
   "outputs": [
    {
     "data": {
      "text/plain": [
       "(6, 7, 55)"
      ]
     },
     "execution_count": 59,
     "metadata": {},
     "output_type": "execute_result"
    }
   ],
   "source": [
    "def count(file_name):\n",
    "    with open(file_name, 'r') as file:\n",
    "        lines = file.readlines()\n",
    "        line_count = len(lines)\n",
    "        words_count = sum(len(line.split()) for line in lines)\n",
    "        char_count = sum(len(line) for line in lines)\n",
    "\n",
    "    return line_count, words_count, char_count\n",
    "        \n",
    "count('11_test_file_write.txt')"
   ]
  },
  {
   "cell_type": "markdown",
   "id": "a4e2a9d5",
   "metadata": {},
   "source": [
    "### Assignment 9: Merging Multiple Files\n",
    "\n",
    "Write a function that merges the contents of multiple files into a single file named `merged.txt`."
   ]
  },
  {
   "cell_type": "code",
   "execution_count": 73,
   "id": "06422156",
   "metadata": {},
   "outputs": [
    {
     "name": "stdout",
     "output_type": "stream",
     "text": [
      "11_test_file_write.txt data written into target file\n",
      "11_log.txt data written into target file\n"
     ]
    }
   ],
   "source": [
    "# def merge_files(file_1, file_2, file_3):\n",
    "#     with open(file_1, 'r') as file:\n",
    "#         content_1 = file.read()\n",
    "#     with open(file_2, 'r') as file:\n",
    "#         content_2 = file.read()\n",
    "#     with open(file_3, 'w') as file:\n",
    "#         file.write(content_1 + content_2)\n",
    "#         print(f\"data written into target file--{file_3}\")\n",
    "\n",
    "#     # print(content_1)\n",
    "#     # print(content_2)\n",
    "#     # print(content_1 + content_2)\n",
    "\n",
    "# merge_files('11_test_file_write.txt', '11_log.txt', '11_merged.txt')\n",
    "\n",
    "\n",
    "def merge_files(lst_files, target_file):\n",
    "    for src_file in lst_files:\n",
    "        with open (src_file, 'r') as file:\n",
    "            content = file.read()\n",
    "        with open (target_file, 'a') as file:\n",
    "            file.write(content)\n",
    "            print(f\"{src_file} data written into target file\")\n",
    "\n",
    "\n",
    "merge_files(['11_test_file_write.txt', '11_log.txt'], '11_merged.txt')\n"
   ]
  },
  {
   "cell_type": "markdown",
   "id": "d1299f08",
   "metadata": {},
   "source": [
    "### Assignment 10: Splitting a Large File\n",
    "\n",
    "Write a function that splits a large file named `large.txt` into smaller files of 100 lines each."
   ]
  },
  {
   "cell_type": "code",
   "execution_count": 10,
   "id": "701de736",
   "metadata": {},
   "outputs": [
    {
     "name": "stdout",
     "output_type": "stream",
     "text": [
      "0\n",
      "11_large_file.txt_part1 got created\n",
      "100\n",
      "11_large_file.txt_part2 got created\n",
      "200\n",
      "11_large_file.txt_part3 got created\n"
     ]
    }
   ],
   "source": [
    "def split_largefile(large_file, split_number):\n",
    "    with open (large_file, 'r') as file:\n",
    "        large_data_by_line = file.readlines()\n",
    "    part = 0\n",
    "    for i in range(0, len(large_data_by_line), split_number):\n",
    "        print(i)\n",
    "        part += 1\n",
    "        with open(f\"{large_file}_part{part}\", 'w') as split_file:\n",
    "            split_file.writelines(large_data_by_line[i:i+split_number])\n",
    "            print(f\"{large_file}_part{part} got created\")\n",
    "\n",
    "split_largefile('11_large_file.txt', 100)"
   ]
  },
  {
   "cell_type": "markdown",
   "id": "d35da1e0",
   "metadata": {},
   "source": [
    "### Assignment 11: Creating a Log File\n",
    "\n",
    "Write a function that creates a log file named `activity.log` and writes log messages with timestamps."
   ]
  },
  {
   "cell_type": "code",
   "execution_count": 17,
   "id": "99f57829",
   "metadata": {},
   "outputs": [
    {
     "name": "stdout",
     "output_type": "stream",
     "text": [
      "log entered in the 11_activity.log\n"
     ]
    }
   ],
   "source": [
    "import datetime as dt\n",
    "\n",
    "def log_file_creation(message, log_file='11_activity.log'):\n",
    "    with open (log_file, 'a') as file:\n",
    "        timestamp = dt.datetime.now()\n",
    "        file.write(f'{timestamp} -- {message}\\n')\n",
    "        print(f\"log entered in the {log_file}\")\n",
    "\n",
    "\n",
    "log_file_creation('where are you?')\n"
   ]
  },
  {
   "cell_type": "markdown",
   "id": "24139278",
   "metadata": {},
   "source": [
    "### Assignment 12: Binary File Operations\n",
    "\n",
    "Write a function that reads a binary file named `image.bin` and writes its contents to another binary file named `copy_image.bin`."
   ]
  },
  {
   "cell_type": "code",
   "execution_count": null,
   "id": "feacf48f",
   "metadata": {},
   "outputs": [],
   "source": []
  },
  {
   "cell_type": "markdown",
   "id": "104d0abf",
   "metadata": {},
   "source": [
    "### Assignment 13: CSV File Operations\n",
    "\n",
    "Write a function that reads a CSV file named `data.csv` and prints its contents as a list of dictionaries."
   ]
  },
  {
   "cell_type": "code",
   "execution_count": 23,
   "id": "3a7af03d",
   "metadata": {},
   "outputs": [
    {
     "data": {
      "text/plain": [
       "[{'asfdsgsd asfA DVKGADS SACVD': 'esvfdb'},\n",
       " {'asfdsgsd asfA DVKGADS SACVD': ' asdv x '},\n",
       " {'asfdsgsd asfA DVKGADS SACVD': ' VzAScvsd VzAScvsd ZX ZX D'},\n",
       " {'asfdsgsd asfA DVKGADS SACVD': ' ADVZC S '},\n",
       " {'asfdsgsd asfA DVKGADS SACVD': ' AFESVXC '},\n",
       " {'asfdsgsd asfA DVKGADS SACVD': 'dv  zxcvfdbdfb'},\n",
       " {'asfdsgsd asfA DVKGADS SACVD': ' vzbzdcv '}]"
      ]
     },
     "execution_count": 23,
     "metadata": {},
     "output_type": "execute_result"
    }
   ],
   "source": [
    "import csv\n",
    "\n",
    "def csv_reader(file_name):\n",
    "    with open(file_name, 'r') as csv_file:\n",
    "        content = csv.DictReader(csv_file)\n",
    "        return list(content)\n",
    "\n",
    "csv_reader('11_data.csv')"
   ]
  },
  {
   "cell_type": "markdown",
   "id": "aca1149e",
   "metadata": {},
   "source": [
    "### Assignment 14: JSON File Operations\n",
    "\n",
    "Write a function that reads a JSON file named `data.json` and prints its contents as a Python dictionary."
   ]
  },
  {
   "cell_type": "code",
   "execution_count": 25,
   "id": "47b3caa4",
   "metadata": {},
   "outputs": [
    {
     "data": {
      "text/plain": [
       "[{'id': 1, 'name': 'John Doe', 'age': 30, 'city': 'New York'},\n",
       " {'id': 2, 'name': 'Jane Smith', 'age': 25, 'city': 'Los Angeles'},\n",
       " {'id': 3, 'name': 'Sam Johnson', 'age': 35, 'city': 'Chicago'},\n",
       " {'id': 4, 'name': 'Emily Davis', 'age': 28, 'city': 'Houston'},\n",
       " {'id': 5, 'name': 'Michael Brown', 'age': 40, 'city': 'Phoenix'}]"
      ]
     },
     "execution_count": 25,
     "metadata": {},
     "output_type": "execute_result"
    }
   ],
   "source": [
    "import json\n",
    "\n",
    "def json_reader(file_name):\n",
    "    with open(file_name, 'r') as json_file:\n",
    "        content = json.load(json_file)\n",
    "        return content\n",
    "    \n",
    "json_reader('11_data.json')"
   ]
  },
  {
   "cell_type": "markdown",
   "id": "c148b8d1",
   "metadata": {},
   "source": [
    "### Assignment 15: File Permission Handling\n",
    "\n",
    "Write a function that attempts to read a file named `protected.txt` and handles any permission errors gracefully by printing an error message."
   ]
  },
  {
   "cell_type": "code",
   "execution_count": null,
   "id": "75a44938",
   "metadata": {},
   "outputs": [],
   "source": []
  }
 ],
 "metadata": {
  "kernelspec": {
   "display_name": "venv",
   "language": "python",
   "name": "python3"
  },
  "language_info": {
   "codemirror_mode": {
    "name": "ipython",
    "version": 3
   },
   "file_extension": ".py",
   "mimetype": "text/x-python",
   "name": "python",
   "nbconvert_exporter": "python",
   "pygments_lexer": "ipython3",
   "version": "3.10.0"
  }
 },
 "nbformat": 4,
 "nbformat_minor": 5
}
