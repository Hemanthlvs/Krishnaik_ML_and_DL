{
 "cells": [
  {
   "cell_type": "markdown",
   "metadata": {},
   "source": [
    "# Module 3: Data Structures Assignments\n",
    "## Lesson 3.3: Sets\n",
    "### Assignment 1: Creating and Accessing Sets\n",
    "\n",
    "Create a set with the first 10 positive integers. Print the set."
   ]
  },
  {
   "cell_type": "code",
   "execution_count": 1,
   "metadata": {},
   "outputs": [
    {
     "name": "stdout",
     "output_type": "stream",
     "text": [
      "{1, 2, 3, 4, 5, 6, 7, 8, 9, 10}\n"
     ]
    }
   ],
   "source": [
    "st = set(range(1,11))\n",
    "print(st)"
   ]
  },
  {
   "cell_type": "markdown",
   "id": "5ebc66b5",
   "metadata": {},
   "source": [
    "### Assignment 2: Adding and Removing Elements\n",
    "\n",
    "Add the number 11 to the set created in Assignment 1. Then remove the number 1 from the set. Print the modified set.\n"
   ]
  },
  {
   "cell_type": "code",
   "execution_count": 4,
   "id": "b1c583d0",
   "metadata": {},
   "outputs": [
    {
     "name": "stdout",
     "output_type": "stream",
     "text": [
      "{2, 3, 4, 5, 6, 7, 8, 9, 10, 11}\n"
     ]
    }
   ],
   "source": [
    "st.add(11)\n",
    "st.discard(1) #this will help to remove a element. even the element is not there it wont show an error.\n",
    "print(st)"
   ]
  },
  {
   "cell_type": "markdown",
   "id": "be11c2df",
   "metadata": {},
   "source": [
    "### Assignment 3: Set Operations\n",
    "\n",
    "Create two sets: one with the first 5 positive integers and another with the first 5 even integers. Perform and print the results of union, intersection, difference, and symmetric difference operations on these sets."
   ]
  },
  {
   "cell_type": "code",
   "execution_count": 34,
   "id": "4eb12c6a",
   "metadata": {},
   "outputs": [
    {
     "name": "stdout",
     "output_type": "stream",
     "text": [
      "{1, 2, 3, 4, 5}\n",
      "{2, 4, 6, 8, 10}\n",
      "union set : {1, 2, 3, 4, 5, 6, 8, 10}\n",
      "intersection set : {2, 4}\n",
      "difference set : {1, 3, 5}\n",
      "symmetric_difference set : {1, 3, 5, 6, 8, 10}\n",
      "Union: {1, 2, 3, 4, 5, 6, 8, 10}\n",
      "Intersection: {2, 4}\n",
      "Difference (set_1 - set_2): {1, 3, 5}\n",
      "Symmetric Difference: {1, 3, 5, 6, 8, 10}\n"
     ]
    }
   ],
   "source": [
    "set_1 = set(range(1,6))\n",
    "set_2 = set(range(2,11,2))\n",
    "print(set_1)\n",
    "print(set_2)\n",
    "\n",
    "union_set = set_1.union(set_2)\n",
    "print(f\"union set : {union_set}\")\n",
    "\n",
    "union_set = set_1.intersection(set_2)\n",
    "print(f\"intersection set : {union_set}\")\n",
    "\n",
    "union_set = set_1.difference(set_2)\n",
    "print(f\"difference set : {union_set}\")\n",
    "\n",
    "union_set = set_1.symmetric_difference(set_2)\n",
    "print(f\"symmetric_difference set : {union_set}\")\n",
    "\n",
    "\n",
    "print(f\"Union: {set_1 | set_2}\")\n",
    "print(f\"Intersection: {set_1 & set_2}\")\n",
    "print(f\"Difference (set_1 - set_2): {set_1 - set_2}\")\n",
    "print(f\"Symmetric Difference: {set_1 ^ set_2}\")"
   ]
  },
  {
   "cell_type": "markdown",
   "id": "ec834c8d",
   "metadata": {},
   "source": [
    "### Assignment 4: Set Comprehensions\n",
    "\n",
    "Create a new set containing the squares of the first 10 positive integers using a set comprehension. Print the new set."
   ]
  },
  {
   "cell_type": "code",
   "execution_count": 11,
   "id": "f7f04502",
   "metadata": {},
   "outputs": [
    {
     "data": {
      "text/plain": [
       "{1, 4, 9, 16, 25, 36, 49, 64, 81, 100}"
      ]
     },
     "execution_count": 11,
     "metadata": {},
     "output_type": "execute_result"
    }
   ],
   "source": [
    "set_1 = set(range(1,11))\n",
    "squares = {x*x for x in set_1}\n",
    "squares"
   ]
  },
  {
   "cell_type": "markdown",
   "id": "66298f65",
   "metadata": {},
   "source": [
    "### Assignment 5: Filtering Sets\n",
    "\n",
    "Create a new set containing only the even numbers from the set created in Assignment 1 using a set comprehension. Print the new set."
   ]
  },
  {
   "cell_type": "code",
   "execution_count": 14,
   "id": "9f659783",
   "metadata": {},
   "outputs": [
    {
     "data": {
      "text/plain": [
       "{2, 4, 6, 8, 10}"
      ]
     },
     "execution_count": 14,
     "metadata": {},
     "output_type": "execute_result"
    }
   ],
   "source": [
    "even_numbers = {x for x in set_1 if x%2 == 0}\n",
    "even_numbers"
   ]
  },
  {
   "cell_type": "markdown",
   "id": "9b853589",
   "metadata": {},
   "source": [
    "### Assignment 6: Set Methods\n",
    "\n",
    "Create a set with duplicate elements and remove the duplicates using set methods. Print the modified set."
   ]
  },
  {
   "cell_type": "code",
   "execution_count": 16,
   "id": "7159e301",
   "metadata": {},
   "outputs": [
    {
     "data": {
      "text/plain": [
       "{1, 2, 3, 4, 5, 6, 7}"
      ]
     },
     "execution_count": 16,
     "metadata": {},
     "output_type": "execute_result"
    }
   ],
   "source": [
    "set_dup = {1,2,2,3,4,5,5,6,7,7}\n",
    "set_dup"
   ]
  },
  {
   "cell_type": "markdown",
   "id": "50c940db",
   "metadata": {},
   "source": [
    "### Assignment 7: Subsets and Supersets\n",
    "\n",
    "Create two sets: one with the first 5 positive integers and another with the first 3 positive integers. Check if the second set is a subset of the first set and if the first set is a superset of the second set. Print the results."
   ]
  },
  {
   "cell_type": "code",
   "execution_count": 38,
   "id": "7092499d",
   "metadata": {},
   "outputs": [
    {
     "name": "stdout",
     "output_type": "stream",
     "text": [
      "{1, 2, 3, 4, 5}\n",
      "{1, 2, 3}\n",
      "subset : True\n",
      "superset : True\n"
     ]
    }
   ],
   "source": [
    "set_1 = set(range(1,6))\n",
    "set_2 = set(range(1,4))\n",
    "print(set_1)\n",
    "print(set_2)\n",
    "\n",
    "print(f\"subset : {set_2.issubset(set_1)}\")\n",
    "print(f\"superset : {set_1.issuperset(set_2)}\")"
   ]
  },
  {
   "cell_type": "markdown",
   "id": "e7d4e66a",
   "metadata": {},
   "source": [
    "### Assignment 8: Frozenset\n",
    "\n",
    "Create a frozenset with the first 5 positive integers. Print the frozenset."
   ]
  },
  {
   "cell_type": "code",
   "execution_count": 19,
   "id": "dbaaa9e3",
   "metadata": {},
   "outputs": [
    {
     "data": {
      "text/plain": [
       "frozenset({1, 2, 3, 4, 5, 6, 7})"
      ]
     },
     "execution_count": 19,
     "metadata": {},
     "output_type": "execute_result"
    }
   ],
   "source": [
    "set_1 = {1,2,3,4,5,6,7}\n",
    "frozen_st = frozenset(set_1)\n",
    "frozen_st"
   ]
  },
  {
   "cell_type": "markdown",
   "id": "1420098b",
   "metadata": {},
   "source": [
    "### Assignment 9: Set and List Conversion\n",
    "\n",
    "Create a set with the first 5 positive integers. Convert it to a list, append the number 6, and convert it back to a set. Print the resulting set."
   ]
  },
  {
   "cell_type": "code",
   "execution_count": 27,
   "id": "8627ffd4",
   "metadata": {},
   "outputs": [
    {
     "name": "stdout",
     "output_type": "stream",
     "text": [
      "{1, 2, 3, 4, 5}\n",
      "[1, 2, 3, 4, 5, 6]\n",
      "{1, 2, 3, 4, 5, 6}\n"
     ]
    }
   ],
   "source": [
    "st = set(range(1,6))\n",
    "print(st)\n",
    "lst = list(st)\n",
    "lst.append(6)\n",
    "print(lst)\n",
    "st = set(lst)\n",
    "print(st)"
   ]
  },
  {
   "cell_type": "markdown",
   "id": "a2e3f7d9",
   "metadata": {},
   "source": [
    "### Assignment 10: Set and Dictionary\n",
    "\n",
    "Create a dictionary with set keys and integer values. Print the dictionary."
   ]
  },
  {
   "cell_type": "code",
   "execution_count": 40,
   "id": "1c657830",
   "metadata": {},
   "outputs": [
    {
     "name": "stdout",
     "output_type": "stream",
     "text": [
      "1\n",
      "2\n",
      "3\n",
      "4\n",
      "5\n",
      "6\n",
      "7\n",
      "8\n"
     ]
    }
   ],
   "source": []
  },
  {
   "cell_type": "markdown",
   "id": "3c75af6d",
   "metadata": {},
   "source": [
    "### Assignment 11: Iterating Over Sets\n",
    "\n",
    "Create a set and iterate over the elements, printing each element."
   ]
  },
  {
   "cell_type": "code",
   "execution_count": 45,
   "id": "de6d821c",
   "metadata": {},
   "outputs": [
    {
     "name": "stdout",
     "output_type": "stream",
     "text": [
      "1\n",
      "2\n",
      "3\n",
      "4\n",
      "5\n",
      "6\n",
      "7\n",
      "8\n"
     ]
    }
   ],
   "source": [
    "st = {1,2,3,4,5,6,7,8}\n",
    "for e in st:\n",
    "    print(e)"
   ]
  },
  {
   "cell_type": "markdown",
   "id": "f3f3c733",
   "metadata": {},
   "source": [
    "### Assignment 12: Removing Elements from Sets\n",
    "\n",
    "Create a set and remove elements from it until it is empty. Print the set after each removal."
   ]
  },
  {
   "cell_type": "code",
   "execution_count": 46,
   "id": "3981075b",
   "metadata": {},
   "outputs": [
    {
     "name": "stdout",
     "output_type": "stream",
     "text": [
      "{2, 3, 4, 5, 6, 7, 8}\n",
      "{3, 4, 5, 6, 7, 8}\n",
      "{4, 5, 6, 7, 8}\n",
      "{5, 6, 7, 8}\n",
      "{6, 7, 8}\n",
      "{7, 8}\n",
      "{8}\n",
      "set()\n"
     ]
    }
   ],
   "source": [
    "while st:\n",
    "    st.pop()\n",
    "    print(st)"
   ]
  },
  {
   "cell_type": "markdown",
   "id": "6f1f0135",
   "metadata": {},
   "source": [
    "### Assignment 13: Set Symmetric Difference Update\n",
    "\n",
    "Create two sets and update the first set with the symmetric difference of the two sets. Print the modified first set."
   ]
  },
  {
   "cell_type": "code",
   "execution_count": 48,
   "id": "2cb60058",
   "metadata": {},
   "outputs": [
    {
     "name": "stdout",
     "output_type": "stream",
     "text": [
      "{1, 2, 3, 8, 9, 10}\n"
     ]
    }
   ],
   "source": [
    "set_1 = {1,2,3,4,5,6,7}\n",
    "set_2 = {4,5,6,7,8,9,10}\n",
    "\n",
    "set_1.symmetric_difference_update(set_2)\n",
    "print(set_1)"
   ]
  },
  {
   "cell_type": "markdown",
   "id": "427747c8",
   "metadata": {},
   "source": [
    "### Assignment 14: Set Membership Testing\n",
    "\n",
    "Create a set and test if certain elements are present in the set. Print the results."
   ]
  },
  {
   "cell_type": "code",
   "execution_count": 50,
   "id": "18be9dea",
   "metadata": {},
   "outputs": [
    {
     "name": "stdout",
     "output_type": "stream",
     "text": [
      "True\n",
      "False\n"
     ]
    }
   ],
   "source": [
    "set_1 = {1,2,3,4,5,7,8,9}\n",
    "\n",
    "print(3 in set_1)\n",
    "print(6 in set_1)"
   ]
  },
  {
   "cell_type": "markdown",
   "id": "fd9ea87c",
   "metadata": {},
   "source": [
    "### Assignment 15: Set of Tuples\n",
    "\n",
    "Create a set containing tuples, where each tuple contains two elements. Print the set."
   ]
  },
  {
   "cell_type": "code",
   "execution_count": 33,
   "id": "9a4aea2e",
   "metadata": {},
   "outputs": [
    {
     "name": "stdout",
     "output_type": "stream",
     "text": [
      "{(2, 4), (1, 2), (3, 6)}\n"
     ]
    }
   ],
   "source": [
    "st_tup = {(1,2),(2,4),(3,6)}\n",
    "print(st_tup)"
   ]
  }
 ],
 "metadata": {
  "kernelspec": {
   "display_name": "venv",
   "language": "python",
   "name": "python3"
  },
  "language_info": {
   "codemirror_mode": {
    "name": "ipython",
    "version": 3
   },
   "file_extension": ".py",
   "mimetype": "text/x-python",
   "name": "python",
   "nbconvert_exporter": "python",
   "pygments_lexer": "ipython3",
   "version": "3.10.0"
  }
 },
 "nbformat": 4,
 "nbformat_minor": 5
}
