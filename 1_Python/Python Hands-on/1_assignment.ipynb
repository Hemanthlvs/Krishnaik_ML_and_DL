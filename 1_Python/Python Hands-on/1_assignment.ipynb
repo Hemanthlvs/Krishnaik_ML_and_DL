{
 "cells": [
  {
   "cell_type": "markdown",
   "metadata": {},
   "source": [
    "# Lesson 1.2: Python Basics\n",
    "## Topics Covered:\n",
    "- Syntax and Semantics\n",
    "- Variables and Data Types\n",
    "- Basic Operators (Arithmetic, Comparison, Logical)\n"
   ]
  },
  {
   "cell_type": "markdown",
   "metadata": {},
   "source": [
    "## 1. Syntax and Semantics\n",
    "\n",
    "**Question 1:** Write a Python program to print \"Hello, World!\"."
   ]
  },
  {
   "cell_type": "code",
   "execution_count": 3,
   "metadata": {},
   "outputs": [
    {
     "name": "stdout",
     "output_type": "stream",
     "text": [
      "Hello world\n"
     ]
    }
   ],
   "source": [
    "print(\"Hello world\")"
   ]
  },
  {
   "cell_type": "markdown",
   "metadata": {},
   "source": [
    "**Question 2:** Write a Python program that takes a user input and prints it."
   ]
  },
  {
   "cell_type": "code",
   "execution_count": 4,
   "metadata": {},
   "outputs": [
    {
     "name": "stdout",
     "output_type": "stream",
     "text": [
      "yo\n"
     ]
    }
   ],
   "source": [
    "print(input(\"provide your input to print!\"))"
   ]
  },
  {
   "cell_type": "markdown",
   "metadata": {},
   "source": [
    "**Question 3:** Write a Python program to check if a number is positive, negative, or zero."
   ]
  },
  {
   "cell_type": "code",
   "execution_count": 13,
   "metadata": {},
   "outputs": [
    {
     "name": "stdout",
     "output_type": "stream",
     "text": [
      "given number is Zero\n"
     ]
    }
   ],
   "source": [
    "a = int(input())\n",
    "\n",
    "if a > 0 :\n",
    "    print(\"given number is Positive\")\n",
    "elif a < 0 :\n",
    "    print(\"given number is Negative\")\n",
    "else:\n",
    "    print(\"given number is Zero\")\n"
   ]
  },
  {
   "cell_type": "markdown",
   "metadata": {},
   "source": [
    "**Question 4:** Write a Python program to find the largest of three numbers."
   ]
  },
  {
   "cell_type": "code",
   "execution_count": 17,
   "metadata": {},
   "outputs": [
    {
     "name": "stdout",
     "output_type": "stream",
     "text": [
      "second number 20 is the largest number\n"
     ]
    }
   ],
   "source": [
    "a = int(input(\"First number\"))\n",
    "b = int(input(\"Second number\"))\n",
    "c = int(input(\"Thrid number\"))\n",
    "\n",
    "if a>b and a>c:\n",
    "    print(f\"first number {a} is the largest number\")\n",
    "elif b>c and b>a:\n",
    "    print(f\"second number {b} is the largest number\")\n",
    "else:\n",
    "    print(f\"third number {c} is the largest number\")"
   ]
  },
  {
   "cell_type": "markdown",
   "metadata": {},
   "source": [
    "**Question 5:** Write a Python program to calculate the factorial of a number."
   ]
  },
  {
   "cell_type": "code",
   "execution_count": 19,
   "metadata": {},
   "outputs": [
    {
     "data": {
      "text/plain": [
       "6"
      ]
     },
     "execution_count": 19,
     "metadata": {},
     "output_type": "execute_result"
    }
   ],
   "source": [
    "#recursive approach\n",
    "\n",
    "def factorial(number):\n",
    "    if number == 0 or number == 1:\n",
    "        return 1\n",
    "    elif number < 0:\n",
    "        print(\"given number is not valid\")\n",
    "    else:\n",
    "        return(number * factorial(number - 1))\n",
    "        \n",
    "\n",
    "factorial(int(input(\"give the number to check factorial\")))"
   ]
  },
  {
   "cell_type": "code",
   "execution_count": 76,
   "metadata": {},
   "outputs": [
    {
     "name": "stdout",
     "output_type": "stream",
     "text": [
      "6\n"
     ]
    }
   ],
   "source": [
    "# Iterative approach\n",
    "\n",
    "def factorial(number):\n",
    "    if number == 0 or number == 1:\n",
    "        return 1\n",
    "    elif number < 0:\n",
    "        print(\"given number is not valid\")\n",
    "    else : \n",
    "        result = 1       \n",
    "        for i in range(1, number+1):\n",
    "            result = result * i\n",
    "            #print(result)\n",
    "        print(result)\n",
    "\n",
    "factorial(int(input(\"give the number to check factorial\")))"
   ]
  },
  {
   "cell_type": "markdown",
   "metadata": {},
   "source": [
    "## 2. Variables and Data Types\n",
    "\n",
    "**Question 6:** Create variables of different data types: integer, float, string, and boolean. Print their values and types."
   ]
  },
  {
   "cell_type": "code",
   "execution_count": 25,
   "metadata": {},
   "outputs": [
    {
     "name": "stdout",
     "output_type": "stream",
     "text": [
      "value of a is 10 and it's data type is <class 'int'>\n",
      "value of a is hemanth and it's data type is <class 'str'>\n",
      "value of a is 20.5 and it's data type is <class 'float'>\n",
      "value of a is True and it's data type is <class 'bool'>\n"
     ]
    }
   ],
   "source": [
    "a = 10\n",
    "b = 'hemanth'\n",
    "c = 20.5\n",
    "d = True\n",
    "\n",
    "print(f\"value of a is {a} and it's data type is {type(a)}\")\n",
    "print(f\"value of a is {b} and it's data type is {type(b)}\")\n",
    "print(f\"value of a is {c} and it's data type is {type(c)}\")\n",
    "print(f\"value of a is {d} and it's data type is {type(d)}\")"
   ]
  },
  {
   "cell_type": "markdown",
   "metadata": {},
   "source": [
    "**Question 7:** Write a Python program to swap the values of two variables."
   ]
  },
  {
   "cell_type": "code",
   "execution_count": 28,
   "metadata": {},
   "outputs": [
    {
     "name": "stdout",
     "output_type": "stream",
     "text": [
      "10\n"
     ]
    }
   ],
   "source": [
    "value_1 = 10\n",
    "value_2 = value_1\n",
    "\n",
    "print(value_2)"
   ]
  },
  {
   "cell_type": "markdown",
   "metadata": {},
   "source": [
    "**Question 8:** Write a Python program to convert Celsius to Fahrenheit."
   ]
  },
  {
   "cell_type": "code",
   "execution_count": 32,
   "metadata": {},
   "outputs": [
    {
     "name": "stdout",
     "output_type": "stream",
     "text": [
      "fahrenheit value for 25C is : 77.0F\n"
     ]
    }
   ],
   "source": [
    "celsius = int(input(\"give the temp in celsius\"))\n",
    "\n",
    "fahrenheit = (celsius * (9/5))+32\n",
    "print(f\"fahrenheit value for {celsius}C is : {fahrenheit}F\")"
   ]
  },
  {
   "cell_type": "markdown",
   "metadata": {},
   "source": [
    "**Question 9:** Write a Python program to concatenate two strings."
   ]
  },
  {
   "cell_type": "code",
   "execution_count": 33,
   "metadata": {},
   "outputs": [
    {
     "data": {
      "text/plain": [
       "'L.V.S. Hemanth'"
      ]
     },
     "execution_count": 33,
     "metadata": {},
     "output_type": "execute_result"
    }
   ],
   "source": [
    "a = \"L.V.S. \"\n",
    "b = \"Hemanth\"\n",
    "\n",
    "a+b"
   ]
  },
  {
   "cell_type": "markdown",
   "metadata": {},
   "source": [
    "**Question 10:** Write a Python program to check if a variable is of a specific data type."
   ]
  },
  {
   "cell_type": "code",
   "execution_count": null,
   "metadata": {},
   "outputs": [
    {
     "name": "stdout",
     "output_type": "stream",
     "text": [
      "given value is string\n"
     ]
    }
   ],
   "source": [
    "check = 10\n",
    "\n",
    "if type(check) == str:\n",
    "    print(\"given value is string\")\n",
    "elif type(check) == int:\n",
    "    print(\"given value is integer\")\n",
    "elif type(check) == float:\n",
    "    print(\"given value is float\")\n",
    "elif type(check) == bool:\n",
    "    print(\"given value is Boolean\")\n",
    "else : \n",
    "    print(\"un identified value\")\n",
    "\n"
   ]
  },
  {
   "cell_type": "markdown",
   "metadata": {},
   "source": [
    "## 3. Basic Operators (Arithmetic, Comparison, Logical)\n",
    "\n",
    "**Question 11:** Write a Python program to perform arithmetic operations: addition, subtraction, multiplication, and division."
   ]
  },
  {
   "cell_type": "code",
   "execution_count": 48,
   "metadata": {},
   "outputs": [
    {
     "name": "stdout",
     "output_type": "stream",
     "text": [
      "Addition of given numbers is 30\n",
      "Addition of given numbers is -10\n",
      "Addition of given numbers is 0.5\n",
      "Addition of given numbers is 200\n"
     ]
    }
   ],
   "source": [
    "def Add(a, b):\n",
    "    print(f\"Addition of given numbers is {a+b}\")\n",
    "def Sub(a, b):\n",
    "    print(f\"Addition of given numbers is {a-b}\")\n",
    "def Mult(a, b):\n",
    "    print(f\"Addition of given numbers is {a*b}\")\n",
    "def Div(a, b):\n",
    "    print(f\"Addition of given numbers is {a/b}\")   \n",
    "\n",
    "\n",
    "Add(10,20)\n",
    "Sub(10,20)\n",
    "Div(10,20)\n",
    "Mult(10,20)\n",
    "\n",
    "\n"
   ]
  },
  {
   "cell_type": "markdown",
   "metadata": {},
   "source": [
    "**Question 12:** Write a Python program to demonstrate comparison operators: equal to, not equal to, greater than, less than."
   ]
  },
  {
   "cell_type": "code",
   "execution_count": 49,
   "metadata": {},
   "outputs": [
    {
     "name": "stdout",
     "output_type": "stream",
     "text": [
      "given numbers are not equal\n",
      "d is greater than c\n"
     ]
    }
   ],
   "source": [
    "a = 10\n",
    "b = 20\n",
    "\n",
    "if a == b :\n",
    "    print(\"given numbers are equal\")\n",
    "elif a != b :\n",
    "    print(\"given numbers are not equal\")\n",
    "\n",
    "c = 10\n",
    "d = 20\n",
    "\n",
    "if c > d :\n",
    "    print(\"C is greater than d\")\n",
    "elif c < d :\n",
    "    print(\"d is greater than c\")"
   ]
  },
  {
   "cell_type": "markdown",
   "metadata": {},
   "source": [
    "**Question 13:** Write a Python program to demonstrate logical operators: and, or, not."
   ]
  },
  {
   "cell_type": "code",
   "execution_count": 51,
   "metadata": {},
   "outputs": [
    {
     "name": "stdout",
     "output_type": "stream",
     "text": [
      "one of the given number is positive\n",
      "False\n"
     ]
    }
   ],
   "source": [
    "a = 10\n",
    "b = 20\n",
    "\n",
    "\n",
    "if a>0 and b>20:\n",
    "    print(\"both given numbers are positive\")\n",
    "elif a>0 or b>20:\n",
    "    print(\"one of the given number is positive\")\n",
    "\n",
    "c= True\n",
    "print (not c)\n",
    "\n"
   ]
  },
  {
   "cell_type": "markdown",
   "metadata": {},
   "source": [
    "**Question 14:** Write a Python program to calculate the square of a number."
   ]
  },
  {
   "cell_type": "code",
   "execution_count": 53,
   "metadata": {},
   "outputs": [
    {
     "name": "stdout",
     "output_type": "stream",
     "text": [
      "25\n"
     ]
    }
   ],
   "source": [
    "def square(n):\n",
    "    print(n*n)\n",
    "\n",
    "\n",
    "square(5)"
   ]
  },
  {
   "cell_type": "markdown",
   "metadata": {},
   "source": [
    "**Question 15:** Write a Python program to check if a number is even or odd."
   ]
  },
  {
   "cell_type": "code",
   "execution_count": 59,
   "metadata": {},
   "outputs": [
    {
     "name": "stdout",
     "output_type": "stream",
     "text": [
      "Given number is odd\n"
     ]
    }
   ],
   "source": [
    "def check_even_or_odd(n):\n",
    "    if n%2 == 0:\n",
    "        print(\"Given number is even\")\n",
    "    else :\n",
    "        print(\"Given number is odd\")\n",
    "\n",
    "check_even_or_odd(1)"
   ]
  },
  {
   "cell_type": "markdown",
   "metadata": {},
   "source": [
    "**Question 16:** Write a Python program to find the sum of the first n natural numbers."
   ]
  },
  {
   "cell_type": "code",
   "execution_count": 80,
   "metadata": {},
   "outputs": [
    {
     "name": "stdout",
     "output_type": "stream",
     "text": [
      "1\n",
      "3\n",
      "6\n",
      "10\n",
      "15\n",
      "21\n",
      "28\n",
      "36\n",
      "45\n",
      "55\n",
      "55\n"
     ]
    }
   ],
   "source": [
    "def sum(n):\n",
    "    result = 0\n",
    "    for i in range(1, n+1):\n",
    "        result = result + i\n",
    "        print(result)\n",
    "    print(result)\n",
    "    \n",
    "sum(10)"
   ]
  },
  {
   "cell_type": "markdown",
   "metadata": {},
   "source": [
    "**Question 17:** Write a Python program to check if a year is a leap year."
   ]
  },
  {
   "cell_type": "code",
   "execution_count": 71,
   "metadata": {},
   "outputs": [
    {
     "name": "stdout",
     "output_type": "stream",
     "text": [
      "This is not a leap year\n"
     ]
    }
   ],
   "source": [
    "year = 2025\n",
    "\n",
    "if year % 4 == 0 and ( year % 100 !=0 or year % 400 == 0):\n",
    "    print(\"this is a leap year\")\n",
    "else :\n",
    "    print(\"This is not a leap year\")"
   ]
  },
  {
   "cell_type": "markdown",
   "metadata": {},
   "source": [
    "**Question 18:** Write a Python program to reverse a string."
   ]
  },
  {
   "cell_type": "code",
   "execution_count": 86,
   "metadata": {},
   "outputs": [
    {
     "name": "stdout",
     "output_type": "stream",
     "text": [
      "HemeH\n"
     ]
    }
   ],
   "source": [
    "string = 'HemeH'\n",
    "\n",
    "reversed_string = string[::-1]\n",
    "\n",
    "print(reversed_string)"
   ]
  },
  {
   "cell_type": "markdown",
   "metadata": {},
   "source": [
    "**Question 19:** Write a Python program to check if a string is a palindrome."
   ]
  },
  {
   "cell_type": "code",
   "execution_count": 87,
   "metadata": {},
   "outputs": [
    {
     "name": "stdout",
     "output_type": "stream",
     "text": [
      "Given string is palindrome\n"
     ]
    }
   ],
   "source": [
    "if reversed_string == string:\n",
    "    print(\"Given string is palindrome\")\n",
    "else :\n",
    "    print(\"Given name is not palindrome\")"
   ]
  },
  {
   "cell_type": "markdown",
   "metadata": {},
   "source": [
    "**Question 20:** Write a Python program to sort a list of numbers in ascending order."
   ]
  },
  {
   "cell_type": "code",
   "execution_count": 90,
   "metadata": {},
   "outputs": [
    {
     "name": "stdout",
     "output_type": "stream",
     "text": [
      "[1, 2, 3, 5, 6]\n"
     ]
    }
   ],
   "source": [
    "numbers = [5,6,2,3,1]\n",
    "numbers.sort()\n",
    "print(numbers)"
   ]
  }
 ],
 "metadata": {
  "kernelspec": {
   "display_name": "venv",
   "language": "python",
   "name": "python3"
  },
  "language_info": {
   "codemirror_mode": {
    "name": "ipython",
    "version": 3
   },
   "file_extension": ".py",
   "mimetype": "text/x-python",
   "name": "python",
   "nbconvert_exporter": "python",
   "pygments_lexer": "ipython3",
   "version": "3.10.0"
  }
 },
 "nbformat": 4,
 "nbformat_minor": 4
}
