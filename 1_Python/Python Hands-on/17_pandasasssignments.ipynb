{
 "cells": [
  {
   "cell_type": "markdown",
   "metadata": {},
   "source": [
    "# Module: Pandas Assignments\n",
    "## Lesson: Pandas\n",
    "### Assignment 1: DataFrame Creation and Indexing\n",
    "\n",
    "1. Create a Pandas DataFrame with 4 columns and 6 rows filled with random integers. Set the index to be the first column."
   ]
  },
  {
   "cell_type": "code",
   "execution_count": 1,
   "metadata": {},
   "outputs": [],
   "source": [
    "import pandas as pd\n",
    "import numpy as np"
   ]
  },
  {
   "cell_type": "code",
   "execution_count": 2,
   "id": "51f6b18f",
   "metadata": {},
   "outputs": [
    {
     "name": "stdout",
     "output_type": "stream",
     "text": [
      "   A  B  C  D\n",
      "0  6  1  8  6\n",
      "1  2  8  4  9\n",
      "2  2  7  6  7\n",
      "3  2  5  3  3\n",
      "4  8  3  7  4\n",
      "5  1  1  8  6\n",
      "   B  C  D\n",
      "A         \n",
      "6  1  8  6\n",
      "2  8  4  9\n",
      "2  7  6  7\n",
      "2  5  3  3\n",
      "8  3  7  4\n",
      "1  1  8  6\n"
     ]
    }
   ],
   "source": [
    "df = pd.DataFrame(np.random.randint(1,10,size=(6,4)), columns=('A','B','C','D'))\n",
    "print(df)\n",
    "df.set_index('A', inplace=True)\n",
    "print(df)"
   ]
  },
  {
   "cell_type": "markdown",
   "id": "69d77f99",
   "metadata": {},
   "source": [
    "2. Create a Pandas DataFrame with columns 'A', 'B', 'C' and index 'X', 'Y', 'Z'. Fill the DataFrame with random integers and access the element at row 'Y' and column 'B'."
   ]
  },
  {
   "cell_type": "code",
   "execution_count": 9,
   "id": "6781df33",
   "metadata": {},
   "outputs": [
    {
     "name": "stdout",
     "output_type": "stream",
     "text": [
      "   A  B  C\n",
      "x  8  3  9\n",
      "y  3  1  3\n",
      "z  4  2  8\n",
      "1\n"
     ]
    }
   ],
   "source": [
    "df = pd.DataFrame(np.random.randint(1,10,size=(3,3)), columns = ('A','B','C'), index = ('x','y','z'))\n",
    "print(df)\n",
    "\n",
    "print(df.at['y','B'])"
   ]
  },
  {
   "cell_type": "markdown",
   "id": "6706bbe2",
   "metadata": {},
   "source": [
    "### Assignment 2: DataFrame Operations\n",
    "\n",
    "1. Create a Pandas DataFrame with 3 columns and 5 rows filled with random integers. Add a new column that is the product of the first two columns."
   ]
  },
  {
   "cell_type": "code",
   "execution_count": 19,
   "id": "de05961b",
   "metadata": {},
   "outputs": [
    {
     "name": "stdout",
     "output_type": "stream",
     "text": [
      "   0  1  2\n",
      "0  2  8  2\n",
      "1  8  1  3\n",
      "2  7  6  5\n",
      "3  5  2  8\n",
      "4  8  4  5\n",
      "   0  1  2   3\n",
      "0  2  8  2  16\n",
      "1  8  1  3   8\n",
      "2  7  6  5  42\n",
      "3  5  2  8  10\n",
      "4  8  4  5  32\n"
     ]
    }
   ],
   "source": [
    "df = pd.DataFrame(np.random.randint(1,10,size=(5,3)))\n",
    "print(df)\n",
    "df_new_column = df[0]*df[1]\n",
    "# df_final = df + df_new_column\n",
    "# print(df_final)\n",
    "df[3] = df_new_column\n",
    "print(df)"
   ]
  },
  {
   "cell_type": "markdown",
   "id": "f6b9a863",
   "metadata": {},
   "source": [
    "2. Create a Pandas DataFrame with 3 columns and 4 rows filled with random integers. Compute the row-wise and column-wise sum."
   ]
  },
  {
   "cell_type": "code",
   "execution_count": 36,
   "id": "23f72770",
   "metadata": {},
   "outputs": [
    {
     "name": "stdout",
     "output_type": "stream",
     "text": [
      "   A  B  C\n",
      "0  9  3  5\n",
      "1  8  8  5\n",
      "2  5  3  1\n",
      "3  5  5  8\n",
      "0    17\n",
      "1    21\n",
      "2     9\n",
      "3    18\n",
      "dtype: int64\n",
      "A    27\n",
      "B    19\n",
      "C    19\n",
      "dtype: int64\n"
     ]
    }
   ],
   "source": [
    "df = pd.DataFrame(np.random.randint(1,10,size=(4,3)),columns=('A','B','C'))\n",
    "print(df)\n",
    "\n",
    "# row_wise_sum = df['A'] + df['B'] + df['C']\n",
    "# print(row_wise_sum)\n",
    "\n",
    "row_wise_sum = df.sum(axis=1)\n",
    "print(row_wise_sum)\n",
    "\n",
    "column_wise_sum = df.sum(axis=0)\n",
    "print(column_wise_sum)"
   ]
  },
  {
   "cell_type": "markdown",
   "id": "9c7fec51",
   "metadata": {},
   "source": [
    "### Assignment 3: Data Cleaning\n",
    "\n",
    "1. Create a Pandas DataFrame with 3 columns and 5 rows filled with random integers. Introduce some NaN values. Fill the NaN values with the mean of the respective columns."
   ]
  },
  {
   "cell_type": "code",
   "execution_count": 53,
   "id": "6e94b4ef",
   "metadata": {},
   "outputs": [
    {
     "name": "stdout",
     "output_type": "stream",
     "text": [
      "   A  B  C\n",
      "0  9  1  2\n",
      "1  6  3  1\n",
      "2  1  1  2\n",
      "3  4  4  3\n",
      "4  8  1  7\n",
      "     A  B    C\n",
      "0  9.0  1  2.0\n",
      "1  NaN  3  1.0\n",
      "2  1.0  1  NaN\n",
      "3  4.0  4  3.0\n",
      "4  8.0  1  7.0\n",
      "A    5.50\n",
      "B    2.00\n",
      "C    3.25\n",
      "dtype: float64\n",
      "     A  B     C\n",
      "0  9.0  1  2.00\n",
      "1  5.5  3  1.00\n",
      "2  1.0  1  3.25\n",
      "3  4.0  4  3.00\n",
      "4  8.0  1  7.00\n"
     ]
    }
   ],
   "source": [
    "df = pd.DataFrame(np.random.randint(1,10,size=(5,3)), columns=('A','B','C'))\n",
    "print(df)\n",
    "df.at[1,'A'] = np.nan\n",
    "df.at[2,'C'] = np.nan\n",
    "print(df)\n",
    "\n",
    "print(df.mean())\n",
    "df = df.fillna(df.mean())\n",
    "print(df)"
   ]
  },
  {
   "cell_type": "markdown",
   "id": "d902b486",
   "metadata": {},
   "source": [
    "2. Create a Pandas DataFrame with 4 columns and 6 rows filled with random integers. Introduce some NaN values. Drop the rows with any NaN values."
   ]
  },
  {
   "cell_type": "code",
   "execution_count": 14,
   "id": "b4c8ddf8",
   "metadata": {},
   "outputs": [
    {
     "name": "stdout",
     "output_type": "stream",
     "text": [
      "   A  B  C  D\n",
      "0  2  4  6  5\n",
      "1  2  7  9  1\n",
      "2  6  4  4  5\n",
      "3  4  4  1  7\n",
      "4  5  3  3  8\n",
      "5  1  1  2  4\n",
      "   A  B    C    D\n",
      "0  2  4  NaN  5.0\n",
      "1  2  7  NaN  NaN\n",
      "2  6  4  4.0  5.0\n",
      "3  4  4  1.0  7.0\n",
      "4  5  3  3.0  NaN\n",
      "5  1  1  2.0  4.0\n",
      "   A  B    C    D\n",
      "2  6  4  4.0  5.0\n",
      "3  4  4  1.0  7.0\n",
      "5  1  1  2.0  4.0\n"
     ]
    }
   ],
   "source": [
    "df = pd.DataFrame(np.random.randint(1,10,size=(6,4)) ,columns=('A','B','C','D'))\n",
    "print(df)\n",
    "df.iloc[0,2] = np.nan\n",
    "df.iloc[1,2] = np.nan\n",
    "df.iloc[4,3] = np.nan\n",
    "df.iloc[1,3] = np.nan\n",
    "\n",
    "print(df)\n",
    "df.dropna(inplace=True)\n",
    "print(df)"
   ]
  },
  {
   "cell_type": "markdown",
   "id": "b803fa8b",
   "metadata": {},
   "source": [
    "### Assignment 4: Data Aggregation\n",
    "\n",
    "1. Create a Pandas DataFrame with 2 columns: 'Category' and 'Value'. Fill the 'Category' column with random categories ('A', 'B', 'C') and the 'Value' column with random integers. Group the DataFrame by 'Category' and compute the sum and mean of 'Value' for each category."
   ]
  },
  {
   "cell_type": "code",
   "execution_count": 25,
   "id": "c6cc651a",
   "metadata": {},
   "outputs": [
    {
     "name": "stdout",
     "output_type": "stream",
     "text": [
      "   category  value\n",
      "0         A     10\n",
      "1         B     15\n",
      "2         C      8\n",
      "3         B     20\n",
      "4         A     43\n",
      "5         B      7\n",
      "6         C     30\n",
      "7         C     22\n",
      "8         B      9\n",
      "9         A      2\n",
      "10        C     21\n",
      "11        A     14\n"
     ]
    }
   ],
   "source": [
    "data = [{'category':'A', 'value':10},{'category':'B', 'value':15},{'category':'C', 'value':8},\n",
    "        {'category':'B', 'value':20},{'category':'A', 'value':43},{'category':'B', 'value':7},\n",
    "        {'category':'C', 'value':30},{'category':'C', 'value':22},{'category':'B', 'value':9},\n",
    "        {'category':'A', 'value':2},{'category':'C', 'value':21},{'category':'A', 'value':14}]\n",
    "\n",
    "df = pd.DataFrame(data=data)\n",
    "print(df)\n",
    "\n",
    "group_df = df.groupby('category')['value'].agg(['sum','mean'])\n",
    "print(group_df)"
   ]
  },
  {
   "cell_type": "markdown",
   "id": "f7193005",
   "metadata": {},
   "source": [
    "2. Create a Pandas DataFrame with 3 columns: 'Product', 'Category', and 'Sales'. Fill the DataFrame with random data. Group the DataFrame by 'Category' and compute the total sales for each category."
   ]
  },
  {
   "cell_type": "code",
   "execution_count": 37,
   "id": "bee61947",
   "metadata": {},
   "outputs": [
    {
     "name": "stdout",
     "output_type": "stream",
     "text": [
      "  product category  sales\n",
      "0   prod2        C      8\n",
      "1   prod1        A      6\n",
      "2   prod3        C      5\n",
      "3   prod2        C      7\n",
      "4   prod3        B      3\n",
      "5   prod1        C      4\n",
      "6   prod1        B      9\n",
      "7   prod1        C      6\n",
      "8   prod3        C      3\n",
      "9   prod2        A      7\n",
      "category\n",
      "A    13\n",
      "B    12\n",
      "C    33\n",
      "Name: sales, dtype: int32\n"
     ]
    }
   ],
   "source": [
    "df = pd.DataFrame({'product' : np.random.choice(['prod1','prod2','prod3'],size=10),\n",
    "                   'category': np.random.choice(['A','B','C'],size=10) , \n",
    "                   'sales' : np.random.randint(1,10,size=10)})\n",
    "print(df)\n",
    "\n",
    "group_df = df.groupby('category')['sales'].sum()\n",
    "print(group_df)"
   ]
  },
  {
   "cell_type": "markdown",
   "id": "4910c0ea",
   "metadata": {},
   "source": [
    "### Assignment 5: Merging DataFrames\n",
    "\n",
    "1. Create two Pandas DataFrames with a common column. Merge the DataFrames using the common column."
   ]
  },
  {
   "cell_type": "code",
   "execution_count": 48,
   "id": "c3391bcc",
   "metadata": {},
   "outputs": [
    {
     "name": "stdout",
     "output_type": "stream",
     "text": [
      "  Key  Value1\n",
      "0   A      47\n",
      "1   B      64\n",
      "2   C      38\n",
      "3   D      33\n",
      "  Key  Value2\n",
      "0   A      12\n",
      "1   B      34\n",
      "2   C      15\n",
      "3   E      47\n",
      "  Key  Value1  Value2\n",
      "0   A      47      12\n",
      "1   B      64      34\n",
      "2   C      38      15\n",
      "  Key  Value1  Value2\n",
      "0   A      47      12\n",
      "1   B      64      34\n",
      "2   C      38      15\n"
     ]
    }
   ],
   "source": [
    "df_1 = pd.DataFrame({'Key': ['A', 'B', 'C', 'D'], 'Value1': np.random.randint(1, 100, size=4)})\n",
    "print(df_1)\n",
    "\n",
    "df_2 = pd.DataFrame({'Key': ['A', 'B', 'C', 'E'], 'Value2': np.random.randint(1, 100, size=4)})\n",
    "print(df_2)\n",
    "\n",
    "merge_df_1 = df_1.merge(df_2 ,on='Key')\n",
    "print(merge_df_1)\n",
    "\n",
    "merge_df = pd.merge(df_1,df_2 ,on='Key')\n",
    "print(merge_df)"
   ]
  },
  {
   "cell_type": "markdown",
   "id": "51740172",
   "metadata": {},
   "source": [
    "2. Create two Pandas DataFrames with different columns. Concatenate the DataFrames along the rows and along the columns."
   ]
  },
  {
   "cell_type": "code",
   "execution_count": 56,
   "id": "e5c1ab61",
   "metadata": {},
   "outputs": [
    {
     "name": "stdout",
     "output_type": "stream",
     "text": [
      "   A  B  c\n",
      "0  8  1  1\n",
      "1  4  1  3\n",
      "2  9  4  5\n",
      "3  8  6  9\n",
      "4  3  6  5\n",
      "5  2  9  1\n",
      "   A  B  c\n",
      "0  7  4  9\n",
      "1  8  7  1\n",
      "2  2  1  5\n",
      "3  1  5  1\n",
      "4  5  1  6\n",
      "5  9  8  3\n",
      "concatinating along rows\n",
      "   A  B  c\n",
      "0  8  1  1\n",
      "1  4  1  3\n",
      "2  9  4  5\n",
      "3  8  6  9\n",
      "4  3  6  5\n",
      "5  2  9  1\n",
      "0  7  4  9\n",
      "1  8  7  1\n",
      "2  2  1  5\n",
      "3  1  5  1\n",
      "4  5  1  6\n",
      "5  9  8  3\n",
      "concatinating along columns\n",
      "   A  B  c  A  B  c\n",
      "0  8  1  1  7  4  9\n",
      "1  4  1  3  8  7  1\n",
      "2  9  4  5  2  1  5\n",
      "3  8  6  9  1  5  1\n",
      "4  3  6  5  5  1  6\n",
      "5  2  9  1  9  8  3\n"
     ]
    }
   ],
   "source": [
    "df_1 = pd.DataFrame(np.random.randint(1,10,size=(6,3)),columns=('A','B','c'))\n",
    "df_2 = pd.DataFrame(np.random.randint(1,10,size=(6,3)),columns=('A','B','c'))\n",
    "\n",
    "print(df_1)\n",
    "print(df_2)\n",
    "\n",
    "df_3 = pd.concat([df_1,df_2] , axis=0)\n",
    "df_4 = pd.concat([df_1,df_2] , axis=1)\n",
    "print(\"concatinating along rows\")\n",
    "print(df_3)\n",
    "print(\"concatinating along columns\")\n",
    "print(df_4)"
   ]
  },
  {
   "cell_type": "markdown",
   "id": "04d27583",
   "metadata": {},
   "source": [
    "### Assignment 6: Time Series Analysis\n",
    "\n",
    "1. Create a Pandas DataFrame with a datetime index and one column filled with random integers. Resample the DataFrame to compute the monthly mean of the values."
   ]
  },
  {
   "cell_type": "code",
   "execution_count": 70,
   "id": "06f93af6",
   "metadata": {},
   "outputs": [
    {
     "name": "stdout",
     "output_type": "stream",
     "text": [
      "            Data\n",
      "Date            \n",
      "2024-10-01    13\n",
      "2024-10-02    24\n",
      "2024-10-03    15\n",
      "2024-10-04    20\n",
      "2024-10-05     9\n",
      "...          ...\n",
      "2024-12-24    35\n",
      "2024-12-25     5\n",
      "2024-12-26    44\n",
      "2024-12-27    48\n",
      "2024-12-28    37\n",
      "\n",
      "[89 rows x 1 columns]\n",
      "                 Data\n",
      "Date                 \n",
      "2024-10-31  20.580645\n",
      "2024-11-30  24.133333\n",
      "2024-12-31  27.357143\n"
     ]
    },
    {
     "name": "stderr",
     "output_type": "stream",
     "text": [
      "C:\\Users\\91949\\AppData\\Local\\Temp\\ipykernel_13208\\2955884713.py:8: FutureWarning: 'M' is deprecated and will be removed in a future version, please use 'ME' instead.\n",
      "  df_mean = df.resample('M').mean()\n"
     ]
    }
   ],
   "source": [
    "dates = pd.date_range('2024-10-01','2024-12-28' ,freq='D')\n",
    "\n",
    "df = pd.DataFrame({'Date': dates , 'Data': np.random.randint(1,50 ,size=(len(dates)))})\n",
    "\n",
    "df.set_index('Date', inplace=True)\n",
    "print(df)\n",
    "\n",
    "df_mean = df.resample('M').mean()\n",
    "print(df_mean)"
   ]
  },
  {
   "cell_type": "markdown",
   "id": "a8d12c99",
   "metadata": {},
   "source": [
    "2. Create a Pandas DataFrame with a datetime index ranging from '2021-01-01' to '2021-12-31' and one column filled with random integers. Compute the rolling mean with a window of 7 days."
   ]
  },
  {
   "cell_type": "code",
   "execution_count": 82,
   "id": "687c70ee",
   "metadata": {},
   "outputs": [
    {
     "data": {
      "text/html": [
       "<div>\n",
       "<style scoped>\n",
       "    .dataframe tbody tr th:only-of-type {\n",
       "        vertical-align: middle;\n",
       "    }\n",
       "\n",
       "    .dataframe tbody tr th {\n",
       "        vertical-align: top;\n",
       "    }\n",
       "\n",
       "    .dataframe thead th {\n",
       "        text-align: right;\n",
       "    }\n",
       "</style>\n",
       "<table border=\"1\" class=\"dataframe\">\n",
       "  <thead>\n",
       "    <tr style=\"text-align: right;\">\n",
       "      <th></th>\n",
       "      <th>Data</th>\n",
       "    </tr>\n",
       "    <tr>\n",
       "      <th>Date</th>\n",
       "      <th></th>\n",
       "    </tr>\n",
       "  </thead>\n",
       "  <tbody>\n",
       "    <tr>\n",
       "      <th>2021-01-01</th>\n",
       "      <td>NaN</td>\n",
       "    </tr>\n",
       "    <tr>\n",
       "      <th>2021-01-02</th>\n",
       "      <td>NaN</td>\n",
       "    </tr>\n",
       "    <tr>\n",
       "      <th>2021-01-03</th>\n",
       "      <td>NaN</td>\n",
       "    </tr>\n",
       "    <tr>\n",
       "      <th>2021-01-04</th>\n",
       "      <td>NaN</td>\n",
       "    </tr>\n",
       "    <tr>\n",
       "      <th>2021-01-05</th>\n",
       "      <td>NaN</td>\n",
       "    </tr>\n",
       "    <tr>\n",
       "      <th>...</th>\n",
       "      <td>...</td>\n",
       "    </tr>\n",
       "    <tr>\n",
       "      <th>2021-12-27</th>\n",
       "      <td>15.000000</td>\n",
       "    </tr>\n",
       "    <tr>\n",
       "      <th>2021-12-28</th>\n",
       "      <td>17.000000</td>\n",
       "    </tr>\n",
       "    <tr>\n",
       "      <th>2021-12-29</th>\n",
       "      <td>17.571429</td>\n",
       "    </tr>\n",
       "    <tr>\n",
       "      <th>2021-12-30</th>\n",
       "      <td>18.428571</td>\n",
       "    </tr>\n",
       "    <tr>\n",
       "      <th>2021-12-31</th>\n",
       "      <td>19.571429</td>\n",
       "    </tr>\n",
       "  </tbody>\n",
       "</table>\n",
       "<p>365 rows × 1 columns</p>\n",
       "</div>"
      ],
      "text/plain": [
       "                 Data\n",
       "Date                 \n",
       "2021-01-01        NaN\n",
       "2021-01-02        NaN\n",
       "2021-01-03        NaN\n",
       "2021-01-04        NaN\n",
       "2021-01-05        NaN\n",
       "...               ...\n",
       "2021-12-27  15.000000\n",
       "2021-12-28  17.000000\n",
       "2021-12-29  17.571429\n",
       "2021-12-30  18.428571\n",
       "2021-12-31  19.571429\n",
       "\n",
       "[365 rows x 1 columns]"
      ]
     },
     "execution_count": 82,
     "metadata": {},
     "output_type": "execute_result"
    }
   ],
   "source": [
    "date = pd.date_range('2021-01-01', '2021-12-31', freq='D')\n",
    "df = pd.DataFrame({'Date': date , 'Data': np.random.randint(1,30,size=(len(date)))})\n",
    "df.set_index('Date' , inplace=True)\n",
    "#print(df)\n",
    "\n",
    "df_mean = df.rolling(window=7).mean()\n",
    "df_mean"
   ]
  },
  {
   "cell_type": "markdown",
   "id": "7d427f21",
   "metadata": {},
   "source": [
    "### Assignment 7: MultiIndex DataFrame\n",
    "\n",
    "1. Create a Pandas DataFrame with a MultiIndex (hierarchical index). Perform some basic indexing and slicing operations on the MultiIndex DataFrame."
   ]
  },
  {
   "cell_type": "code",
   "execution_count": null,
   "id": "9818e1c0",
   "metadata": {},
   "outputs": [],
   "source": []
  },
  {
   "cell_type": "markdown",
   "id": "1a2e8308",
   "metadata": {},
   "source": [
    "2. Create a Pandas DataFrame with MultiIndex consisting of 'Category' and 'SubCategory'. Fill the DataFrame with random data and compute the sum of values for each 'Category' and 'SubCategory'."
   ]
  },
  {
   "cell_type": "code",
   "execution_count": null,
   "id": "5b4c42be",
   "metadata": {},
   "outputs": [],
   "source": []
  },
  {
   "cell_type": "markdown",
   "id": "c524d031",
   "metadata": {},
   "source": [
    "### Assignment 8: Pivot Tables\n",
    "\n",
    "1. Create a Pandas DataFrame with columns 'Date', 'Category', and 'Value'. Create a pivot table to compute the sum of 'Value' for each 'Category' by 'Date'."
   ]
  },
  {
   "cell_type": "code",
   "execution_count": 92,
   "id": "e71e4a32",
   "metadata": {},
   "outputs": [
    {
     "name": "stdout",
     "output_type": "stream",
     "text": [
      "         Date Category  Value\n",
      "0  2021-12-16        B      7\n",
      "1  2021-12-14        D      2\n",
      "2  2021-12-02        D      6\n",
      "3  2021-12-17        D      6\n",
      "4  2021-12-18        A      7\n",
      "5  2021-12-02        A      6\n",
      "6  2021-12-15        D      9\n",
      "7  2021-12-18        D      4\n",
      "8  2021-12-03        A      9\n",
      "9  2021-12-06        C      8\n",
      "10 2021-12-06        C      7\n",
      "11 2021-12-19        D      4\n",
      "12 2021-12-10        C      1\n",
      "13 2021-12-07        B      2\n",
      "14 2021-12-06        C      4\n",
      "15 2021-12-11        D      3\n",
      "16 2021-12-19        C      3\n",
      "17 2021-12-05        C      3\n",
      "18 2021-12-12        C      3\n",
      "19 2021-12-19        A      1\n",
      "pivot table\n",
      "------------\n",
      "Category      A    B     C    D\n",
      "Date                           \n",
      "2021-12-02  6.0  NaN   NaN  6.0\n",
      "2021-12-03  9.0  NaN   NaN  NaN\n",
      "2021-12-05  NaN  NaN   3.0  NaN\n",
      "2021-12-06  NaN  NaN  19.0  NaN\n",
      "2021-12-07  NaN  2.0   NaN  NaN\n",
      "2021-12-10  NaN  NaN   1.0  NaN\n",
      "2021-12-11  NaN  NaN   NaN  3.0\n",
      "2021-12-12  NaN  NaN   3.0  NaN\n",
      "2021-12-14  NaN  NaN   NaN  2.0\n",
      "2021-12-15  NaN  NaN   NaN  9.0\n",
      "2021-12-16  NaN  7.0   NaN  NaN\n",
      "2021-12-17  NaN  NaN   NaN  6.0\n",
      "2021-12-18  7.0  NaN   NaN  4.0\n",
      "2021-12-19  1.0  NaN   3.0  4.0\n"
     ]
    }
   ],
   "source": [
    "date = pd.date_range('2021-12-01','2021-12-20', freq='D')\n",
    "df = pd.DataFrame({'Date': np.random.choice(date, size=20), \n",
    "                   'Category': np.random.choice(['A','B','C','D'], size=20), \n",
    "                   'Value': np.random.randint(1,10, size=20)})\n",
    "print(df)\n",
    "\n",
    "pivot_df = df.pivot_table(values ='Value', index ='Date', columns='Category', aggfunc='sum')\n",
    "print('pivot table')\n",
    "print('------------')\n",
    "print(pivot_df)"
   ]
  },
  {
   "cell_type": "markdown",
   "id": "807ef64b",
   "metadata": {},
   "source": [
    "2. Create a Pandas DataFrame with columns 'Year', 'Quarter', and 'Revenue'. Create a pivot table to compute the mean 'Revenue' for each 'Quarter' by 'Year'."
   ]
  },
  {
   "cell_type": "code",
   "execution_count": 95,
   "id": "2940ee4d",
   "metadata": {},
   "outputs": [
    {
     "name": "stdout",
     "output_type": "stream",
     "text": [
      "    Year Quarter  revenue\n",
      "0   2021      Q4     1369\n",
      "1   2023      Q3     1558\n",
      "2   2021      Q3     1017\n",
      "3   2021      Q3     2238\n",
      "4   2022      Q3     1054\n",
      "5   2023      Q2     1370\n",
      "6   2021      Q4     1890\n",
      "7   2023      Q4     1255\n",
      "8   2024      Q1     2418\n",
      "9   2021      Q4     1230\n",
      "10  2024      Q3     1155\n",
      "11  2024      Q3     2176\n",
      "12  2021      Q1     2034\n",
      "13  2021      Q4     1850\n",
      "14  2022      Q4     2213\n",
      "15  2024      Q2     2280\n",
      "16  2022      Q2     2444\n",
      "17  2024      Q4     1205\n",
      "18  2022      Q1     2309\n",
      "19  2024      Q3     1898\n",
      "Quarter      Q1      Q2      Q3       Q4\n",
      "Year                                    \n",
      "2021     2034.0     NaN  1627.5  1584.75\n",
      "2022     2309.0  2444.0  1054.0  2213.00\n",
      "2023        NaN  1370.0  1558.0  1255.00\n",
      "2024     2418.0  2280.0  1743.0  1205.00\n"
     ]
    }
   ],
   "source": [
    "df = pd.DataFrame({'Year': np.random.choice(['2021','2022', '2023', '2024'], size=20),\n",
    "                   'Quarter': np.random.choice(['Q1','Q2','Q3','Q4'], size=20),\n",
    "                   'revenue': np.random.randint(1000,2500, size=20)})\n",
    "print(df)\n",
    "\n",
    "pivot_df = df.pivot_table(values = 'revenue', index = 'Year', columns = 'Quarter' ,aggfunc='mean')\n",
    "print(pivot_df)"
   ]
  },
  {
   "cell_type": "markdown",
   "id": "0457baa1",
   "metadata": {},
   "source": [
    "### Assignment 9: Applying Functions\n",
    "\n",
    "1. Create a Pandas DataFrame with 3 columns and 5 rows filled with random integers. Apply a function that doubles the values of the DataFrame."
   ]
  },
  {
   "cell_type": "code",
   "execution_count": 99,
   "id": "2d8d208c",
   "metadata": {},
   "outputs": [
    {
     "name": "stdout",
     "output_type": "stream",
     "text": [
      "   column_1  column_2  column_3\n",
      "0         5        14         9\n",
      "1        14         1        10\n",
      "2        18         7         1\n",
      "3        12        15         2\n",
      "4        12        18        14\n",
      "   column_1  column_2  column_3\n",
      "0        10        28        18\n",
      "1        28         2        20\n",
      "2        36        14         2\n",
      "3        24        30         4\n",
      "4        24        36        28\n"
     ]
    }
   ],
   "source": [
    "def double_df_values(df):\n",
    "    return df+df\n",
    "\n",
    "\n",
    "df = pd.DataFrame(np.random.randint(1,20, size = (5,3)), columns = ['column_1','column_2','column_3'])\n",
    "print(df)\n",
    "\n",
    "print(double_df_values(df))"
   ]
  },
  {
   "cell_type": "markdown",
   "id": "acfbd63d",
   "metadata": {},
   "source": [
    "2. Create a Pandas DataFrame with 3 columns and 6 rows filled with random integers. Apply a lambda function to create a new column that is the sum of the existing columns.\n"
   ]
  },
  {
   "cell_type": "code",
   "execution_count": 103,
   "id": "1b419007",
   "metadata": {},
   "outputs": [
    {
     "name": "stdout",
     "output_type": "stream",
     "text": [
      "   column_1  column_2  column_3\n",
      "0         1         1         8\n",
      "1         7         4         8\n",
      "2         2         9         1\n",
      "3         9         4         3\n",
      "4         7         1         5\n",
      "5         1         1         1\n",
      "   column_1  column_2  column_3  Sum\n",
      "0         1         1         8   10\n",
      "1         7         4         8   19\n",
      "2         2         9         1   12\n",
      "3         9         4         3   16\n",
      "4         7         1         5   13\n",
      "5         1         1         1    3\n"
     ]
    }
   ],
   "source": [
    "df = pd.DataFrame(np.random.randint(1,10 ,size=(6,3)), columns=['column_1','column_2','column_3'])\n",
    "print(df)\n",
    "\n",
    "df['Sum'] = df.apply(lambda row: row.sum(), axis=1)\n",
    "print(df)"
   ]
  },
  {
   "cell_type": "markdown",
   "id": "32f09e87",
   "metadata": {},
   "source": [
    "### Assignment 10: Working with Text Data\n",
    "\n",
    "1. Create a Pandas Series with 5 random text strings. Convert all the strings to uppercase."
   ]
  },
  {
   "cell_type": "code",
   "execution_count": 105,
   "id": "0dd36293",
   "metadata": {},
   "outputs": [
    {
     "name": "stdout",
     "output_type": "stream",
     "text": [
      "0      APPLE\n",
      "1    ORANGES\n",
      "2     GRAPES\n",
      "3      GUAVA\n",
      "dtype: object\n"
     ]
    }
   ],
   "source": [
    "pd_series = pd.Series(['Apple', 'Oranges', 'Grapes', 'guava'])\n",
    "print(pd_series.str.upper())"
   ]
  },
  {
   "cell_type": "markdown",
   "id": "4f7ccca6",
   "metadata": {},
   "source": [
    "2. Create a Pandas Series with 5 random text strings. Extract the first three characters of each string."
   ]
  },
  {
   "cell_type": "code",
   "execution_count": 107,
   "id": "002cef26",
   "metadata": {},
   "outputs": [
    {
     "data": {
      "text/plain": [
       "0    App\n",
       "1    Ora\n",
       "2    Gra\n",
       "3    gua\n",
       "dtype: object"
      ]
     },
     "execution_count": 107,
     "metadata": {},
     "output_type": "execute_result"
    }
   ],
   "source": [
    "pd_series = pd.Series(['Apple', 'Oranges', 'Grapes', 'guava'])\n",
    "pd_series.str[:3]"
   ]
  }
 ],
 "metadata": {
  "kernelspec": {
   "display_name": "venv",
   "language": "python",
   "name": "python3"
  },
  "language_info": {
   "codemirror_mode": {
    "name": "ipython",
    "version": 3
   },
   "file_extension": ".py",
   "mimetype": "text/x-python",
   "name": "python",
   "nbconvert_exporter": "python",
   "pygments_lexer": "ipython3",
   "version": "3.10.0"
  }
 },
 "nbformat": 4,
 "nbformat_minor": 5
}
