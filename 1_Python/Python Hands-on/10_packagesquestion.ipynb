{
 "cells": [
  {
   "cell_type": "markdown",
   "metadata": {},
   "source": [
    "# Module 5: Modules and Packages Assignments\n",
    "## Lesson 5.1: Importing Modules\n",
    "### Assignment 1: Importing and Using Modules\n",
    "\n",
    "Import the `math` module and use it to calculate the square root of 25 and the sine of 90 degrees."
   ]
  },
  {
   "cell_type": "code",
   "execution_count": null,
   "metadata": {},
   "outputs": [],
   "source": [
    "import math\n",
    "print(math.sqrt(25))\n",
    "print(math.sin(90))\n"
   ]
  },
  {
   "cell_type": "markdown",
   "id": "d7d4aa50",
   "metadata": {},
   "source": [
    "### Assignment 2: Aliasing Modules\n",
    "\n",
    "Import the `datetime` module with an alias and use it to print the current date and time."
   ]
  },
  {
   "cell_type": "code",
   "execution_count": null,
   "id": "a9d0fcdb",
   "metadata": {},
   "outputs": [],
   "source": [
    "import datetime as dt\n",
    "\n",
    "date = dt.datetime.now()\n",
    "print(date)\n",
    "\n",
    "days_30 = date - dt.timedelta(days=30)\n",
    "print(days_30)\n",
    "\n"
   ]
  },
  {
   "cell_type": "markdown",
   "id": "f9ac1b03",
   "metadata": {},
   "source": [
    "### Assignment 3: Importing Specific Functions\n",
    "\n",
    "Import the `randint` function from the `random` module and use it to generate a random integer between 1 and 100."
   ]
  },
  {
   "cell_type": "code",
   "execution_count": null,
   "id": "6372bd54",
   "metadata": {},
   "outputs": [],
   "source": [
    "from random import randint\n",
    "\n",
    "random_integer = randint(1,100)\n",
    "print(random_integer)"
   ]
  },
  {
   "cell_type": "markdown",
   "id": "f12ecac0",
   "metadata": {},
   "source": [
    "### Assignment 4: Importing Multiple Functions\n",
    "\n",
    "Import the `sqrt` and `pow` functions from the `math` module and use them to calculate the square root of 16 and 2 raised to the power of 3."
   ]
  },
  {
   "cell_type": "code",
   "execution_count": null,
   "id": "b867d2ce",
   "metadata": {},
   "outputs": [],
   "source": [
    "import math\n",
    "\n",
    "print(math.sqrt(16))\n",
    "print(math.pow(2,3))"
   ]
  },
  {
   "cell_type": "markdown",
   "id": "6b1d8a5f",
   "metadata": {},
   "source": [
    "### Assignment 5: Handling Import Errors\n",
    "\n",
    "Write code that attempts to import a non-existent module and gracefully handles the import error by printing an error message."
   ]
  },
  {
   "cell_type": "code",
   "execution_count": 8,
   "id": "1b811bbc",
   "metadata": {},
   "outputs": [
    {
     "name": "stdout",
     "output_type": "stream",
     "text": [
      "unexpected error occured and the error is : No module named 'hemanth'\n"
     ]
    }
   ],
   "source": [
    "try:\n",
    "    import hemanth\n",
    "except Exception as e:\n",
    "    print(f\"unexpected error occured and the error is : {e}\")"
   ]
  },
  {
   "cell_type": "markdown",
   "id": "ff932af6",
   "metadata": {},
   "source": [
    "## Lesson 5.2: Standard Library Overview\n",
    "### Assignment 6: Working with the `os` Module\n",
    "\n",
    "Use the `os` module to create a new directory, list the contents of the current directory, and remove the newly created directory."
   ]
  },
  {
   "cell_type": "code",
   "execution_count": 16,
   "id": "4090a0e0",
   "metadata": {},
   "outputs": [
    {
     "name": "stdout",
     "output_type": "stream",
     "text": [
      "file created\n",
      "list of the files in the current directory\n",
      "['10_1_packagesquestion.py', '10_2_packagessolution.ipynb', '10_packagesquestion.ipynb', '1_assignment.ipynb', '2_assignment.ipynb', '3_1_list_assignment_solution.ipynb', '3_list_Assignment.ipynb', '4_1_tuple_assignment_solution.ipynb', '4_tuple_assignment.ipynb', '5_1_set_assignments_solution.ipynb', '5_sets_assignment.ipynb', '6_1_dictionaries_assignment_solution.ipynb', '6_dictionaries_assignment.ipynb', '7_1_advancefunctionsolution.ipynb', '7_advancefunctions.ipynb', '8_functions_practice.ipynb', '9_inbuilt_data_structures_practice_questions.ipynb', 'requirements.txt', 'test.ipynb', 'test.py', 'test_create_file', 'test_files', 'test_module', 'venv']\n",
      "file removed\n"
     ]
    }
   ],
   "source": [
    "import os\n",
    "\n",
    "if not os.path.isdir('test_create_file') :\n",
    "    os.mkdir('test_create_file')\n",
    "    print(\"file created\")\n",
    "\n",
    "    print(\"list of the files in the current directory\")\n",
    "    print(os.listdir(os.getcwd()))\n",
    "\n",
    "    os.rmdir('test_create_file')\n",
    "    print(\"file removed\")\n",
    "else:\n",
    "    os.rmdir('test_create_file')\n",
    "    print(\"file removed\")"
   ]
  },
  {
   "cell_type": "markdown",
   "id": "876e270b",
   "metadata": {},
   "source": [
    "### Assignment 7: Working with the `sys` Module\n",
    "\n",
    "Use the `sys` module to print the Python version currently in use and the command-line arguments passed to the script."
   ]
  },
  {
   "cell_type": "code",
   "execution_count": 17,
   "id": "0b86e249",
   "metadata": {},
   "outputs": [
    {
     "name": "stdout",
     "output_type": "stream",
     "text": [
      "3.10.0 | packaged by conda-forge | (default, Nov 10 2021, 13:20:59) [MSC v.1916 64 bit (AMD64)]\n",
      "these are the arguments that are passed: ['c:\\\\Users\\\\91949\\\\OneDrive\\\\Desktop\\\\Hemanth\\\\Data science\\\\Python\\\\Complete-Python-Bootcamp-main\\\\Python Hands-on\\\\venv\\\\lib\\\\site-packages\\\\ipykernel_launcher.py', '--f=c:\\\\Users\\\\91949\\\\AppData\\\\Roaming\\\\jupyter\\\\runtime\\\\kernel-v301f20816e02b6b515a0fb8e457269c6e08595c4b.json']\n",
      "Argument 0: c:\\Users\\91949\\OneDrive\\Desktop\\Hemanth\\Data science\\Python\\Complete-Python-Bootcamp-main\\Python Hands-on\\venv\\lib\\site-packages\\ipykernel_launcher.py\n",
      "Argument 1: --f=c:\\Users\\91949\\AppData\\Roaming\\jupyter\\runtime\\kernel-v301f20816e02b6b515a0fb8e457269c6e08595c4b.json\n"
     ]
    }
   ],
   "source": [
    "import sys\n",
    "\n",
    "print(sys.version)\n",
    "\n",
    "print(f\"these are the arguments that are passed: {sys.argv}\")\n",
    "\n",
    "for i, arg in enumerate(sys.argv): \n",
    "    print(f\"Argument {i}: {arg}\")"
   ]
  },
  {
   "cell_type": "markdown",
   "id": "a21a2527",
   "metadata": {},
   "source": [
    "### Assignment 8: Working with the `math` Module\n",
    "\n",
    "Use the `math` module to calculate the greatest common divisor (GCD) of two numbers and the factorial of a number."
   ]
  },
  {
   "cell_type": "code",
   "execution_count": 2,
   "id": "30fa55e7",
   "metadata": {},
   "outputs": [
    {
     "name": "stdout",
     "output_type": "stream",
     "text": [
      "2\n",
      "24\n"
     ]
    }
   ],
   "source": [
    "import math\n",
    "\n",
    "print(math.gcd(22,10))\n",
    "print(math.factorial(4))\n",
    "\n"
   ]
  },
  {
   "cell_type": "markdown",
   "id": "002039ae",
   "metadata": {},
   "source": [
    "### Assignment 9: Working with the `datetime` Module\n",
    "\n",
    "Use the `datetime` module to print the current date, calculate the date 100 days from today, and determine the day of the week for a given date."
   ]
  },
  {
   "cell_type": "code",
   "execution_count": 21,
   "id": "cbefe328",
   "metadata": {},
   "outputs": [
    {
     "name": "stdout",
     "output_type": "stream",
     "text": [
      "current_date : 2024-12-20 23:43:41.778992\n",
      "day 100 from today : 2024-09-11 23:43:41.778992\n",
      "no of the day of the week of the current date : 4\n",
      "day of the week of the 2024-12-20 23:43:41.779813 : Friday\n"
     ]
    }
   ],
   "source": [
    "import datetime as dt\n",
    "\n",
    "print(f'current_date : {dt.datetime.now()}')\n",
    "\n",
    "print(f'day 100 from today : {dt.datetime.now() - dt.timedelta(days=100)}')\n",
    "\n",
    "print(f'no of the day of the week of the current date : {dt.datetime.weekday(dt.datetime.now())}')\n",
    "\n",
    "print(f'day of the week of the {dt.datetime.now()} : {dt.datetime.now().strftime(\"%A\")}')"
   ]
  },
  {
   "cell_type": "markdown",
   "id": "1b12c591",
   "metadata": {},
   "source": [
    "### Assignment 10: Working with the `random` Module\n",
    "\n",
    "Use the `random` module to generate a list of 5 random numbers between 1 and 50 and shuffle the elements of a list."
   ]
  },
  {
   "cell_type": "code",
   "execution_count": 40,
   "id": "d1304cf3",
   "metadata": {},
   "outputs": [
    {
     "name": "stdout",
     "output_type": "stream",
     "text": [
      "[45, 36, 48, 23, 34]\n",
      "[36, 45, 34, 23, 48]\n"
     ]
    }
   ],
   "source": [
    "import random\n",
    "\n",
    "random_list = [random.randint(1,50) for l in range(5)]\n",
    "print(random_list)\n",
    "\n",
    "random.shuffle(random_list)\n",
    "print(random_list)\n"
   ]
  },
  {
   "cell_type": "markdown",
   "id": "2f802682",
   "metadata": {},
   "source": [
    "## Lesson 5.3: Creating and Using Packages\n",
    "### Assignment 11: Creating a Simple Package\n",
    "\n",
    "Create a package named `mypackage` with two modules: `module1` and `module2`. `module1` should contain a function that adds two numbers, and `module2` should contain a function that multiplies two numbers. Write code to use these functions.\n",
    "\n",
    "### Assignment 12: Using `__init__.py`\n",
    "\n",
    "Modify the `mypackage` package to include an `__init__.py` file that imports the functions from `module1` and `module2`. Write code to use these functions.\n",
    "\n",
    "### Assignment 13: Importing from a Package\n",
    "\n",
    "Write code to import and use the functions from `mypackage` without explicitly importing `module1` and `module2`."
   ]
  },
  {
   "cell_type": "code",
   "execution_count": 2,
   "id": "bc88659a",
   "metadata": {},
   "outputs": [
    {
     "name": "stdout",
     "output_type": "stream",
     "text": [
      "2\n",
      "1\n",
      "1\n",
      "24\n",
      "120\n",
      "720\n"
     ]
    }
   ],
   "source": [
    "from test_module import gcd, factorial\n",
    "\n",
    "print(gcd.gcd(22,10))\n",
    "print(gcd.gcd(10,89))\n",
    "print(gcd.gcd(44,75))\n",
    "\n",
    "\n",
    "print(factorial.factorial(4))\n",
    "print(factorial.factorial(5))\n",
    "print(factorial.factorial(6))\n"
   ]
  },
  {
   "cell_type": "markdown",
   "id": "70a281ad",
   "metadata": {},
   "source": [
    "### Assignment 14: Relative Imports\n",
    "\n",
    "Create a subpackage named `subpackage` within `mypackage` and move `module2` into `subpackage`. Modify the import statements in `__init__.py` to use relative imports. Write code to use the functions from both modules."
   ]
  },
  {
   "cell_type": "code",
   "execution_count": 3,
   "id": "35d7ddf4",
   "metadata": {},
   "outputs": [
    {
     "name": "stdout",
     "output_type": "stream",
     "text": [
      "3\n"
     ]
    }
   ],
   "source": [
    "from test_module.sub_module import addition\n",
    "print(addition.add(1,2))"
   ]
  },
  {
   "cell_type": "markdown",
   "id": "da20d909",
   "metadata": {},
   "source": [
    "### Assignment 15: Handling Package Import Errors\n",
    "\n",
    "Write code that attempts to import a non-existent function from `mypackage` and gracefully handles the import error by printing an error message."
   ]
  },
  {
   "cell_type": "code",
   "execution_count": 7,
   "id": "2590895e",
   "metadata": {},
   "outputs": [
    {
     "name": "stdout",
     "output_type": "stream",
     "text": [
      "unexpected error occured and the error is : No module named 'hemanth'\n"
     ]
    }
   ],
   "source": [
    "try:\n",
    "    import hemanth\n",
    "except Exception as e:\n",
    "    print(f\"unexpected error occured and the error is : {e}\")"
   ]
  }
 ],
 "metadata": {
  "kernelspec": {
   "display_name": "venv",
   "language": "python",
   "name": "python3"
  },
  "language_info": {
   "codemirror_mode": {
    "name": "ipython",
    "version": 3
   },
   "file_extension": ".py",
   "mimetype": "text/x-python",
   "name": "python",
   "nbconvert_exporter": "python",
   "pygments_lexer": "ipython3",
   "version": "3.10.0"
  }
 },
 "nbformat": 4,
 "nbformat_minor": 5
}
