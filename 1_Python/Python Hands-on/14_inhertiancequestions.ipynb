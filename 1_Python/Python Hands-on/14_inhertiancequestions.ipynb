{
 "cells": [
  {
   "cell_type": "markdown",
   "metadata": {},
   "source": [
    "# Module: Inheritance Assignments\n",
    "## Lesson: Single and Multiple Inheritance\n",
    "### Assignment 1: Single Inheritance Basic\n",
    "\n",
    "Create a base class named `Animal` with attributes `name` and `species`. Create a derived class named `Dog` that inherits from `Animal` and adds an attribute `breed`. Create an object of the `Dog` class and print its attributes."
   ]
  },
  {
   "cell_type": "code",
   "execution_count": 4,
   "metadata": {},
   "outputs": [
    {
     "name": "stdout",
     "output_type": "stream",
     "text": [
      "given dog name is : RIO, species is : Golden retriever, breed is : ABC\n",
      "RIO Golden retriever ABC\n"
     ]
    }
   ],
   "source": [
    "class animal():\n",
    "    def __init__(self, name, species):\n",
    "        self.name = name\n",
    "        self.species = species\n",
    "\n",
    "class dog(animal):\n",
    "    def __init__(self, name, species, breed):\n",
    "        super().__init__(name,species)\n",
    "        self.breed = breed\n",
    "        print(f\"given dog name is : {self.name}, species is : {self.species}, breed is : {self.breed}\")\n",
    "\n",
    "dog = dog(\"RIO\", \"Golden retriever\", \"ABC\")\n",
    "    \n",
    "print(dog.name, dog.species, dog.breed)\n"
   ]
  },
  {
   "cell_type": "markdown",
   "id": "a19ac5aa",
   "metadata": {},
   "source": [
    "### Assignment 2: Method Overriding in Single Inheritance\n",
    "\n",
    "In the `Dog` class, override the `__str__` method to return a string representation of the object. Create an object of the class and print it."
   ]
  },
  {
   "cell_type": "code",
   "execution_count": 7,
   "id": "72e8dadc",
   "metadata": {},
   "outputs": [
    {
     "name": "stdout",
     "output_type": "stream",
     "text": [
      "given dog name is : RIO, species is : Golden retriever, breed is : ABC\n"
     ]
    }
   ],
   "source": [
    "class animal():\n",
    "    def __init__(self, name, species):\n",
    "        self.name = name\n",
    "        self.species = species\n",
    "\n",
    "class dog(animal):\n",
    "    def __init__(self, name, species, breed):\n",
    "        super().__init__(name,species)\n",
    "        self.breed = breed\n",
    "    def __str__(self):\n",
    "        return f\"given dog name is : {self.name}, species is : {self.species}, breed is : {self.breed}\"\n",
    "\n",
    "dog = dog(\"RIO\", \"Golden retriever\", \"ABC\")\n",
    "    \n",
    "print(dog)\n"
   ]
  },
  {
   "cell_type": "markdown",
   "id": "39540896",
   "metadata": {},
   "source": [
    "### Assignment 3: Single Inheritance with Additional Methods\n",
    "\n",
    "In the `Dog` class, add a method named `bark` that prints a barking sound. Create an object of the class and call the method."
   ]
  },
  {
   "cell_type": "code",
   "execution_count": 13,
   "id": "e24b9896",
   "metadata": {},
   "outputs": [
    {
     "name": "stdout",
     "output_type": "stream",
     "text": [
      "Dog barks as 'woof woof'\n"
     ]
    }
   ],
   "source": [
    "class animal():\n",
    "    def __init__(self, name, species):\n",
    "        self.name = name\n",
    "        self.species = species\n",
    "\n",
    "class dog(animal):\n",
    "    def __init__(self, name, species, breed):\n",
    "        super().__init__(name,species)\n",
    "        self.breed = breed\n",
    "\n",
    "    def __str__(self):\n",
    "        return f\"given dog name is : {self.name}, species is : {self.species}, breed is : {self.breed}\"\n",
    "    \n",
    "    def bark(self):\n",
    "        return print(f\"Dog barks as 'woof woof'\")\n",
    "\n",
    "dog = dog(\"RIO\", \"Golden retriever\", \"ABC\")\n",
    "    \n",
    "dog.bark()\n"
   ]
  },
  {
   "cell_type": "markdown",
   "id": "1f3b1909",
   "metadata": {},
   "source": [
    "### Assignment 4: Multiple Inheritance Basic\n",
    "\n",
    "Create a base class named `Walker` with a method `walk` that prints a walking message. Create another base class named `Runner` with a method `run` that prints a running message. Create a derived class named `Athlete` that inherits from both `Walker` and `Runner`. Create an object of the `Athlete` class and call both methods."
   ]
  },
  {
   "cell_type": "code",
   "execution_count": 16,
   "id": "fc4549e2",
   "metadata": {},
   "outputs": [
    {
     "name": "stdout",
     "output_type": "stream",
     "text": [
      "walking...\n",
      "running...\n"
     ]
    }
   ],
   "source": [
    "class walker():\n",
    "    def walk(self):\n",
    "        print(\"walking...\")\n",
    "\n",
    "class runner():\n",
    "    def run(self):\n",
    "        print(\"running...\")\n",
    "\n",
    "class athelete(walker, runner):\n",
    "    pass\n",
    "\n",
    "athelete = athelete()\n",
    "athelete.walk()\n",
    "athelete.run()"
   ]
  },
  {
   "cell_type": "markdown",
   "id": "cd7b0297",
   "metadata": {},
   "source": [
    "### Assignment 5: Method Resolution Order (MRO) in Multiple Inheritance\n",
    "\n",
    "In the `Athlete` class, override the `walk` method to print a different message. Create an object of the class and call the `walk` method. Use the `super()` function to call the `walk` method of the `Walker` class."
   ]
  },
  {
   "cell_type": "code",
   "execution_count": 21,
   "id": "f075a69a",
   "metadata": {},
   "outputs": [
    {
     "name": "stdout",
     "output_type": "stream",
     "text": [
      "Athelete walking...\n",
      "walking...\n"
     ]
    }
   ],
   "source": [
    "class walker():\n",
    "    def walk(self):\n",
    "        print(\"walking...\")\n",
    "\n",
    "class runner():\n",
    "    def run(self):\n",
    "        print(\"running...\")\n",
    "\n",
    "class athelete(walker, runner):\n",
    "    def walk(self):\n",
    "        print(\"Athelete walking...\")\n",
    "        super().walk()\n",
    "\n",
    "athelete = athelete()\n",
    "athelete.walk()"
   ]
  },
  {
   "cell_type": "markdown",
   "id": "4482809b",
   "metadata": {},
   "source": [
    "### Assignment 6: Multiple Inheritance with Additional Attributes\n",
    "\n",
    "In the `Athlete` class, add an attribute `training_hours` and a method `train` that prints the training hours. Create an object of the class and call the method."
   ]
  },
  {
   "cell_type": "code",
   "execution_count": 27,
   "id": "6b7371e9",
   "metadata": {},
   "outputs": [
    {
     "name": "stdout",
     "output_type": "stream",
     "text": [
      "athlete training hours are : 5\n"
     ]
    }
   ],
   "source": [
    "class walker():\n",
    "    def walk(self):\n",
    "        print(\"walking...\")\n",
    "\n",
    "class runner():\n",
    "    def run(self):\n",
    "        print(\"running...\")\n",
    "\n",
    "class athlete(walker, runner):\n",
    "    def __init__(self, training_hours):\n",
    "        self.training_hours = training_hours\n",
    "    \n",
    "    def training(self):\n",
    "        print(f\"athlete training hours are : {self.training_hours}\")\n",
    "\n",
    "athlete = athlete(5)\n",
    "athlete.training()"
   ]
  },
  {
   "cell_type": "markdown",
   "id": "f9f8d0cf",
   "metadata": {},
   "source": [
    "### Assignment 7: Diamond Problem in Multiple Inheritance\n",
    "\n",
    "Create a class named `A` with a method `show` that prints a message. Create two derived classes `B` and `C` that inherit from `A` and override the `show` method. Create a class `D` that inherits from both `B` and `C`. Create an object of the `D` class and call the `show` method. Observe the method resolution order."
   ]
  },
  {
   "cell_type": "code",
   "execution_count": 31,
   "id": "b39ec348",
   "metadata": {},
   "outputs": [
    {
     "name": "stdout",
     "output_type": "stream",
     "text": [
      "this is B\n"
     ]
    }
   ],
   "source": [
    "class a:\n",
    "    def show(self):\n",
    "        print(f\"this is A\")\n",
    "\n",
    "class b(a):\n",
    "    def show(self):\n",
    "        print(f\"this is B\")\n",
    "\n",
    "class c(a):\n",
    "    def show(self):\n",
    "        print(f\"this is c\")\n",
    "\n",
    "class d(b, c):\n",
    "    pass  \n",
    "\n",
    "D = d()\n",
    "D.show()"
   ]
  },
  {
   "cell_type": "markdown",
   "id": "a4fc1d4c",
   "metadata": {},
   "source": [
    "### Assignment 8: Using `super()` in Single Inheritance\n",
    "\n",
    "Create a base class named `Shape` with an attribute `color`. Create a derived class named `Circle` that inherits from `Shape` and adds an attribute `radius`. Use the `super()` function to initialize the attributes. Create an object of the `Circle` class and print its attributes."
   ]
  },
  {
   "cell_type": "code",
   "execution_count": 39,
   "id": "5eb40a6c",
   "metadata": {},
   "outputs": [
    {
     "name": "stdout",
     "output_type": "stream",
     "text": [
      "The red circle's radius is : 5\n",
      "red 5\n"
     ]
    }
   ],
   "source": [
    "class shape():\n",
    "    def __init__(self, color):\n",
    "        self.color = color\n",
    "\n",
    "class circle(shape):\n",
    "    def __init__(self, color, radius):\n",
    "        super().__init__(color)\n",
    "        self.radius = radius\n",
    "        print(f\"The {self.color} circle's radius is : {self.radius}\")\n",
    "\n",
    "red = circle('red', 5)\n",
    "print(red.color, red.radius)"
   ]
  },
  {
   "cell_type": "markdown",
   "id": "3fc703e4",
   "metadata": {},
   "source": [
    "### Assignment 9: Using `super()` in Multiple Inheritance\n",
    "\n",
    "Create a class named `Person` with an attribute `name`. Create a class named `Employee` with an attribute `employee_id`. Create a derived class `Manager` that inherits from both `Person` and `Employee`. Use the `super()` function to initialize the attributes. Create an object of the `Manager` class and print its attributes."
   ]
  },
  {
   "cell_type": "code",
   "execution_count": 42,
   "id": "9e5a1116",
   "metadata": {},
   "outputs": [
    {
     "name": "stdout",
     "output_type": "stream",
     "text": [
      "hemanth 123\n"
     ]
    }
   ],
   "source": [
    "class person:\n",
    "    def __init__(self, name):\n",
    "        self.name = name\n",
    "\n",
    "class employee:\n",
    "    def __init__(self, emp_id):\n",
    "        self.emp_id = emp_id\n",
    "\n",
    "class manager(person, employee):\n",
    "    def __init__(self, name, emp_id):\n",
    "        super().__init__(name)\n",
    "        employee.__init__(self, emp_id)\n",
    "\n",
    "manager = manager('hemanth', 123)\n",
    "print(manager.name, manager.emp_id)"
   ]
  },
  {
   "cell_type": "markdown",
   "id": "1a78079c",
   "metadata": {},
   "source": [
    "### Assignment 10: Method Overriding and `super()`\n",
    "\n",
    "Create a class named `Vehicle` with a method `start` that prints a starting message. Create a derived class `Car` that overrides the `start` method to print a different message. Use the `super()` function to call the `start` method of the `Vehicle` class. Create an object of the `Car` class and call the `start` method."
   ]
  },
  {
   "cell_type": "code",
   "execution_count": 46,
   "id": "01638f45",
   "metadata": {},
   "outputs": [
    {
     "name": "stdout",
     "output_type": "stream",
     "text": [
      "vehicle started....\n"
     ]
    }
   ],
   "source": [
    "class vehicle():\n",
    "    def start(self):\n",
    "        return print(f\"vehicle started....\")\n",
    "    \n",
    "class car(vehicle):\n",
    "    def start(self):\n",
    "        super().start()\n",
    "\n",
    "car = car()\n",
    "car.start()"
   ]
  },
  {
   "cell_type": "markdown",
   "id": "4caad7d1",
   "metadata": {},
   "source": [
    "### Assignment 11: Multiple Inheritance with Different Methods\n",
    "\n",
    "Create a class named `Flyer` with a method `fly` that prints a flying message. Create a class named `Swimmer` with a method `swim` that prints a swimming message. Create a derived class `Superhero` that inherits from both `Flyer` and `Swimmer`. Create an object of the `Superhero` class and call both methods."
   ]
  },
  {
   "cell_type": "code",
   "execution_count": 49,
   "id": "a602d858",
   "metadata": {},
   "outputs": [
    {
     "name": "stdout",
     "output_type": "stream",
     "text": [
      "swimmingg......\n",
      "flyinggg......\n"
     ]
    }
   ],
   "source": [
    "class flyer:\n",
    "    def fly(self):\n",
    "        print(f\"flyinggg......\")\n",
    "\n",
    "class swimmer:\n",
    "    def swim(self):\n",
    "        print(f\"swimmingg......\")\n",
    "\n",
    "class super_hero(flyer, swimmer):\n",
    "    pass\n",
    "\n",
    "super_hero = super_hero()\n",
    "super_hero.swim()\n",
    "super_hero.fly()\n"
   ]
  },
  {
   "cell_type": "markdown",
   "id": "ce7677c8",
   "metadata": {},
   "source": [
    "### Assignment 12: Complex Multiple Inheritance\n",
    "\n",
    "Create a class named `Base1` with an attribute `a`. Create a class named `Base2` with an attribute `b`. Create a class named `Derived` that inherits from both `Base1` and `Base2` and adds an attribute `c`. Initialize all attributes using the `super()` function. Create an object of the `Derived` class and print its attributes."
   ]
  },
  {
   "cell_type": "code",
   "execution_count": 51,
   "id": "43d29847",
   "metadata": {},
   "outputs": [
    {
     "name": "stdout",
     "output_type": "stream",
     "text": [
      "1 2 3\n"
     ]
    }
   ],
   "source": [
    "class base1():\n",
    "    def __init__(self, a):\n",
    "        self.a = a\n",
    "\n",
    "class base2():\n",
    "    def __init__(self, b):\n",
    "        self.b = b\n",
    "\n",
    "class derived(base1, base2):\n",
    "    def __init__(self, a, b, c):\n",
    "        super().__init__(a)\n",
    "        base2.__init__(self,b)\n",
    "        self.c = c\n",
    "\n",
    "derived = derived(1,2,3)\n",
    "print(derived.a, derived.b, derived.c)"
   ]
  },
  {
   "cell_type": "markdown",
   "id": "940aeccc",
   "metadata": {},
   "source": [
    "### Assignment 13: Checking Instance Types with Inheritance\n",
    "\n",
    "Create a base class named `Animal` and a derived class named `Cat`. Create objects of both classes and use the `isinstance` function to check the instance types."
   ]
  },
  {
   "cell_type": "code",
   "execution_count": 54,
   "id": "2d53a24e",
   "metadata": {},
   "outputs": [
    {
     "name": "stdout",
     "output_type": "stream",
     "text": [
      "True\n",
      "True\n",
      "True\n",
      "False\n"
     ]
    }
   ],
   "source": [
    "class animal():\n",
    "    pass\n",
    "\n",
    "class cat(animal):\n",
    "    pass\n",
    "\n",
    "Animal = animal()\n",
    "Cat = cat()\n",
    "\n",
    "print(isinstance(Animal, animal))\n",
    "print(isinstance(Cat, cat))\n",
    "print(isinstance(Cat, animal))\n",
    "print(isinstance(Animal, cat))"
   ]
  },
  {
   "cell_type": "markdown",
   "id": "f5790557",
   "metadata": {},
   "source": [
    "### Assignment 14: Polymorphism with Inheritance\n",
    "\n",
    "Create a base class named `Bird` with a method `speak`. Create two derived classes `Parrot` and `Penguin` that override the `speak` method. Create a list of `Bird` objects and call the `speak` method on each object to demonstrate polymorphism."
   ]
  },
  {
   "cell_type": "code",
   "execution_count": 61,
   "id": "aa9516b0",
   "metadata": {},
   "outputs": [
    {
     "name": "stdout",
     "output_type": "stream",
     "text": [
      "Parrot is speaking....\n",
      "Penguin is speaking....\n"
     ]
    }
   ],
   "source": [
    "class bird():\n",
    "    def speak(self):\n",
    "        print(f\"bird is speaking....\")\n",
    "\n",
    "class parrot(bird):\n",
    "    def speak(self):\n",
    "        return print(\"Parrot is speaking....\")\n",
    "\n",
    "class penguin(bird):\n",
    "    def speak(self):\n",
    "        return print(\"Penguin is speaking....\")\n",
    "\n",
    "birds = [parrot(), penguin()]\n",
    "for bird in birds:\n",
    "    bird.speak()\n",
    "\n"
   ]
  },
  {
   "cell_type": "markdown",
   "id": "ba074f8a",
   "metadata": {},
   "source": [
    "### Assignment 15: Combining Single and Multiple Inheritance\n",
    "\n",
    "Create a base class named `Device` with an attribute `brand`. Create a derived class `Phone` that inherits from `Device` and adds an attribute `model`. Create another base class `Camera` with an attribute `resolution`. Create a derived class `Smartphone` that inherits from both `Phone` and `Camera`. Create an object of the `Smartphone` class and print its attributes."
   ]
  },
  {
   "cell_type": "code",
   "execution_count": 65,
   "id": "f41669c2",
   "metadata": {},
   "outputs": [
    {
     "name": "stdout",
     "output_type": "stream",
     "text": [
      "Apple Apple-15-Plus 7\n"
     ]
    }
   ],
   "source": [
    "class device():\n",
    "    def __init__(self, brand):\n",
    "        self.brand = brand\n",
    "\n",
    "class phone(device):\n",
    "    def __init__(self, brand, model):\n",
    "        super().__init__(brand)\n",
    "        self.model = model\n",
    "\n",
    "class camera():\n",
    "    def __init__(self, resolution):\n",
    "        self.resolution = resolution\n",
    "\n",
    "class smart_phone(phone, camera):\n",
    "    def __init__(self, brand, model, resolution):\n",
    "        super().__init__(brand, model)\n",
    "        camera.__init__(self, resolution)\n",
    "\n",
    "spec = smart_phone('Apple', 'Apple-15-Plus', 7)\n",
    "print(spec.brand, spec.model, spec.resolution)"
   ]
  }
 ],
 "metadata": {
  "kernelspec": {
   "display_name": "venv",
   "language": "python",
   "name": "python3"
  },
  "language_info": {
   "codemirror_mode": {
    "name": "ipython",
    "version": 3
   },
   "file_extension": ".py",
   "mimetype": "text/x-python",
   "name": "python",
   "nbconvert_exporter": "python",
   "pygments_lexer": "ipython3",
   "version": "3.10.0"
  }
 },
 "nbformat": 4,
 "nbformat_minor": 5
}
