{
 "cells": [
  {
   "cell_type": "markdown",
   "id": "6b225843",
   "metadata": {},
   "source": [
    "# Module 3: Data Structures Assignments\n",
    "## Lesson 3.1: Lists\n",
    "### Assignment 1: Creating and Accessing Lists\n",
    "\n",
    "Create a list of the first 20 positive integers. Print the list."
   ]
  },
  {
   "cell_type": "code",
   "execution_count": null,
   "metadata": {},
   "outputs": [],
   "source": [
    "lst = [1,2,3,4,5,6,7,8,9,10,11,12,13,14,15,16,17,18,19,20]\n",
    "lst"
   ]
  },
  {
   "cell_type": "markdown",
   "id": "5b824c84",
   "metadata": {},
   "source": [
    "### Assignment 2: Accessing List Elements\n",
    "\n",
    "Print the first, middle, and last elements of the list created in Assignment 1."
   ]
  },
  {
   "cell_type": "code",
   "execution_count": null,
   "id": "ffbb3109",
   "metadata": {},
   "outputs": [],
   "source": [
    "print(f'first element in the list is {lst[0]}')\n",
    "print(f'middle element in the list is {len(lst)//2}')\n",
    "print(f'last element in the list is {lst[-1]}')"
   ]
  },
  {
   "cell_type": "markdown",
   "id": "7df48dce",
   "metadata": {},
   "source": [
    "### Assignment 3: List Slicing\n",
    "\n",
    "Print the first five elements, the last five elements, and the elements from index 5 to 15 of the list created in Assignment 1."
   ]
  },
  {
   "cell_type": "code",
   "execution_count": null,
   "id": "d4bc1216",
   "metadata": {},
   "outputs": [],
   "source": [
    "print(f'First 5 elements in the list are {lst[0:5]}')\n",
    "print(f'Last 5 elements in the list are {lst[-5:]}')\n",
    "print(f'elements from index 5 to 15 {lst[5:15]}')"
   ]
  },
  {
   "cell_type": "markdown",
   "id": "e060128a",
   "metadata": {},
   "source": [
    "### Assignment 4: List Comprehensions\n",
    "\n",
    "Create a new list containing the squares of the first 10 positive integers using a list comprehension. Print the new list.\n"
   ]
  },
  {
   "cell_type": "code",
   "execution_count": null,
   "id": "a5a0b2ba",
   "metadata": {},
   "outputs": [],
   "source": [
    "lst_1 = [x**2 for x in range(11)]\n",
    "print(lst_1)"
   ]
  },
  {
   "cell_type": "markdown",
   "id": "e1b026d9",
   "metadata": {},
   "source": [
    "### Assignment 5: Filtering Lists\n",
    "\n",
    "Create a new list containing only the even numbers from the list created in Assignment 1 using a list comprehension. Print the new list."
   ]
  },
  {
   "cell_type": "code",
   "execution_count": null,
   "id": "ee2c73c3",
   "metadata": {},
   "outputs": [],
   "source": [
    "even_numbers_lst = [x for x in lst if x%2==0]\n",
    "print(f\"List of even numbers : {even_numbers_lst}\")"
   ]
  },
  {
   "cell_type": "markdown",
   "id": "3236c3ba",
   "metadata": {},
   "source": [
    "### Assignment 6: List Methods\n",
    "\n",
    "Create a list of random numbers and sort it in ascending and descending order. Remove the duplicates from the list and print the modified list."
   ]
  },
  {
   "cell_type": "code",
   "execution_count": null,
   "id": "e59d27b4",
   "metadata": {},
   "outputs": [],
   "source": [
    "numbers_lst = [4,7,8,4,9,2,1,8,9]\n",
    "\n",
    "sorted_asc = sorted(numbers_lst)\n",
    "print(f'numbers in ascending {sorted_asc}')\n",
    "\n",
    "sorted_desc = sorted(numbers_lst, reverse=True)\n",
    "print(f'numbers in Descending {sorted_desc}')\n",
    "\n",
    "Unique_numbers = list(set(numbers_lst))\n",
    "print(f'unique numbers {Unique_numbers}')\n",
    "\n"
   ]
  },
  {
   "cell_type": "markdown",
   "id": "fe8a556d",
   "metadata": {},
   "source": [
    "### Assignment 7: Nested Lists\n",
    "\n",
    "Create a nested list representing a 3x3 matrix and print the matrix. Access and print the element at the second row and third column."
   ]
  },
  {
   "cell_type": "code",
   "execution_count": null,
   "id": "09ce3cf5",
   "metadata": {},
   "outputs": [],
   "source": [
    "matrix = [[1,2,3],\n",
    "          [4,5,6],\n",
    "          [7,8,9]]\n",
    "\n",
    "print(matrix)\n",
    "\n",
    "print(matrix[1][2])"
   ]
  },
  {
   "cell_type": "markdown",
   "id": "b8128a22",
   "metadata": {},
   "source": [
    "### Assignment 8: List of Dictionaries\n",
    "\n",
    "Create a list of dictionaries where each dictionary represents a student with keys 'name' and 'score'. Sort the list of dictionaries by the 'score' in descending order and print the sorted list."
   ]
  },
  {
   "cell_type": "code",
   "execution_count": null,
   "id": "aad6973f",
   "metadata": {},
   "outputs": [],
   "source": []
  },
  {
   "cell_type": "markdown",
   "id": "d01f028b",
   "metadata": {},
   "source": [
    "### Assignment 9: Matrix Transposition\n",
    "\n",
    "Write a function that takes a 3x3 matrix (nested list) as input and returns its transpose. Print the original and transposed matrices."
   ]
  },
  {
   "cell_type": "code",
   "execution_count": null,
   "id": "394b9672",
   "metadata": {},
   "outputs": [],
   "source": [
    "len(matrix)"
   ]
  },
  {
   "cell_type": "code",
   "execution_count": null,
   "id": "7a105bf8",
   "metadata": {},
   "outputs": [],
   "source": [
    "print(f'original matrix : {matrix}')\n",
    "\n",
    "# for x in range(len(matrix[0])):\n",
    "#     print(x)\n",
    "#     new_row = []\n",
    "#     for y in range(len(matrix)):\n",
    "#         new_row.append(matrix[y][x])\n",
    "#         print(new_row)\n",
    "\n",
    "\n",
    "def transposed_matrix(matrix):\n",
    "    transposed = [[matrix[x][y] for x in range(len(matrix))] for y in range(len(matrix[0]))]\n",
    "    return transposed\n",
    "\n",
    "transposed = transposed_matrix(matrix)\n",
    "\n",
    "for row in transposed:\n",
    "    print(row)\n"
   ]
  },
  {
   "cell_type": "markdown",
   "id": "94c00eac",
   "metadata": {},
   "source": [
    "### Assignment 10: Flattening a Nested List\n",
    "\n",
    "Write a function that takes a nested list and flattens it into a single list. Print the original and flattened lists."
   ]
  },
  {
   "cell_type": "code",
   "execution_count": null,
   "id": "87e0d440",
   "metadata": {},
   "outputs": [],
   "source": [
    "nested_list = [[1, 2, 3], [4, 5, 6], [7, 8, 9]]\n",
    "flattened_list = [item for sublist in nested_list for item in sublist]\n",
    "\n",
    "print(flattened_list)\n",
    "\n",
    "# list=[]\n",
    "# for sublist in matrix:\n",
    "#     for items in sublist:\n",
    "#         list.append(items)\n",
    "# print(list)\n"
   ]
  },
  {
   "cell_type": "markdown",
   "id": "5eb1eb0c",
   "metadata": {},
   "source": [
    "### Assignment 11: List Manipulation\n",
    "\n",
    "Create a list of the first 10 positive integers. Remove the elements at indices 2, 4, and 6, and insert the element '99' at index 5. Print the modified list."
   ]
  },
  {
   "cell_type": "code",
   "execution_count": 1,
   "id": "6b7abf85",
   "metadata": {},
   "outputs": [
    {
     "name": "stdout",
     "output_type": "stream",
     "text": [
      "[1, 2, 4, 6, 8, 99, 9, 10]\n"
     ]
    }
   ],
   "source": [
    "lst = list(range(1,11))\n",
    "indices_to_remove = [2,4,6]\n",
    "\n",
    "removed_list = [x for idx, x in enumerate(lst) if idx not in indices_to_remove]\n",
    "removed_list.insert(5,99)\n",
    "print(removed_list)\n"
   ]
  },
  {
   "cell_type": "markdown",
   "id": "da1dbe6a",
   "metadata": {},
   "source": [
    "### Assignment 12: List Zipping\n",
    "\n",
    "Create two lists of the same length. Use the `zip` function to combine these lists into a list of tuples and print the result."
   ]
  },
  {
   "cell_type": "code",
   "execution_count": 7,
   "id": "daadb00d",
   "metadata": {},
   "outputs": [
    {
     "name": "stdout",
     "output_type": "stream",
     "text": [
      "[(1, 'a'), (2, 'b'), (3, 'c'), (4, 'd'), (5, 'e')]\n"
     ]
    }
   ],
   "source": [
    "lst_1 = [1,2,3,4,5]\n",
    "lst_2 = ['a','b','c','d','e']\n",
    "\n",
    "zipped_lst = list(zip(lst_1, lst_2))\n",
    "print(zipped_lst)"
   ]
  },
  {
   "cell_type": "markdown",
   "id": "10ed023d",
   "metadata": {},
   "source": [
    "### Assignment 13: List Reversal\n",
    "\n",
    "Write a function that takes a list and returns a new list with the elements in reverse order. Print the original and reversed lists."
   ]
  },
  {
   "cell_type": "code",
   "execution_count": 9,
   "id": "c1e9664a",
   "metadata": {},
   "outputs": [
    {
     "name": "stdout",
     "output_type": "stream",
     "text": [
      "[8, 5, 9, 7, 4, 3, 1]\n"
     ]
    },
    {
     "data": {
      "text/plain": [
       "[2, 72, 6, 5, 3]"
      ]
     },
     "execution_count": 9,
     "metadata": {},
     "output_type": "execute_result"
    }
   ],
   "source": [
    "lst_1 = [1,3,4,7,9,5,8]\n",
    "lst_1.reverse()\n",
    "print(lst_1)\n",
    "\n",
    "lst_2 = [3,5,6,72,2]\n",
    "\n",
    "def reverse_lst(lst_2):\n",
    "    reverse_lst = lst_2[::-1]\n",
    "    return reverse_lst\n",
    "\n",
    "reverse_lst(lst_2)"
   ]
  },
  {
   "cell_type": "markdown",
   "id": "576014b7",
   "metadata": {},
   "source": [
    "### Assignment 14: List Rotation\n",
    "\n",
    "Write a function that rotates a list by n positions. Print the original and rotated lists."
   ]
  },
  {
   "cell_type": "code",
   "execution_count": 14,
   "id": "e21911a1",
   "metadata": {},
   "outputs": [
    {
     "data": {
      "text/plain": [
       "[3, 5, 6, 72, 2]"
      ]
     },
     "execution_count": 14,
     "metadata": {},
     "output_type": "execute_result"
    }
   ],
   "source": [
    "def rotate_lst(lst, n):\n",
    "    lst[n:] + lst[:n]\n",
    "    return lst\n",
    "\n",
    "rotate_lst(lst_2, 3)"
   ]
  },
  {
   "cell_type": "markdown",
   "id": "88a662ca",
   "metadata": {},
   "source": [
    "### Assignment 15: List Intersection\n",
    "\n",
    "Write a function that takes two lists and returns a new list containing only the elements that are present in both lists. Print the intersected list."
   ]
  },
  {
   "cell_type": "code",
   "execution_count": 3,
   "id": "64d85ded",
   "metadata": {},
   "outputs": [
    {
     "name": "stdout",
     "output_type": "stream",
     "text": [
      "[3, 4, 5]\n"
     ]
    }
   ],
   "source": [
    "def intersection_fn(lst_1, lst_2):\n",
    "    intersection_list = [x for x in lst_1 if x in lst_2]\n",
    "    return print(intersection_list)\n",
    "\n",
    "lst_1 = [1,2,3,4,5]\n",
    "lst_2 = [3,4,5,6,7]\n",
    "\n",
    "intersection_fn(lst_1, lst_2)\n",
    "\n",
    "\n"
   ]
  },
  {
   "cell_type": "code",
   "execution_count": null,
   "id": "1bf01820",
   "metadata": {},
   "outputs": [],
   "source": []
  }
 ],
 "metadata": {
  "kernelspec": {
   "display_name": "venv",
   "language": "python",
   "name": "python3"
  },
  "language_info": {
   "codemirror_mode": {
    "name": "ipython",
    "version": 3
   },
   "file_extension": ".py",
   "mimetype": "text/x-python",
   "name": "python",
   "nbconvert_exporter": "python",
   "pygments_lexer": "ipython3",
   "version": "3.10.0"
  }
 },
 "nbformat": 4,
 "nbformat_minor": 5
}
