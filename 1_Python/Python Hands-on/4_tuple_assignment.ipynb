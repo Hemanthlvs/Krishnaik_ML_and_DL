{
 "cells": [
  {
   "cell_type": "markdown",
   "id": "8fbced5f",
   "metadata": {},
   "source": [
    "# Module 3: Data Structures Assignments\n",
    "## Lesson 3.2: Tuples\n",
    "### Assignment 1: Creating and Accessing Tuples\n",
    "\n",
    "Create a tuple with the first 10 positive integers. Print the tuple."
   ]
  },
  {
   "cell_type": "code",
   "execution_count": 11,
   "metadata": {},
   "outputs": [
    {
     "name": "stdout",
     "output_type": "stream",
     "text": [
      "(1, 2, 3, 4, 5, 6, 7, 8, 9, 10)\n"
     ]
    }
   ],
   "source": [
    "#tpl = (1,2,3,4,5,6,7,8,9,10)\n",
    "tpl = tuple(range(1,11))\n",
    "print(tpl)"
   ]
  },
  {
   "cell_type": "markdown",
   "id": "7f67560d",
   "metadata": {},
   "source": [
    "### Assignment 2: Accessing Tuple Elements\n",
    "\n",
    "Print the first, middle, and last elements of the tuple created in Assignment 1."
   ]
  },
  {
   "cell_type": "code",
   "execution_count": null,
   "id": "66a95d2f",
   "metadata": {},
   "outputs": [],
   "source": [
    "print(f\"first element of the tuple {tpl[0]}\")\n",
    "print(f\"Last element of the tuple {tpl[-1]}\")\n",
    "print(f\"middle element of the tuple {tpl[len(tpl)//2]}\")"
   ]
  },
  {
   "cell_type": "markdown",
   "id": "b6d4d431",
   "metadata": {},
   "source": [
    "### Assignment 3: Tuple Slicing\n",
    "\n",
    "Print the first three elements, the last three elements, and the elements from index 2 to 5 of the tuple created in Assignment 1."
   ]
  },
  {
   "cell_type": "code",
   "execution_count": 15,
   "id": "f1dfdc81",
   "metadata": {},
   "outputs": [
    {
     "name": "stdout",
     "output_type": "stream",
     "text": [
      "First 3 elements of the tuple are : (1, 2, 3)\n",
      "Last 3 elements of the tuple are : (8, 9, 10)\n",
      "Elements from index 2 to 5 of the tuple are : (3, 4, 5)\n"
     ]
    }
   ],
   "source": [
    "print(f\"First 3 elements of the tuple are : {tpl[:3]}\")\n",
    "print(f\"Last 3 elements of the tuple are : {tpl[-3:]}\")\n",
    "print(f\"Elements from index 2 to 5 of the tuple are : {tpl[2:5]}\")"
   ]
  },
  {
   "cell_type": "markdown",
   "id": "f66886ea",
   "metadata": {},
   "source": [
    "### Assignment 4: Nested Tuples\n",
    "\n",
    "Create a nested tuple representing a 3x3 matrix and print the matrix. Access and print the element at the second row and third column."
   ]
  },
  {
   "cell_type": "code",
   "execution_count": null,
   "id": "fb4262e2",
   "metadata": {},
   "outputs": [],
   "source": [
    "nested_tpl = ((1,2,3),(4,5,6),(7,8,9))\n",
    "nested_tpl[1][2]"
   ]
  },
  {
   "cell_type": "markdown",
   "id": "ab84c744",
   "metadata": {},
   "source": [
    "### Assignment 5: Tuple Concatenation\n",
    "\n",
    "Concatenate two tuples: (1, 2, 3) and (4, 5, 6). Print the resulting tuple."
   ]
  },
  {
   "cell_type": "code",
   "execution_count": null,
   "id": "77f9b2bf",
   "metadata": {},
   "outputs": [],
   "source": [
    "tpl_1 = (1,2,3)\n",
    "tpl_2 = (4,5,6)\n",
    "concatenation = tpl_1 + tpl_2\n",
    "print(concatenation)"
   ]
  },
  {
   "cell_type": "markdown",
   "id": "59b03a9e",
   "metadata": {},
   "source": [
    "### Assignment 6: Tuple Methods\n",
    "\n",
    "Create a tuple with duplicate elements and count the occurrences of an element. Find the index of the first occurrence of an element in the tuple."
   ]
  },
  {
   "cell_type": "code",
   "execution_count": null,
   "id": "8f1643a0",
   "metadata": {},
   "outputs": [],
   "source": [
    "dup_tpl = (1,2,2,4,6,7,8,8)\n",
    "print(f\"occurance of an element 8 is : {dup_tpl.count(8)}\")\n",
    "print(f\"Index of first occurance of an element is : {dup_tpl.index(2)}\")"
   ]
  },
  {
   "cell_type": "markdown",
   "id": "8d5f2937",
   "metadata": {},
   "source": [
    "### Assignment 7: Unpacking Tuples\n",
    "\n",
    "Create a tuple with 5 elements and unpack it into 5 variables. Print the variables."
   ]
  },
  {
   "cell_type": "code",
   "execution_count": null,
   "id": "d5ef04a5",
   "metadata": {},
   "outputs": [],
   "source": [
    "tpl = 1,2,\"Hemanth\", 5.7, \"hello\"\n",
    "sno, id, name, height, message = tpl\n",
    "\n",
    "print(sno)\n",
    "print(id)\n",
    "print(name)\n",
    "print(height)\n",
    "print(message)\n"
   ]
  },
  {
   "cell_type": "markdown",
   "id": "9faff997",
   "metadata": {},
   "source": [
    "### Assignment 8: Tuple Conversion\n",
    "\n",
    "Convert a list of the first 5 positive integers to a tuple. Print the tuple."
   ]
  },
  {
   "cell_type": "code",
   "execution_count": null,
   "id": "4646802c",
   "metadata": {},
   "outputs": [],
   "source": [
    "lst = [1,2,3,4,5]\n",
    "tpl = tuple(lst)\n",
    "print(type(tpl))"
   ]
  },
  {
   "cell_type": "markdown",
   "id": "34ffa371",
   "metadata": {},
   "source": [
    "### Assignment 9: Tuple of Tuples\n",
    "\n",
    "Create a tuple containing 3 tuples, each with 3 elements. Print the tuple of tuples."
   ]
  },
  {
   "cell_type": "code",
   "execution_count": 16,
   "id": "91878985",
   "metadata": {},
   "outputs": [
    {
     "name": "stdout",
     "output_type": "stream",
     "text": [
      "((1, 2, 3), (4, 5, 6), (7, 8, 9))\n"
     ]
    }
   ],
   "source": [
    "nested_tpl = ((1,2,3),(4,5,6),(7,8,9))\n",
    "print(nested_tpl)"
   ]
  },
  {
   "cell_type": "markdown",
   "id": "5a93724e",
   "metadata": {},
   "source": [
    "### Assignment 10: Tuple and List\n",
    "\n",
    "Create a tuple with the first 5 positive integers. Convert it to a list, append the number 6, and convert it back to a tuple. Print the resulting tuple."
   ]
  },
  {
   "cell_type": "code",
   "execution_count": null,
   "id": "5c5448f4",
   "metadata": {},
   "outputs": [],
   "source": [
    "tpl = (1,2,3,4,5)\n",
    "lst = list(tpl)\n",
    "print(type(lst))\n",
    "lst.append(6)\n",
    "print(lst)\n",
    "tpl = tuple(lst)\n",
    "print(tpl)"
   ]
  },
  {
   "cell_type": "markdown",
   "id": "c648891f",
   "metadata": {},
   "source": [
    "### Assignment 11: Tuple and String\n",
    "\n",
    "Create a tuple with the characters of a string. Join the tuple elements into a single string. Print the string."
   ]
  },
  {
   "cell_type": "code",
   "execution_count": 18,
   "id": "d06bb11c",
   "metadata": {},
   "outputs": [
    {
     "name": "stdout",
     "output_type": "stream",
     "text": [
      "hello world!!!\n"
     ]
    }
   ],
   "source": [
    "tpl = (\"hello\",\" \",\"world\",\"!!!\")\n",
    "joined_tpl = ''.join(tpl)\n",
    "print(joined_tpl)"
   ]
  },
  {
   "cell_type": "markdown",
   "id": "849c040a",
   "metadata": {},
   "source": [
    "### Assignment 12: Tuple and Dictionary\n",
    "\n",
    "Create a dictionary with tuple keys and integer values. Print the dictionary."
   ]
  },
  {
   "cell_type": "markdown",
   "id": "c1b659a3",
   "metadata": {},
   "source": []
  },
  {
   "cell_type": "markdown",
   "id": "355eb9d7",
   "metadata": {},
   "source": [
    "### Assignment 13: Nested Tuple Iteration\n",
    "\n",
    "Create a nested tuple and iterate over the elements, printing each element."
   ]
  },
  {
   "cell_type": "code",
   "execution_count": 1,
   "id": "f783689a",
   "metadata": {},
   "outputs": [
    {
     "data": {
      "text/plain": [
       "(1, 2, 3, 4, 5, 6, 7, 8, 9)"
      ]
     },
     "execution_count": 1,
     "metadata": {},
     "output_type": "execute_result"
    }
   ],
   "source": [
    "nested_tpl = ((1,2,3),(4,5,6),(7,8,9))\n",
    "#each_element = [nested_tpl[x][y] for x in range(len(nested_tpl)) for y in range(len(nested_tpl))]\n",
    "each_element = [y for x in nested_tpl for y in x]\n",
    "tuple(each_element)"
   ]
  },
  {
   "cell_type": "markdown",
   "id": "d8dc2342",
   "metadata": {},
   "source": [
    "### Assignment 14: Tuple and Set\n",
    "\n",
    "Create a tuple with duplicate elements. Convert it to a set to remove duplicates and print the resulting set."
   ]
  },
  {
   "cell_type": "code",
   "execution_count": 2,
   "id": "4548e579",
   "metadata": {},
   "outputs": [
    {
     "name": "stdout",
     "output_type": "stream",
     "text": [
      "{1, 2, 3, 4, 5, 6, 7}\n"
     ]
    }
   ],
   "source": [
    "tpl = (1,2,3,4,4,5,6,6,7)\n",
    "set_elements = set(tpl)\n",
    "print(set_elements)\n",
    "\n"
   ]
  },
  {
   "cell_type": "markdown",
   "id": "e4bd463a",
   "metadata": {},
   "source": [
    "### Assignment 15: Tuple Functions\n",
    "\n",
    "Write functions that take a tuple and return the minimum, maximum, and sum of the elements. Print the results for a sample tuple."
   ]
  },
  {
   "cell_type": "code",
   "execution_count": 9,
   "id": "1328c26c",
   "metadata": {},
   "outputs": [
    {
     "name": "stdout",
     "output_type": "stream",
     "text": [
      "minimum value of the tuple : 1\n",
      "maximum value of the tuple : 10\n",
      "sum of the elements of the tuple : 55\n"
     ]
    }
   ],
   "source": [
    "def aggregation (tpl):\n",
    "    min_value = min(tpl)\n",
    "    print(f\"minimum value of the tuple : {min_value}\")\n",
    "    max_value = max(tpl)\n",
    "    print(f\"maximum value of the tuple : {max_value}\")\n",
    "    sum_elements = sum(tpl)\n",
    "    print(f\"sum of the elements of the tuple : {sum_elements}\")\n",
    "    \n",
    "\n",
    "tpl = (1,2,3,4,5,6,7,8,9,10)\n",
    "aggregation(tpl)"
   ]
  }
 ],
 "metadata": {
  "kernelspec": {
   "display_name": "venv",
   "language": "python",
   "name": "python3"
  },
  "language_info": {
   "codemirror_mode": {
    "name": "ipython",
    "version": 3
   },
   "file_extension": ".py",
   "mimetype": "text/x-python",
   "name": "python",
   "nbconvert_exporter": "python",
   "pygments_lexer": "ipython3",
   "version": "3.10.0"
  }
 },
 "nbformat": 4,
 "nbformat_minor": 5
}
