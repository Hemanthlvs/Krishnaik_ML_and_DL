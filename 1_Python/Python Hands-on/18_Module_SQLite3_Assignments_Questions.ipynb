{
 "cells": [
  {
   "cell_type": "markdown",
   "id": "964cf61d",
   "metadata": {},
   "source": [
    "# Module: SQLite3 Assignments\n",
    "## Lesson: SQLite3\n",
    "### Assignment 1: Creating and Connecting to a Database\n",
    "\n",
    "1. Write a Python function to create a new SQLite3 database named `test.db`."
   ]
  },
  {
   "cell_type": "code",
   "execution_count": 2,
   "metadata": {},
   "outputs": [
    {
     "name": "stdout",
     "output_type": "stream",
     "text": [
      "Database test_db created\n"
     ]
    }
   ],
   "source": [
    "import sqlite3\n",
    "\n",
    "def create_database():\n",
    "    conn = sqlite3.Connection('test.db')\n",
    "    conn.close()\n",
    "    print(\"Database test_db created\")\n",
    "\n",
    "create_database()"
   ]
  },
  {
   "cell_type": "markdown",
   "id": "2c5b814f",
   "metadata": {},
   "source": [
    "2. Write a Python function to create a table named `employees` with columns `id` (integer), `name` (text), `age` (integer), and `department` (text) in the `test.db` database.\n"
   ]
  },
  {
   "cell_type": "code",
   "execution_count": 4,
   "id": "0011f667",
   "metadata": {},
   "outputs": [
    {
     "name": "stdout",
     "output_type": "stream",
     "text": [
      "Table employees got created\n"
     ]
    }
   ],
   "source": [
    "def create_table():\n",
    "    conn = sqlite3.Connection('test.db')\n",
    "    cur = conn.cursor()\n",
    "    cur.execute('''\n",
    "                create table if not exists employees(\n",
    "                id integer primary key,\n",
    "                name text not null,\n",
    "                age integer,\n",
    "                department text\n",
    "                )\n",
    "                ''')\n",
    "    conn.commit()\n",
    "    conn.close()\n",
    "    print(\"Table employees got created\")\n",
    "\n",
    "\n",
    "create_table()"
   ]
  },
  {
   "cell_type": "markdown",
   "id": "5dba53f3",
   "metadata": {},
   "source": [
    "### Assignment 2: Inserting Data\n",
    "\n",
    "1. Write a Python function to insert a new employee into the `employees` table."
   ]
  },
  {
   "cell_type": "code",
   "execution_count": 9,
   "id": "18b77526",
   "metadata": {},
   "outputs": [
    {
     "name": "stdout",
     "output_type": "stream",
     "text": [
      "New employee got added\n"
     ]
    }
   ],
   "source": [
    "def new_employee(id,name,age,dep):\n",
    "    conn = sqlite3.Connection('test.db')\n",
    "    cur = conn.cursor()\n",
    "    cur.execute('''\n",
    "                   insert into employees(id,name,age,department)\n",
    "                    values(?,?,?,?)\n",
    "            ''',(id,name,age,dep))\n",
    "    conn.commit()\n",
    "    conn.close()\n",
    "    print(\"New employee got added\")\n",
    "\n",
    "new_employee(2,'Raju',29,'HR')"
   ]
  },
  {
   "cell_type": "markdown",
   "id": "a9b05246",
   "metadata": {},
   "source": [
    "2. Insert at least 5 different employees into the `employees` table."
   ]
  },
  {
   "cell_type": "code",
   "execution_count": 10,
   "id": "57385e31",
   "metadata": {},
   "outputs": [
    {
     "name": "stdout",
     "output_type": "stream",
     "text": [
      "New employee got added\n",
      "New employee got added\n",
      "New employee got added\n",
      "New employee got added\n",
      "New employee got added\n"
     ]
    }
   ],
   "source": [
    "new_employee(42,'Ramu',32,'Data scientist')\n",
    "new_employee(54,'Ravi',42,'Data analyst')\n",
    "new_employee(27,'Rajesh',25,'security')\n",
    "new_employee(12,'babji',38,'Beggar')\n",
    "new_employee(90,'bannu',37,'CEO')"
   ]
  },
  {
   "cell_type": "markdown",
   "id": "f37f91dd",
   "metadata": {},
   "source": [
    "### Assignment 3: Querying Data\n",
    "\n",
    "1. Write a Python function to fetch and display all records from the `employees` table."
   ]
  },
  {
   "cell_type": "code",
   "execution_count": 31,
   "id": "a5d50e0a",
   "metadata": {},
   "outputs": [
    {
     "name": "stdout",
     "output_type": "stream",
     "text": [
      "(1, 'Hemanth', 30, 'Data engineer')\n",
      "(2, 'Raju', 29, 'HR')\n",
      "(12, 'babji', 38, 'Beggar')\n",
      "(27, 'Rajesh', 25, 'security')\n",
      "(42, 'Ramu', 32, 'Data scientist')\n",
      "(54, 'Ravi', 42, 'Data analyst')\n",
      "(90, 'bannu', 37, 'CEO')\n"
     ]
    }
   ],
   "source": [
    "def fetch_employees():\n",
    "    conn = sqlite3.Connection('test.db')\n",
    "    cur = conn.cursor()\n",
    "    cur.execute('''\n",
    "                    select * from employees\n",
    "                ''')\n",
    "    records = cur.fetchall()\n",
    "    conn.close()\n",
    "    for record in records:\n",
    "        print(record)\n",
    "    \n",
    "fetch_employees()"
   ]
  },
  {
   "cell_type": "markdown",
   "id": "63d8a6d8",
   "metadata": {},
   "source": [
    "2. Write a Python function to fetch and display all employees from a specific department."
   ]
  },
  {
   "cell_type": "code",
   "execution_count": 22,
   "id": "d736ed2c",
   "metadata": {},
   "outputs": [
    {
     "name": "stdout",
     "output_type": "stream",
     "text": [
      "(2, 'Raju', 29, 'HR')\n"
     ]
    }
   ],
   "source": [
    "def fetch_emp_dep(dep):\n",
    "    conn = sqlite3.Connection('test.db')\n",
    "    cur = conn.cursor()\n",
    "    cur.execute(' select * from employees where department = ? ',(dep,))\n",
    "    records = cur.fetchall()\n",
    "    conn.close()\n",
    "    for record in records:\n",
    "        print(record)\n",
    "    \n",
    "fetch_emp_dep('HR')"
   ]
  },
  {
   "cell_type": "markdown",
   "id": "80a92736",
   "metadata": {},
   "source": [
    "### Assignment 4: Updating Data\n",
    "\n",
    "1. Write a Python function to update the department of an employee based on their `id`."
   ]
  },
  {
   "cell_type": "code",
   "execution_count": 33,
   "id": "49c3c7e0",
   "metadata": {},
   "outputs": [
    {
     "name": "stdout",
     "output_type": "stream",
     "text": [
      "Records got updated\n",
      "(1, 'Hemanth', 30, 'Data scientist')\n",
      "(2, 'Raju', 29, 'HR')\n",
      "(12, 'babji', 38, 'Beggar')\n",
      "(27, 'Rajesh', 25, 'security')\n",
      "(42, 'Ramu', 32, 'Data scientist')\n",
      "(54, 'Ravi', 42, 'Data analyst')\n",
      "(90, 'bannu', 37, 'CEO')\n"
     ]
    }
   ],
   "source": [
    "def updt_dep_id(id,dep):\n",
    "    conn = sqlite3.connect('test.db')\n",
    "    cur = conn.cursor()\n",
    "    cur.execute('''update employees\n",
    "                set department = ?\n",
    "                where id = ?\n",
    "                ''',(dep,id))\n",
    "    conn.commit()    \n",
    "    conn.close()\n",
    "    print('Records got updated')\n",
    "\n",
    "updt_dep_id(1,'Data scientist')\n",
    "fetch_employees()"
   ]
  },
  {
   "cell_type": "markdown",
   "id": "18fface6",
   "metadata": {},
   "source": [
    "2. Update the department of at least 2 employees and display the updated records."
   ]
  },
  {
   "cell_type": "code",
   "execution_count": 35,
   "id": "fda9d773",
   "metadata": {},
   "outputs": [
    {
     "name": "stdout",
     "output_type": "stream",
     "text": [
      "Records got updated\n",
      "Records got updated\n",
      "(1, 'Hemanth', 30, 'Data scientist')\n",
      "(2, 'Raju', 29, 'HR')\n",
      "(12, 'babji', 38, 'manager')\n",
      "(27, 'Rajesh', 25, 'Data scientist')\n",
      "(42, 'Ramu', 32, 'Data scientist')\n",
      "(54, 'Ravi', 42, 'Data analyst')\n",
      "(90, 'bannu', 37, 'CEO')\n"
     ]
    }
   ],
   "source": [
    "updt_dep_id(12,'manager')\n",
    "updt_dep_id(27,'Data scientist')\n",
    "fetch_employees()"
   ]
  },
  {
   "cell_type": "markdown",
   "id": "84403d58",
   "metadata": {},
   "source": [
    "### Assignment 5: Deleting Data\n",
    "\n",
    "1. Write a Python function to delete an employee from the `employees` table based on their `id`."
   ]
  },
  {
   "cell_type": "code",
   "execution_count": 40,
   "id": "71c04f6b",
   "metadata": {},
   "outputs": [],
   "source": [
    "def del_emp_id(id):\n",
    "    conn = sqlite3.connect('test.db')\n",
    "    cur = conn.cursor()\n",
    "    cur.execute('''\n",
    "                    delete from employees where id = ?\n",
    "                ''',(id,))\n",
    "    conn.commit()\n",
    "    conn.close()\n",
    "    print('Employee got deleted')\n",
    "\n"
   ]
  },
  {
   "cell_type": "markdown",
   "id": "adefeb14",
   "metadata": {},
   "source": [
    "2. Delete at least 1 employee and display the remaining records."
   ]
  },
  {
   "cell_type": "code",
   "execution_count": 41,
   "id": "3b57b91f",
   "metadata": {},
   "outputs": [
    {
     "name": "stdout",
     "output_type": "stream",
     "text": [
      "Employee got deleted\n",
      "(1, 'Hemanth', 30, 'Data scientist')\n",
      "(2, 'Raju', 29, 'HR')\n",
      "(12, 'babji', 38, 'manager')\n",
      "(42, 'Ramu', 32, 'Data scientist')\n",
      "(54, 'Ravi', 42, 'Data analyst')\n",
      "(90, 'bannu', 37, 'CEO')\n"
     ]
    }
   ],
   "source": [
    "del_emp_id(27)\n",
    "fetch_employees()"
   ]
  },
  {
   "cell_type": "markdown",
   "id": "a69df568",
   "metadata": {},
   "source": [
    "### Assignment 6: Advanced Queries\n",
    "\n",
    "1. Write a Python function to fetch and display employees older than a certain age."
   ]
  },
  {
   "cell_type": "code",
   "execution_count": 43,
   "id": "714bfee8",
   "metadata": {},
   "outputs": [
    {
     "name": "stdout",
     "output_type": "stream",
     "text": [
      "Employee whose age is greater than 29\n",
      "(1, 'Hemanth', 30, 'Data scientist')\n",
      "(12, 'babji', 38, 'manager')\n",
      "(42, 'Ramu', 32, 'Data scientist')\n",
      "(54, 'Ravi', 42, 'Data analyst')\n",
      "(90, 'bannu', 37, 'CEO')\n"
     ]
    }
   ],
   "source": [
    "def filter_age(age):\n",
    "    conn = sqlite3.connect('test.db')\n",
    "    cur = conn.cursor()\n",
    "    cur.execute('''\n",
    "                    select * from employees where age > ?\n",
    "                ''',(age,))\n",
    "    data = cur.fetchall()\n",
    "    print(f'Employee whose age is greater than {age}')\n",
    "    for record in data:\n",
    "        print(record)\n",
    "    conn.close()\n",
    "    \n",
    "filter_age(29)"
   ]
  },
  {
   "cell_type": "markdown",
   "id": "cdfa88ad",
   "metadata": {},
   "source": [
    "2. Write a Python function to fetch and display employees whose names start with a specific letter."
   ]
  },
  {
   "cell_type": "code",
   "execution_count": 47,
   "id": "a26fcba5",
   "metadata": {},
   "outputs": [
    {
     "name": "stdout",
     "output_type": "stream",
     "text": [
      "Employee whose name starts with letter -- H\n",
      "(1, 'Hemanth', 30, 'Data scientist')\n"
     ]
    }
   ],
   "source": [
    "def filter_like(letter):\n",
    "    conn = sqlite3.connect('test.db')\n",
    "    cur = conn.cursor()\n",
    "    cur.execute(' select * from employees where name like ? ',(letter+'%',))\n",
    "    data = cur.fetchall()\n",
    "    print(f'Employee whose name starts with letter -- {letter}')\n",
    "    for record in data:\n",
    "        print(record)\n",
    "    conn.close()\n",
    "    \n",
    "filter_like('H')"
   ]
  },
  {
   "cell_type": "markdown",
   "id": "ff8f3a4e",
   "metadata": {},
   "source": [
    "### Assignment 7: Handling Transactions\n",
    "\n",
    "1. Write a Python function to insert multiple employees into the `employees` table in a single transaction. Ensure that if any insertion fails, none of the insertions are committed."
   ]
  },
  {
   "cell_type": "code",
   "execution_count": 51,
   "id": "9d11f9a9",
   "metadata": {},
   "outputs": [
    {
     "name": "stdout",
     "output_type": "stream",
     "text": [
      "All the rows got inserted succesfully\n"
     ]
    }
   ],
   "source": [
    "def insert_multi_emp(employee):\n",
    "    conn = sqlite3.connect('test.db')\n",
    "    cur = conn.cursor()\n",
    "    try:\n",
    "        cur.executemany('''\n",
    "                        insert into employees(id,name,age,department)\n",
    "                    values(?,?,?,?)\n",
    "                    ''',employee)\n",
    "        conn.commit()\n",
    "        print(\"All the rows got inserted succesfully\")\n",
    "    except Exception as e:\n",
    "        print(f\"Rows not inserted due to the error : {e}\")\n",
    "        conn.rollback()\n",
    "    finally:\n",
    "        conn.close()\n",
    "\n",
    "\n",
    "\n",
    "employee = [(67,'Rambabu',45,'Data Analyst'),\n",
    "            (62,'krishna',55,'Data Engineer'),\n",
    "            (71,'Iqbal',35,'Data Engineer'),\n",
    "            (143,'Irfan',32,'Data Scientist')]\n",
    "\n",
    "\n",
    "insert_multi_emp(employee)"
   ]
  },
  {
   "cell_type": "markdown",
   "id": "640fb80e",
   "metadata": {},
   "source": [
    "2. Write a Python function to update the age of multiple employees in a single transaction. Ensure that if any update fails, none of the updates are committed."
   ]
  },
  {
   "cell_type": "code",
   "execution_count": 54,
   "id": "d0248ed5",
   "metadata": {},
   "outputs": [
    {
     "name": "stdout",
     "output_type": "stream",
     "text": [
      ".......................................................\n",
      "Records before inserting\n",
      "(1, 'Hemanth', 30, 'Data scientist')\n",
      "(2, 'Raju', 29, 'HR')\n",
      "(12, 'babji', 38, 'manager')\n",
      "(42, 'Ramu', 32, 'Data scientist')\n",
      "(54, 'Ravi', 42, 'Data analyst')\n",
      "(62, 'krishna', 55, 'Data Engineer')\n",
      "(67, 'Rambabu', 45, 'Data Analyst')\n",
      "(71, 'Iqbal', 35, 'Data Engineer')\n",
      "(90, 'bannu', 37, 'CEO')\n",
      "(143, 'Irfan', 32, 'Data Scientist')\n",
      ".......................................................\n",
      "Records got updated successfully\n",
      ".......................................................\n",
      "records after inserting\n",
      "(1, 'Hemanth', 30, 'Data scientist')\n",
      "(2, 'Raju', 31, 'HR')\n",
      "(12, 'babji', 38, 'manager')\n",
      "(42, 'Ramu', 32, 'Data scientist')\n",
      "(54, 'Ravi', 42, 'Data analyst')\n",
      "(62, 'krishna', 56, 'Data Engineer')\n",
      "(67, 'Rambabu', 45, 'Data Analyst')\n",
      "(71, 'Iqbal', 36, 'Data Engineer')\n",
      "(90, 'bannu', 37, 'CEO')\n",
      "(143, 'Irfan', 32, 'Data Scientist')\n"
     ]
    }
   ],
   "source": [
    "def multi_updates_emp(updt_emp):\n",
    "    conn = sqlite3.connect('test.db')\n",
    "    cur =conn.cursor()\n",
    "    try:\n",
    "        cur.executemany('''\n",
    "                        update employees\n",
    "                        set age = ?\n",
    "                        where id = ?\n",
    "                    ''', updt_emp)\n",
    "        conn.commit()\n",
    "        print(\"Records got updated successfully\")\n",
    "    except Exception as e:\n",
    "        print(f\"records didn't updated due to the error : {e}\")\n",
    "        conn.rollback()\n",
    "    finally:\n",
    "        conn.close()\n",
    "\n",
    "updt_emp = [(36, 71),\n",
    "            (56, 62),\n",
    "            (31, 2)]\n",
    "\n",
    "print(\".......................................................\")\n",
    "print(\"Records before inserting\")\n",
    "fetch_employees()\n",
    "print(\".......................................................\")\n",
    "multi_updates_emp(updt_emp)\n",
    "print(\".......................................................\")\n",
    "print(\"records after inserting\")\n",
    "fetch_employees()"
   ]
  },
  {
   "cell_type": "markdown",
   "id": "3ad991ed",
   "metadata": {},
   "source": [
    "### Assignment 8: Creating Relationships\n",
    "\n",
    "1. Create a new table named `departments` with columns `id` (integer) and `name` (text).\n"
   ]
  },
  {
   "cell_type": "code",
   "execution_count": 55,
   "id": "615e5d0a",
   "metadata": {},
   "outputs": [
    {
     "name": "stdout",
     "output_type": "stream",
     "text": [
      "departments table created succesfully\n"
     ]
    }
   ],
   "source": [
    "def dept_table_creation():\n",
    "    conn = sqlite3.connect('test.db')\n",
    "    cur = conn.cursor()\n",
    "    cur.execute('''\n",
    "                create table if not exists departments(\n",
    "                id integer primary key,\n",
    "                name text not null)\n",
    "                ''')\n",
    "    conn.commit()\n",
    "    conn.close()\n",
    "    print(\"departments table created succesfully\")\n",
    "dept_table_creation()"
   ]
  },
  {
   "cell_type": "markdown",
   "id": "42e81522",
   "metadata": {},
   "source": [
    "2. Modify the `employees` table to include a foreign key referencing the `id` column in the `departments` table."
   ]
  },
  {
   "cell_type": "code",
   "execution_count": null,
   "id": "d6177d79",
   "metadata": {},
   "outputs": [],
   "source": []
  },
  {
   "cell_type": "markdown",
   "id": "acd21a35",
   "metadata": {},
   "source": [
    "3. Write a Python function to insert data into both the `departments` and `employees` tables, ensuring referential integrity."
   ]
  },
  {
   "cell_type": "markdown",
   "id": "bd944db6",
   "metadata": {},
   "source": [
    "### Assignment 9: Indexing and Optimization\n",
    "\n",
    "1. Create an index on the `name` column of the `employees` table.\n",
    "2. Write a Python function to fetch and display all employees whose names start with a specific letter. Compare the performance with and without the index.\n"
   ]
  },
  {
   "cell_type": "code",
   "execution_count": null,
   "id": "8c25f888",
   "metadata": {},
   "outputs": [],
   "source": []
  },
  {
   "cell_type": "markdown",
   "id": "df04975d",
   "metadata": {},
   "source": [
    "### Assignment 10: Backing Up and Restoring Data\n",
    "\n",
    "1. Write a Python function to back up the `test.db` database to a file named `backup.db`."
   ]
  },
  {
   "cell_type": "code",
   "execution_count": 58,
   "id": "ce017838",
   "metadata": {},
   "outputs": [
    {
     "name": "stdout",
     "output_type": "stream",
     "text": [
      "backup created\n"
     ]
    }
   ],
   "source": [
    "import shutil\n",
    "\n",
    "def backup_fun():\n",
    "    shutil.copy('test.db','test_bck.db')\n",
    "    print(\"backup created\")\n",
    "\n",
    "backup_fun()"
   ]
  },
  {
   "cell_type": "markdown",
   "id": "697429cf",
   "metadata": {},
   "source": [
    "2. Write a Python function to restore the `test.db` database from the `backup.db` file."
   ]
  },
  {
   "cell_type": "code",
   "execution_count": 59,
   "id": "4d35369b",
   "metadata": {},
   "outputs": [
    {
     "name": "stdout",
     "output_type": "stream",
     "text": [
      "restore done.\n"
     ]
    }
   ],
   "source": [
    "def restore_fun():\n",
    "    shutil.copy('test_bck.db', 'test.db')\n",
    "    print(\"restore done.\")\n",
    "\n",
    "restore_fun()"
   ]
  }
 ],
 "metadata": {
  "kernelspec": {
   "display_name": "venv",
   "language": "python",
   "name": "python3"
  },
  "language_info": {
   "codemirror_mode": {
    "name": "ipython",
    "version": 3
   },
   "file_extension": ".py",
   "mimetype": "text/x-python",
   "name": "python",
   "nbconvert_exporter": "python",
   "pygments_lexer": "ipython3",
   "version": "3.10.0"
  }
 },
 "nbformat": 4,
 "nbformat_minor": 5
}
