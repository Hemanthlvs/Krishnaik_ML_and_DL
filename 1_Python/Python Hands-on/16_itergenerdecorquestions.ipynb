{
 "cells": [
  {
   "cell_type": "markdown",
   "metadata": {},
   "source": [
    "# Module: Iterators, Generators, and Decorators Assignments\n",
    "## Lesson: Iterators, Generators, and Decorators\n",
    "### Assignment 1: Custom Iterator\n",
    "\n",
    "Create a custom iterator class named `Countdown` that takes a number and counts down to zero. Implement the `__iter__` and `__next__` methods. Test the iterator by using it in a for loop."
   ]
  },
  {
   "cell_type": "code",
   "execution_count": null,
   "metadata": {},
   "outputs": [],
   "source": [
    "class count_down():\n",
    "    def __init__(self, number):\n",
    "        self.number = number\n",
    "    \n",
    "    def __iter__(self):\n",
    "        return self\n",
    "    \n",
    "    def __next__(self):\n",
    "        if self.number <= 0:\n",
    "            raise StopIteration\n",
    "        else:\n",
    "            self.number -= 1\n",
    "            return self.number\n",
    "        \n",
    "\n",
    "for i in count_down(10):\n",
    "    print(i)"
   ]
  },
  {
   "cell_type": "markdown",
   "id": "54f82b6d",
   "metadata": {},
   "source": [
    "### Assignment 2: Custom Iterable Class\n",
    "\n",
    "Create a class named `MyRange` that mimics the behavior of the built-in `range` function. Implement the `__iter__` and `__next__` methods. Test the class by using it in a for loop."
   ]
  },
  {
   "cell_type": "code",
   "execution_count": null,
   "id": "2c4b3f96",
   "metadata": {},
   "outputs": [],
   "source": [
    "class my_range():\n",
    "    def __init__(self, start, end):\n",
    "        self.current = start\n",
    "        self.end = end\n",
    "    \n",
    "    def __iter__(self):\n",
    "        return self\n",
    "    \n",
    "    def __next__(self):\n",
    "        if self.current >= self.end:\n",
    "            raise StopIteration\n",
    "        else:\n",
    "            self.current += 1\n",
    "            return self.current - 1\n",
    "        \n",
    "\n",
    "for i in my_range(1,5):\n",
    "    print(i)"
   ]
  },
  {
   "cell_type": "markdown",
   "id": "a2759f28",
   "metadata": {},
   "source": [
    "### Assignment 3: Generator Function\n",
    "\n",
    "Write a generator function named `fibonacci` that yields the Fibonacci sequence. Test the generator by iterating over it and printing the first 10 Fibonacci numbers.\n"
   ]
  },
  {
   "cell_type": "code",
   "execution_count": null,
   "id": "e94cfa96",
   "metadata": {},
   "outputs": [],
   "source": [
    "def fibonacci(n, memo={}):\n",
    "    if n in memo:\n",
    "        return memo[n]\n",
    "    if n <= 1:\n",
    "        return n\n",
    "    \n",
    "    memo[n] = (fibonacci(n-1, memo) + fibonacci(n-2, memo))\n",
    "    return memo[n]\n",
    "\n",
    "print(fibonacci(10))\n"
   ]
  },
  {
   "cell_type": "markdown",
   "id": "62d46660",
   "metadata": {},
   "source": [
    "### Assignment 4: Generator Expression\n",
    "\n",
    "Create a generator expression that generates the squares of numbers from 1 to 10. Iterate over the generator and print each value."
   ]
  },
  {
   "cell_type": "code",
   "execution_count": null,
   "id": "fdfdb83c",
   "metadata": {},
   "outputs": [],
   "source": [
    "squares = (n*n  for n in range(1,11))\n",
    "\n",
    "for num in squares:\n",
    "    print(num)"
   ]
  },
  {
   "cell_type": "markdown",
   "id": "1b2ae32a",
   "metadata": {},
   "source": [
    "### Assignment 5: Chaining Generators\n",
    "\n",
    "Write two generator functions: `even_numbers` that yields even numbers up to a limit, and `squares` that yields the square of each number from another generator. Chain these generators to produce the squares of even numbers up to 20.\n"
   ]
  },
  {
   "cell_type": "code",
   "execution_count": null,
   "id": "4bc88c46",
   "metadata": {},
   "outputs": [],
   "source": [
    "def even_numbers(limit):\n",
    "    for num in range(0,limit+1):\n",
    "        if num%2 == 0:\n",
    "            yield num\n",
    "\n",
    "def squares(number):\n",
    "    for square in number:\n",
    "        yield square * square\n",
    "\n",
    "evens = squares(even_numbers(20))\n",
    "for square_even in evens:\n",
    "    print(square_even)\n"
   ]
  },
  {
   "cell_type": "markdown",
   "id": "8ffdfa44",
   "metadata": {},
   "source": [
    "### Assignment 6: Simple Decorator\n",
    "\n",
    "Write a decorator named `time_it` that measures the execution time of a function. Apply this decorator to a function that calculates the factorial of a number."
   ]
  },
  {
   "cell_type": "code",
   "execution_count": null,
   "id": "5b608b5a",
   "metadata": {},
   "outputs": [],
   "source": [
    "import time\n",
    "\n",
    "def time_it(func):\n",
    "    def wrapper(*args, **kwargs):\n",
    "        start_time = time.time()\n",
    "        res = func(*args, **kwargs)\n",
    "        end_time = time.time()\n",
    "        print(f\" time take to execution the function is :{end_time} - {start_time}\")\n",
    "        return res\n",
    "    return wrapper\n",
    "\n",
    "@time_it\n",
    "def factorial(num):\n",
    "    if num == 0:\n",
    "        return 1\n",
    "    else:\n",
    "        return num * factorial(num-1)\n",
    "    \n",
    "print(factorial(10))"
   ]
  },
  {
   "cell_type": "markdown",
   "id": "adec5f58",
   "metadata": {},
   "source": [
    "### Assignment 7: Decorator with Arguments\n",
    "\n",
    "Write a decorator named `repeat` that takes an argument `n` and repeats the execution of the decorated function `n` times. Apply this decorator to a function that prints a message."
   ]
  },
  {
   "cell_type": "code",
   "execution_count": null,
   "id": "da30ad1a",
   "metadata": {},
   "outputs": [],
   "source": [
    "def repeat(num):\n",
    "    def function(func):\n",
    "        def wrapper(*args, **kwargs):\n",
    "            for _ in range(num):\n",
    "                res = func(*args, **kwargs)\n",
    "        return wrapper\n",
    "    return function\n",
    "\n",
    "@repeat(num = 3)\n",
    "def message(msg):\n",
    "    return print(msg)\n",
    "\n",
    "message(\"Hey..! How are you?\")"
   ]
  },
  {
   "cell_type": "markdown",
   "id": "ba362ccc",
   "metadata": {},
   "source": [
    "### Assignment 8: Nested Decorators\n",
    "\n",
    "Write two decorators: `uppercase` that converts the result of a function to uppercase, and `exclaim` that adds an exclamation mark to the result of a function. Apply both decorators to a function that returns a greeting message."
   ]
  },
  {
   "cell_type": "code",
   "execution_count": null,
   "id": "a73223d2",
   "metadata": {},
   "outputs": [],
   "source": [
    "def uppercase(func):\n",
    "    def wrapper(*args, **kwargs):\n",
    "        res = func(*args, **kwargs)\n",
    "        return res.upper()\n",
    "    return wrapper   \n",
    "\n",
    "def exclaim(func):\n",
    "    def wrapper(*args, **kwargs):\n",
    "        res = func(*args, **kwargs)\n",
    "        return res + '!'\n",
    "    return wrapper\n",
    "\n",
    "@uppercase\n",
    "@exclaim\n",
    "def greeting_msg(msg):\n",
    "    return msg\n",
    "\n",
    "\n",
    "greeting_msg(\"happy birthday\")"
   ]
  },
  {
   "cell_type": "markdown",
   "id": "71995fc2",
   "metadata": {},
   "source": [
    "### Assignment 9: Class Decorator\n",
    "\n",
    "Create a class decorator named `singleton` that ensures a class has only one instance. Apply this decorator to a class named `DatabaseConnection` and test it."
   ]
  },
  {
   "cell_type": "code",
   "execution_count": null,
   "id": "eea937db",
   "metadata": {},
   "outputs": [],
   "source": []
  },
  {
   "cell_type": "markdown",
   "id": "ecf0f72c",
   "metadata": {},
   "source": [
    "### Assignment 10: Iterator Protocol with Decorators\n",
    "\n",
    "Create a custom iterator class named `ReverseString` that iterates over a string in reverse. Write a decorator named `uppercase` that converts the string to uppercase before reversing it. Apply the decorator to the `ReverseString` class."
   ]
  },
  {
   "cell_type": "code",
   "execution_count": null,
   "id": "25382e88",
   "metadata": {},
   "outputs": [],
   "source": []
  },
  {
   "cell_type": "markdown",
   "id": "ee6ed1c0",
   "metadata": {},
   "source": [
    "### Assignment 11: Stateful Generators\n",
    "\n",
    "Write a stateful generator function named `counter` that takes a start value and increments it by 1 each time it is called. Test the generator by iterating over it and printing the first 10 values."
   ]
  },
  {
   "cell_type": "code",
   "execution_count": 9,
   "id": "c95891ad",
   "metadata": {},
   "outputs": [
    {
     "name": "stdout",
     "output_type": "stream",
     "text": [
      "0\n",
      "1\n",
      "2\n",
      "3\n",
      "4\n",
      "5\n",
      "6\n",
      "7\n",
      "8\n",
      "9\n"
     ]
    }
   ],
   "source": [
    "def counter(value):\n",
    "    while True:\n",
    "        yield value\n",
    "        value += 1\n",
    "\n",
    "\n",
    "count = counter(0)\n",
    "for _ in range(10):\n",
    "    print(next(count))"
   ]
  },
  {
   "cell_type": "markdown",
   "id": "b9c330b1",
   "metadata": {},
   "source": [
    "### Assignment 12: Generator with Exception Handling\n",
    "\n",
    "Write a generator function named `safe_divide` that takes a list of numbers and yields the division of each number by a given divisor. Implement exception handling within the generator to handle division by zero.\n"
   ]
  },
  {
   "cell_type": "code",
   "execution_count": 11,
   "id": "f2cb4a5d",
   "metadata": {},
   "outputs": [
    {
     "name": "stdout",
     "output_type": "stream",
     "text": [
      "Number cant be divided by zero\n",
      "Number cant be divided by zero\n",
      "Number cant be divided by zero\n",
      "Number cant be divided by zero\n"
     ]
    }
   ],
   "source": [
    "def safe_divide(lst, divisor):\n",
    "    for num in lst:\n",
    "        try:\n",
    "            yield num / divisor\n",
    "        except ZeroDivisionError as e:\n",
    "            print(\"Number cant be divided by zero\")\n",
    "\n",
    "div = safe_divide([1,2,3,4], 0)\n",
    "for res in div:\n",
    "    print(res)"
   ]
  },
  {
   "cell_type": "markdown",
   "id": "624d09c5",
   "metadata": {},
   "source": [
    "### Assignment 13: Context Manager Decorator\n",
    "\n",
    "Write a decorator named `open_file` that manages the opening and closing of a file. Apply this decorator to a function that writes some text to a file."
   ]
  },
  {
   "cell_type": "code",
   "execution_count": 2,
   "id": "890c36f4",
   "metadata": {},
   "outputs": [],
   "source": [
    "def open_file(file_name):\n",
    "    def decorator(func):\n",
    "        def wrapper(*args, **kwargs):\n",
    "            try:\n",
    "                with open(file_name, 'w') as file:\n",
    "                     result = func(*args, **kwargs)\n",
    "                     file.write(result)\n",
    "            except Exception as e:\n",
    "                print(\"Error is : {e}\")\n",
    "            finally:\n",
    "                file.close()\n",
    "        return wrapper\n",
    "    return decorator\n",
    "    \n",
    "\n",
    "@open_file('11_log.txt')\n",
    "def write_fun(text):\n",
    "    return text\n",
    "\n",
    "write_fun(\"yo man!!!!\")"
   ]
  },
  {
   "cell_type": "markdown",
   "id": "898f618a",
   "metadata": {},
   "source": [
    "### Assignment 14: Infinite Iterator\n",
    "\n",
    "Create an infinite iterator class named `InfiniteCounter` that starts from a given number and increments by 1 indefinitely. Test the iterator by printing the first 10 values generated by it."
   ]
  },
  {
   "cell_type": "code",
   "execution_count": 20,
   "id": "74496e66",
   "metadata": {},
   "outputs": [
    {
     "name": "stdout",
     "output_type": "stream",
     "text": [
      "0\n",
      "1\n",
      "2\n",
      "3\n",
      "4\n",
      "5\n",
      "6\n",
      "7\n",
      "8\n",
      "9\n",
      "10\n"
     ]
    }
   ],
   "source": [
    "class InfiniteCounter():\n",
    "    def __init__(self, starting_number, limit):\n",
    "        self.starting_number = starting_number\n",
    "        self.limit = limit\n",
    "\n",
    "    def Infinite(self):\n",
    "        while self.starting_number <= self.limit:\n",
    "            yield self.starting_number\n",
    "            self.starting_number += 1\n",
    "            self.starting_number\n",
    "\n",
    "\n",
    "inf = InfiniteCounter(0,10)\n",
    "# print(inf.Infinite())\n",
    "for num in inf.Infinite():\n",
    "    print(num)\n",
    "\n",
    "\n"
   ]
  },
  {
   "cell_type": "markdown",
   "id": "969e1868",
   "metadata": {},
   "source": [
    "### Assignment 15: Generator Pipeline\n",
    "\n",
    "Write three generator functions: `integers` that yields integers from 1 to 10, `doubles` that yields each integer doubled, and `negatives` that yields the negative of each doubled value. Chain these generators to create a pipeline that produces the negative doubled values of integers from 1 to 10."
   ]
  },
  {
   "cell_type": "code",
   "execution_count": 4,
   "id": "0f2747ef",
   "metadata": {},
   "outputs": [
    {
     "name": "stdout",
     "output_type": "stream",
     "text": [
      "0\n",
      "-1\n",
      "-4\n",
      "-9\n",
      "-16\n",
      "-25\n",
      "-36\n",
      "-49\n",
      "-64\n",
      "-81\n",
      "-100\n"
     ]
    }
   ],
   "source": [
    "def integers(num):\n",
    "    for num in range(num+1):\n",
    "        yield num\n",
    "\n",
    "def doubles(integrs):\n",
    "    for num in integrs:\n",
    "        yield num * num\n",
    "\n",
    "def negatives(dbls):\n",
    "    for num in dbls:\n",
    "        yield -num\n",
    "\n",
    "int = integers(10)\n",
    "doubles = doubles(int)\n",
    "negatives = negatives(doubles)\n",
    "\n",
    "for res in negatives:\n",
    "    print(res)"
   ]
  },
  {
   "cell_type": "code",
   "execution_count": null,
   "id": "486192d2",
   "metadata": {},
   "outputs": [],
   "source": []
  }
 ],
 "metadata": {
  "kernelspec": {
   "display_name": "venv",
   "language": "python",
   "name": "python3"
  },
  "language_info": {
   "codemirror_mode": {
    "name": "ipython",
    "version": 3
   },
   "file_extension": ".py",
   "mimetype": "text/x-python",
   "name": "python",
   "nbconvert_exporter": "python",
   "pygments_lexer": "ipython3",
   "version": "3.10.0"
  }
 },
 "nbformat": 4,
 "nbformat_minor": 5
}
