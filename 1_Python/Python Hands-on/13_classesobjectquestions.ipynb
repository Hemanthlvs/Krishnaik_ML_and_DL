{
 "cells": [
  {
   "cell_type": "markdown",
   "metadata": {},
   "source": [
    "# Module: Classes and Objects Assignments\n",
    "## Lesson: Creating and Working with Classes and Objects\n",
    "### Assignment 1: Basic Class and Object Creation\n",
    "\n",
    "Create a class named `Car` with attributes `make`, `model`, and `year`. Create an object of the class and print its attributes."
   ]
  },
  {
   "cell_type": "code",
   "execution_count": 1,
   "metadata": {},
   "outputs": [
    {
     "name": "stdout",
     "output_type": "stream",
     "text": [
      "Audi\n",
      "A8\n",
      "2017\n"
     ]
    }
   ],
   "source": [
    "class car():\n",
    "    def __init__(self, make, model, year):\n",
    "        self.make = make\n",
    "        self.model = model\n",
    "        self.year = year\n",
    "\n",
    "car = car('Audi', 'A8', 2017)\n",
    "print(car.make)\n",
    "print(car.model)\n",
    "print(car.year)"
   ]
  },
  {
   "cell_type": "markdown",
   "id": "8e8afe6c",
   "metadata": {},
   "source": [
    "### Assignment 2: Methods in Class\n",
    "\n",
    "Add a method named `start_engine` to the `Car` class that prints a message when the engine starts. Create an object of the class and call the method."
   ]
  },
  {
   "cell_type": "code",
   "execution_count": 3,
   "id": "90341175",
   "metadata": {},
   "outputs": [
    {
     "name": "stdout",
     "output_type": "stream",
     "text": [
      "Car Audi-A8-2017 engine started\n"
     ]
    }
   ],
   "source": [
    "class car():\n",
    "    def __init__(self, make, model, year):\n",
    "        self.make = make\n",
    "        self.model = model\n",
    "        self.year = year\n",
    "\n",
    "    def start_engine(self):\n",
    "        print(f\"Car {self.make}-{self.model}-{self.year} engine started\")\n",
    "\n",
    "\n",
    "car = car('Audi', 'A8', 2017)\n",
    "car.start_engine()\n",
    "\n",
    "\n"
   ]
  },
  {
   "cell_type": "markdown",
   "id": "00e78a86",
   "metadata": {},
   "source": [
    "### Assignment 3: Class with Constructor\n",
    "\n",
    "Create a class named `Student` with attributes `name` and `age`. Use a constructor to initialize these attributes. Create an object of the class and print its attributes."
   ]
  },
  {
   "cell_type": "code",
   "execution_count": 6,
   "id": "02aa1a13",
   "metadata": {},
   "outputs": [
    {
     "name": "stdout",
     "output_type": "stream",
     "text": [
      "Hemanth\n",
      "30\n"
     ]
    }
   ],
   "source": [
    "class student():\n",
    "    def __init__(self, name, age):\n",
    "        self.name = name\n",
    "        self.age = age\n",
    "\n",
    "student = student('Hemanth', 30)\n",
    "print(student.name)\n",
    "print(student.age)"
   ]
  },
  {
   "cell_type": "markdown",
   "id": "a93e85b5",
   "metadata": {},
   "source": [
    "### Assignment 4: Class with Private Attributes\n",
    "\n",
    "Create a class named `BankAccount` with private attributes `account_number` and `balance`. Add methods to deposit and withdraw money, and to check the balance. Create an object of the class and perform some operations."
   ]
  },
  {
   "cell_type": "code",
   "execution_count": 34,
   "id": "84729c29",
   "metadata": {},
   "outputs": [
    {
     "name": "stdout",
     "output_type": "stream",
     "text": [
      "123 2000\n"
     ]
    }
   ],
   "source": [
    "class BankAccount():\n",
    "    def __init__(self, account_number, balance=0):\n",
    "        self.account_number = account_number\n",
    "        self.balance = balance\n",
    "\n",
    "    def deposit(self, deposit_amount):\n",
    "        self.balance += deposit_amount\n",
    "        print(f\"{deposit_amount} got deposited to the account: {self.account_number}\\nThe remaining balance is : {self.balance}\")\n",
    "\n",
    "    def withdraw(self, withdraw_amount):\n",
    "        if withdraw_amount > self.balance:\n",
    "            print(f\"insufficient balance\\nAvailable balance is: {self.balance}\")\n",
    "        else:\n",
    "            self.balance -= withdraw_amount\n",
    "            print(f\"{withdraw_amount} got withdrawn from the account: {self.account_number}\\nThe remaining balance is : {self.balance}\")\n",
    "\n",
    "    def check_balance(self):\n",
    "        print(f\"Remaining balance is : {self.balance}\")\n",
    "\n",
    "cust_1 = BankAccount(123, 2000)\n",
    "print(cust_1.account_number, cust_1.balance)\n"
   ]
  },
  {
   "cell_type": "code",
   "execution_count": 35,
   "id": "c4a9503d",
   "metadata": {},
   "outputs": [
    {
     "name": "stdout",
     "output_type": "stream",
     "text": [
      "250 got deposited to the account: 123\n",
      "The remaining balance is : 2250\n"
     ]
    }
   ],
   "source": [
    "cust_1.deposit(250)"
   ]
  },
  {
   "cell_type": "code",
   "execution_count": 36,
   "id": "e2bc0a8b",
   "metadata": {},
   "outputs": [
    {
     "name": "stdout",
     "output_type": "stream",
     "text": [
      "900 got withdrawn from the account: 123\n",
      "The remaining balance is : 1350\n"
     ]
    }
   ],
   "source": [
    "cust_1.withdraw(900)"
   ]
  },
  {
   "cell_type": "code",
   "execution_count": 38,
   "id": "9cd31d50",
   "metadata": {},
   "outputs": [
    {
     "name": "stdout",
     "output_type": "stream",
     "text": [
      "insufficient balance\n",
      "Available balance is: 1350\n"
     ]
    }
   ],
   "source": [
    "cust_1.withdraw(5000)"
   ]
  },
  {
   "cell_type": "code",
   "execution_count": 39,
   "id": "930c15d7",
   "metadata": {},
   "outputs": [
    {
     "name": "stdout",
     "output_type": "stream",
     "text": [
      "Remaining balance is : 1350\n"
     ]
    }
   ],
   "source": [
    "cust_1.check_balance()"
   ]
  },
  {
   "cell_type": "markdown",
   "id": "208f41b3",
   "metadata": {},
   "source": [
    "### Assignment 5: Class Inheritance\n",
    "\n",
    "Create a base class named `Person` with attributes `name` and `age`. Create a derived class named `Employee` that inherits from `Person` and adds an attribute `employee_id`. Create an object of the derived class and print its attributes."
   ]
  },
  {
   "cell_type": "code",
   "execution_count": 40,
   "id": "6c7e2faf",
   "metadata": {},
   "outputs": [
    {
     "name": "stdout",
     "output_type": "stream",
     "text": [
      "Hemanth 30 123\n"
     ]
    }
   ],
   "source": [
    "class person():\n",
    "    def __init__(self, name, age):\n",
    "        self.name = name\n",
    "        self.age = age\n",
    "\n",
    "class employee(person):\n",
    "    def __init__(self, name, age, employee_id):\n",
    "        super().__init__(name,age)\n",
    "        self.employee_id = employee_id\n",
    "\n",
    "\n",
    "emp = employee('Hemanth', 30, 123)\n",
    "print(emp.name, emp.age, emp.employee_id)\n",
    "\n"
   ]
  },
  {
   "cell_type": "markdown",
   "id": "b4c2446d",
   "metadata": {},
   "source": [
    "### Assignment 6: Method Overriding\n",
    "\n",
    "In the `Employee` class, override the `__str__` method to return a string representation of the object. Create an object of the class and print it."
   ]
  },
  {
   "cell_type": "code",
   "execution_count": 47,
   "id": "121e8a08",
   "metadata": {},
   "outputs": [
    {
     "name": "stdout",
     "output_type": "stream",
     "text": [
      "Employee Name is : Hemanth\n",
      "Employee Age is : 30\n",
      "Employee ID is : 123\n"
     ]
    }
   ],
   "source": [
    "class employee():\n",
    "    def __init__(self, name, age, id):\n",
    "        self.name = name\n",
    "        self.age = age\n",
    "        self.id = id\n",
    "\n",
    "    def __str__(self):\n",
    "        return f\"Employee Name is : {self.name}\\nEmployee Age is : {self.age}\\nEmployee ID is : {self.id}\"\n",
    "\n",
    "emp = employee('Hemanth', 30, 123)\n",
    "print(emp)"
   ]
  },
  {
   "cell_type": "markdown",
   "id": "92cb5364",
   "metadata": {},
   "source": [
    "### Assignment 7: Class Composition\n",
    "\n",
    "Create a class named `Address` with attributes `street`, `city`, and `zipcode`. Create a class named `Person` that has an `Address` object as an attribute. Create an object of the `Person` class and print its address."
   ]
  },
  {
   "cell_type": "code",
   "execution_count": 44,
   "id": "8a994dbd",
   "metadata": {},
   "outputs": [
    {
     "name": "stdout",
     "output_type": "stream",
     "text": [
      "vakalapudi kakinada 533003\n",
      "Hemanth 30 vakalapudi kakinada 533003\n"
     ]
    }
   ],
   "source": [
    "class Address():\n",
    "    def __init__(self, street, city, zipcode):\n",
    "        self.street = street\n",
    "        self.city = city\n",
    "        self.zipcode = zipcode\n",
    "\n",
    "class person():\n",
    "    def __init__(self, name, age, address):\n",
    "        self.name = name\n",
    "        self.age = age\n",
    "        self.address = address\n",
    "\n",
    "address = Address('vakalapudi', 'kakinada', 533003)\n",
    "print(address.street, address.city, address.zipcode)\n",
    "\n",
    "person = person('Hemanth', 30, address)\n",
    "print(person.name, person.age, person.address.street, person.address.city, person.address.zipcode)"
   ]
  },
  {
   "cell_type": "markdown",
   "id": "bf8a0f6c",
   "metadata": {},
   "source": [
    "### Assignment 8: Class with Class Variables\n",
    "\n",
    "Create a class named `Counter` with a class variable `count`. Each time an object is created, increment the count. Add a method to get the current count. Create multiple objects and print the count."
   ]
  },
  {
   "cell_type": "code",
   "execution_count": 51,
   "id": "0ff642b5",
   "metadata": {},
   "outputs": [
    {
     "name": "stdout",
     "output_type": "stream",
     "text": [
      "3\n"
     ]
    }
   ],
   "source": [
    "class counter():\n",
    "    count = 0\n",
    "\n",
    "    def __init__(self):\n",
    "        counter.count += 1\n",
    "\n",
    "    @classmethod\n",
    "    def get_count(cls):\n",
    "        return cls.count\n",
    "    \n",
    "count1 = counter()\n",
    "count2 = counter()\n",
    "count3 = counter()\n",
    "print(counter.get_count())\n"
   ]
  },
  {
   "cell_type": "markdown",
   "id": "a1019d65",
   "metadata": {},
   "source": [
    "### Assignment 9: Static Methods\n",
    "\n",
    "Create a class named `MathOperations` with a static method to calculate the square root of a number. Call the static method without creating an object.\n"
   ]
  },
  {
   "cell_type": "code",
   "execution_count": 53,
   "id": "19f919a7",
   "metadata": {},
   "outputs": [
    {
     "name": "stdout",
     "output_type": "stream",
     "text": [
      "4.0\n"
     ]
    }
   ],
   "source": [
    "import math\n",
    "\n",
    "class MathOperations:\n",
    "    def sqrt(x):\n",
    "        return math.sqrt(x)\n",
    "\n",
    "# Test\n",
    "print(MathOperations.sqrt(16))  # 4.0"
   ]
  },
  {
   "cell_type": "markdown",
   "id": "0df09cf3",
   "metadata": {},
   "source": [
    "### Assignment 10: Class with Properties\n",
    "\n",
    "Create a class named `Rectangle` with private attributes `length` and `width`. Use properties to get and set these attributes. Create an object of the class and test the properties."
   ]
  },
  {
   "cell_type": "code",
   "execution_count": 94,
   "id": "c96bcb15",
   "metadata": {},
   "outputs": [
    {
     "name": "stdout",
     "output_type": "stream",
     "text": [
      "10 20\n",
      "40 30\n"
     ]
    }
   ],
   "source": [
    "class rectangle():\n",
    "    def __init__(self, length, width):\n",
    "        self.__length=length\n",
    "        self.__width=width\n",
    "\n",
    "    @property\n",
    "    def length(self):\n",
    "        return self.__length\n",
    "    \n",
    "    @length.setter\n",
    "    def length(self, length):\n",
    "        self.__length = length\n",
    "\n",
    "    @property\n",
    "    def width(self):\n",
    "        return self.__width\n",
    "    \n",
    "    @width.setter\n",
    "    def width(self, width):\n",
    "        self.__width = width\n",
    "\n",
    "\n",
    "rec = rectangle(10,20)\n",
    "print(rec.length,rec.width)\n",
    "rec.length=40\n",
    "rec.width=30\n",
    "print(rec.length,rec.width)\n"
   ]
  },
  {
   "cell_type": "markdown",
   "id": "bb68f9ed",
   "metadata": {},
   "source": [
    "### Assignment 11: Abstract Base Class\n",
    "\n",
    "Create an abstract base class named `Shape` with an abstract method `area`. Create derived classes `Circle` and `Square` that implement the `area` method. Create objects of the derived classes and call the `area` method."
   ]
  },
  {
   "cell_type": "code",
   "execution_count": 101,
   "id": "3785305b",
   "metadata": {},
   "outputs": [
    {
     "name": "stdout",
     "output_type": "stream",
     "text": [
      "12.566370614359172\n",
      "9\n"
     ]
    }
   ],
   "source": [
    "from abc import ABC, abstractmethod\n",
    "import math\n",
    "\n",
    "class shape(ABC):\n",
    "    @abstractmethod\n",
    "    def area():\n",
    "        pass\n",
    "\n",
    "class circle(shape):\n",
    "    def __init__(self,radius):\n",
    "        self.radius = radius\n",
    "    def area(self):\n",
    "        return (math.pi)*self.radius**2\n",
    "    \n",
    "class square(shape):\n",
    "    def __init__(self, len):\n",
    "        self.len = len\n",
    "    def area(self):\n",
    "        return self.len**2\n",
    "    \n",
    "circle = circle(2)\n",
    "print(circle.area())\n",
    "\n",
    "square = square(3)\n",
    "print(square.area())\n"
   ]
  },
  {
   "cell_type": "markdown",
   "id": "01a30365",
   "metadata": {},
   "source": [
    "### Assignment 12: Operator Overloading\n",
    "\n",
    "Create a class named `Vector` with attributes `x` and `y`. Overload the `+` operator to add two `Vector` objects. Create objects of the class and test the operator overloading."
   ]
  },
  {
   "cell_type": "code",
   "execution_count": 103,
   "id": "ade9332b",
   "metadata": {},
   "outputs": [
    {
     "name": "stdout",
     "output_type": "stream",
     "text": [
      "(4, 8)\n"
     ]
    }
   ],
   "source": [
    "class vector():\n",
    "    def __init__(self, x, y):\n",
    "        self.x = x\n",
    "        self.y = y\n",
    "\n",
    "    def __add__(self, other):\n",
    "        return (self.x + other.x, self.y + other.y)\n",
    "    \n",
    "    def __repr__(self, other):\n",
    "        return f\" addition of the vectors is : ({self.x}, {self.y})\"\n",
    "    \n",
    "\n",
    "vector_1 = vector(1,2)\n",
    "vector_2 = vector(3,6)\n",
    "\n",
    "print(vector_1 + vector_2)       \n"
   ]
  },
  {
   "cell_type": "markdown",
   "id": "bc436059",
   "metadata": {},
   "source": [
    "### Assignment 13: Class with Custom Exception\n",
    "\n",
    "Create a custom exception named `InsufficientBalanceError`. In the `BankAccount` class, raise this exception when a withdrawal amount is greater than the balance. Handle the exception and print an appropriate message."
   ]
  },
  {
   "cell_type": "code",
   "execution_count": 57,
   "id": "dadb980b",
   "metadata": {},
   "outputs": [
    {
     "name": "stdout",
     "output_type": "stream",
     "text": [
      "123 1350\n",
      "Error : Insufficient balance..!!!\n"
     ]
    }
   ],
   "source": [
    "class InsufficientBalanceError(Exception):\n",
    "    pass\n",
    "\n",
    "class BankAccount():\n",
    "    def __init__(self, account_number, balance=0):\n",
    "        self.account_number = account_number\n",
    "        self.balance = balance\n",
    "\n",
    "    def deposit(self, deposit_amount):\n",
    "        self.balance += deposit_amount\n",
    "        print(f\"{deposit_amount} got deposited to the account: {self.account_number}\\nThe remaining balance is : {self.balance}\")\n",
    "\n",
    "    def withdraw(self, withdraw_amount):\n",
    "        if withdraw_amount > self.balance:\n",
    "            raise InsufficientBalanceError(\"Insufficient balance..!!!\")\n",
    "        else:\n",
    "            self.balance -= withdraw_amount\n",
    "            print(f\"{withdraw_amount} got withdrawn from the account: {self.account_number}\\nThe remaining balance is : {self.balance}\")\n",
    "\n",
    "    def check_balance(self):\n",
    "        print(f\"Remaining balance is : {self.balance}\")\n",
    "\n",
    "cust_2 = BankAccount(123, 2000)\n",
    "print(cust_2.account_number, cust_1.balance)\n",
    "try:\n",
    "    cust_2.withdraw(5000)\n",
    "except InsufficientBalanceError as e:\n",
    "    print(f'Error : {e}')\n"
   ]
  },
  {
   "cell_type": "markdown",
   "id": "82649680",
   "metadata": {},
   "source": [
    "### Assignment 14: Class with Context Manager\n",
    "\n",
    "Create a class named `FileManager` that implements the context manager protocol to open and close a file. Use this class to read the contents of a file."
   ]
  },
  {
   "cell_type": "code",
   "execution_count": 65,
   "id": "272d65e7",
   "metadata": {},
   "outputs": [
    {
     "name": "stdout",
     "output_type": "stream",
     "text": [
      "hey\n",
      "hey\n",
      "how are you?\n",
      "\n",
      "file closed\n"
     ]
    }
   ],
   "source": [
    "class FileManager():\n",
    "    def __init__(self, file_name, mode):\n",
    "        self.file_name = file_name\n",
    "        self.mode = mode\n",
    "\n",
    "    def __enter__(self):\n",
    "        self.file = open(self.file_name, self.mode)\n",
    "        return self.file\n",
    "    \n",
    "    def __exit__(self, exc_type, exc_value, traceback):\n",
    "        self.file.close()\n",
    "        print(f\"file closed\")\n",
    "\n",
    "with FileManager('11_log.txt', 'r') as file:\n",
    "    context = file.read()\n",
    "    print(context)"
   ]
  },
  {
   "cell_type": "markdown",
   "id": "cc2d317d",
   "metadata": {},
   "source": [
    "### Assignment 15: Chaining Methods\n",
    "\n",
    "Create a class named `Calculator` with methods to add, subtract, multiply, and divide. Each method should return the object itself to allow method chaining. Create an object and chain multiple method calls."
   ]
  },
  {
   "cell_type": "code",
   "execution_count": 78,
   "id": "eb97a274",
   "metadata": {},
   "outputs": [
    {
     "name": "stdout",
     "output_type": "stream",
     "text": [
      "100.0\n"
     ]
    }
   ],
   "source": [
    "class calculator():\n",
    "    def __init__(self, value = 0):\n",
    "        self.value = value\n",
    "\n",
    "    def add(self, number):\n",
    "        self.value += number\n",
    "        return self\n",
    "\n",
    "    def sub(self, number):\n",
    "        self.value -= number\n",
    "        return self\n",
    "\n",
    "    def mul(self, number):\n",
    "        self.value *= number\n",
    "        return self\n",
    "\n",
    "    def div(self, number):\n",
    "        if number != 0:\n",
    "            self.value /= number\n",
    "        else:\n",
    "            print(\"can't divide by zero\")\n",
    "        return self\n",
    "\n",
    "\n",
    "calc = calculator()\n",
    "calc.div(100).sub(5).add(10).mul(20)\n",
    "print(calc.value)"
   ]
  }
 ],
 "metadata": {
  "kernelspec": {
   "display_name": "venv",
   "language": "python",
   "name": "python3"
  },
  "language_info": {
   "codemirror_mode": {
    "name": "ipython",
    "version": 3
   },
   "file_extension": ".py",
   "mimetype": "text/x-python",
   "name": "python",
   "nbconvert_exporter": "python",
   "pygments_lexer": "ipython3",
   "version": "3.10.0"
  }
 },
 "nbformat": 4,
 "nbformat_minor": 5
}
