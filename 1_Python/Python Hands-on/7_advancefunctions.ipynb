{
 "cells": [
  {
   "cell_type": "markdown",
   "metadata": {},
   "source": [
    "# Module 4: Advanced Functions Assignments\n",
    "## Lesson 4.1: Defining Functions\n",
    "### Assignment 1: Fibonacci Sequence with Memoization\n",
    "\n",
    "Define a recursive function to calculate the nth Fibonacci number using memoization. Test the function with different inputs."
   ]
  },
  {
   "cell_type": "code",
   "execution_count": 2,
   "metadata": {},
   "outputs": [
    {
     "data": {
      "text/plain": [
       "13"
      ]
     },
     "execution_count": 2,
     "metadata": {},
     "output_type": "execute_result"
    }
   ],
   "source": [
    "def fibonacci(n, memo={}):\n",
    "    if n in memo:\n",
    "        return memo[n]\n",
    "    if n<=1:\n",
    "        return n    \n",
    "    memo[n] = fibonacci(n-1, memo) + fibonacci(n-2, memo)\n",
    "    return memo[n]\n",
    "    \n",
    "\n",
    "fibonacci(7)\n"
   ]
  },
  {
   "cell_type": "markdown",
   "id": "e86d1e3f",
   "metadata": {},
   "source": [
    "### Assignment 2: Function with Nested Default Arguments\n",
    "\n",
    "Define a function that takes two arguments, a and b, where b is a dictionary with a default value of an empty dictionary. The function should add a new key-value pair to the dictionary and return it. Test the function with different inputs."
   ]
  },
  {
   "cell_type": "code",
   "execution_count": 18,
   "id": "985b3322",
   "metadata": {},
   "outputs": [
    {
     "data": {
      "text/plain": [
       "{10: 100, 2: 4, 4: 16, 5: 25, 6: 36, 9: 81}"
      ]
     },
     "execution_count": 18,
     "metadata": {},
     "output_type": "execute_result"
    }
   ],
   "source": [
    "def fun(a,cube_dic={}):\n",
    "    if isinstance(a, list):\n",
    "        cube_dic.update({x:x**2 for x in lst})\n",
    "        return cube_dic\n",
    "    else:\n",
    "        cube_dic[a] = a**2\n",
    "        return cube_dic\n",
    "\n",
    "\n",
    "lst = [2,4,5,6,9,10]\n",
    "\n",
    "fun(lst,{10:11})"
   ]
  },
  {
   "cell_type": "markdown",
   "id": "fec68d0a",
   "metadata": {},
   "source": [
    "### Assignment 3: Function with Variable Keyword Arguments\n",
    "\n",
    "Define a function that takes a variable number of keyword arguments and returns a dictionary containing only those key-value pairs where the value is an integer. Test the function with different inputs."
   ]
  },
  {
   "cell_type": "code",
   "execution_count": 21,
   "id": "92544578",
   "metadata": {},
   "outputs": [
    {
     "data": {
      "text/plain": [
       "{'height': 5.8, 'age': 29}"
      ]
     },
     "execution_count": 21,
     "metadata": {},
     "output_type": "execute_result"
    }
   ],
   "source": [
    "def dic_fun(**kwargs):\n",
    "    dic_new = {}\n",
    "    for keys,values in kwargs.items():\n",
    "        if isinstance(values, (int, float)):\n",
    "            dic_new[keys]=values\n",
    "    return (dic_new)\n",
    "\n",
    "dic_fun(Name='Hemanth',city='kakinada',height=5.8,age=29)\n"
   ]
  },
  {
   "cell_type": "markdown",
   "id": "a93f8707",
   "metadata": {},
   "source": [
    "### Assignment 4: Function with Callback\n",
    "\n",
    "Define a function that takes another function as a callback and a list of integers. The function should apply the callback to each integer in the list and return a new list with the results. Test with different callback functions."
   ]
  },
  {
   "cell_type": "code",
   "execution_count": 35,
   "id": "eb4016e0",
   "metadata": {},
   "outputs": [
    {
     "name": "stdout",
     "output_type": "stream",
     "text": [
      "[2, 3, 4, 5, 6, 7, 8]\n"
     ]
    }
   ],
   "source": [
    "def parent_fun(lst):\n",
    "    child_fun(lst)\n",
    "\n",
    "def child_fun(lst):\n",
    "    res = list(map(lambda x:x+1,lst))\n",
    "    return print(res)\n",
    "\n",
    "lst = [1,2,3,4,5,6,7]\n",
    "\n",
    "parent_fun(lst)\n",
    "\n"
   ]
  },
  {
   "cell_type": "markdown",
   "id": "f7517b7c",
   "metadata": {},
   "source": [
    "### Assignment 5: Function that Returns a Function\n",
    "\n",
    "Define a function that returns another function. The returned function should take an integer and return its square. Test the returned function with different inputs."
   ]
  },
  {
   "cell_type": "code",
   "execution_count": 48,
   "id": "b59bdb17",
   "metadata": {},
   "outputs": [
    {
     "name": "stdout",
     "output_type": "stream",
     "text": [
      "4\n",
      "2116\n",
      "541420770969\n"
     ]
    }
   ],
   "source": [
    "def square():\n",
    "    def lst_fun(x):\n",
    "        return  x**2        \n",
    "    return lst_fun\n",
    "\n",
    "res = square()\n",
    "print(res(2))\n",
    "print(res(46))\n",
    "print(res(735813))"
   ]
  },
  {
   "cell_type": "markdown",
   "id": "e80d2900",
   "metadata": {},
   "source": [
    "### Assignment 6: Function with Decorators\n",
    "\n",
    "Define a function that calculates the time taken to execute another function. Apply this decorator to a function that performs a complex calculation. Test the decorated function with different inputs."
   ]
  },
  {
   "cell_type": "code",
   "execution_count": 27,
   "id": "235c13d9",
   "metadata": {},
   "outputs": [
    {
     "name": "stdout",
     "output_type": "stream",
     "text": [
      "Time taken for to run complex_calculation is 0.7409088611602783\n"
     ]
    },
    {
     "data": {
      "text/plain": [
       "3240854129438341974"
      ]
     },
     "execution_count": 27,
     "metadata": {},
     "output_type": "execute_result"
    }
   ],
   "source": [
    "import time\n",
    "\n",
    "def my_decorator(func):\n",
    "    def wrapper(*args, **kwargs):\n",
    "        start_time = time.time()\n",
    "        result = func(*args, **kwargs)\n",
    "        end_time = time.time()\n",
    "        print(f\"Time taken for to run {func.__name__} is {end_time - start_time}\")\n",
    "        return result\n",
    "    return wrapper\n",
    "\n",
    "\n",
    "@my_decorator\n",
    "def complex_list_calculation(lst):\n",
    "    return list(map(lambda x:x**3-(x-1) ,lst))\n",
    "\n",
    "@my_decorator\n",
    "def complex_calculation(n):\n",
    "    return sum(x**2 for x in range(n))\n",
    "\n",
    "complex_calculation(2134324)"
   ]
  },
  {
   "cell_type": "markdown",
   "id": "ebc85d7c",
   "metadata": {},
   "source": [
    "### Assignment 7: Higher-Order Function for Filtering and Mapping\n",
    "\n",
    "Define a higher-order function that takes two functions, a filter function and a map function, along with a list of integers. The higher-order function should first filter the integers using the filter function and then apply the map function to the filtered integers. Test with different filter and map functions."
   ]
  },
  {
   "cell_type": "code",
   "execution_count": 50,
   "id": "0cddccd5",
   "metadata": {},
   "outputs": [
    {
     "name": "stdout",
     "output_type": "stream",
     "text": [
      "[7, 8, 9]\n"
     ]
    },
    {
     "data": {
      "text/plain": [
       "[9, 10, 11]"
      ]
     },
     "execution_count": 50,
     "metadata": {},
     "output_type": "execute_result"
    }
   ],
   "source": [
    "lst = [3,7,4,8,4,9]\n",
    "\n",
    "def fun(lst):\n",
    "    filter_lst = list(filter(lambda x:x>5, lst))\n",
    "    print(filter_lst)\n",
    "    map_lst = list(map(lambda x:x+2, filter_lst))\n",
    "    return map_lst\n",
    "\n",
    "fun(lst)"
   ]
  },
  {
   "cell_type": "markdown",
   "id": "b16774d6",
   "metadata": {},
   "source": [
    "### Assignment 8: Function Composition\n",
    "\n",
    "Define a function that composes two functions, f and g, such that the result is f(g(x)). Test with different functions f and g."
   ]
  },
  {
   "cell_type": "code",
   "execution_count": 42,
   "id": "f97926c0",
   "metadata": {},
   "outputs": [
    {
     "name": "stdout",
     "output_type": "stream",
     "text": [
      "121\n"
     ]
    }
   ],
   "source": [
    "def h(x):\n",
    "    result_f = f(x)\n",
    "    final_result = g(result_f)\n",
    "    return final_result    \n",
    "       \n",
    "def f(x):\n",
    "    return x+5\n",
    "def g(x):\n",
    "    return x**2\n",
    "\n",
    "print(h(6))"
   ]
  },
  {
   "cell_type": "code",
   "execution_count": 57,
   "id": "fb733ddc",
   "metadata": {},
   "outputs": [
    {
     "name": "stdout",
     "output_type": "stream",
     "text": [
      "217\n"
     ]
    }
   ],
   "source": [
    "f=lambda x:x+1\n",
    "g=lambda x:x**3\n",
    "\n",
    "def h(f,g):\n",
    "    return lambda x:f(g(x))\n",
    "\n",
    "final = h(f,g)\n",
    "print(final(6))\n"
   ]
  },
  {
   "cell_type": "markdown",
   "id": "d79313d5",
   "metadata": {},
   "source": [
    "### Assignment 9: Partial Function Application\n",
    "\n",
    "Use the functools.partial function to create a new function that multiplies its input by 2. Test the new function with different inputs."
   ]
  },
  {
   "cell_type": "markdown",
   "id": "e6a45814",
   "metadata": {},
   "source": []
  },
  {
   "cell_type": "markdown",
   "id": "c9bd8da0",
   "metadata": {},
   "source": [
    "### Assignment 10: Function with Error Handling\n",
    "\n",
    "Define a function that takes a list of integers and returns their average. The function should handle any errors that occur (e.g., empty list) and return None in such cases. Test with different inputs."
   ]
  },
  {
   "cell_type": "code",
   "execution_count": 80,
   "id": "c8347e53",
   "metadata": {},
   "outputs": [
    {
     "name": "stdout",
     "output_type": "stream",
     "text": [
      "29.833333333333332\n"
     ]
    }
   ],
   "source": [
    "lst = [10,29,30,14,24,72]\n",
    "\n",
    "def avg_calc (lst):\n",
    "    if any(isinstance(x, str) for x in lst):\n",
    "        print(\"list contains string value in it\")\n",
    "    elif len(lst)==0:\n",
    "        print(\"given list is empty\")\n",
    "    else:\n",
    "        total = sum(lst)/len(lst)\n",
    "        print(total)\n",
    "\n",
    "avg_calc(lst)\n"
   ]
  },
  {
   "cell_type": "markdown",
   "id": "8bbd7916",
   "metadata": {},
   "source": [
    "### Assignment 11: Function with Generators\n",
    "\n",
    "Define a function that generates an infinite sequence of Fibonacci numbers. Test by printing the first 10 numbers in the sequence."
   ]
  },
  {
   "cell_type": "code",
   "execution_count": 54,
   "id": "b28af747",
   "metadata": {},
   "outputs": [
    {
     "name": "stdout",
     "output_type": "stream",
     "text": [
      "0\n",
      "1\n",
      "1\n",
      "2\n",
      "3\n",
      "5\n",
      "8\n",
      "13\n",
      "21\n",
      "34\n"
     ]
    }
   ],
   "source": [
    "def fibonacci(n, memo={}):\n",
    "    if n in memo:\n",
    "        return memo[n]\n",
    "    \n",
    "    elif n <= 1:\n",
    "        return n\n",
    "    \n",
    "    else:\n",
    "        memo[n] =  fibonacci(n-1, memo) + fibonacci(n-2, memo)\n",
    "        return memo[n]\n",
    "    \n",
    "\n",
    "\n",
    "for i in range(10):\n",
    "    print(fibonacci(i))\n",
    "\n"
   ]
  },
  {
   "cell_type": "markdown",
   "id": "68c6a614",
   "metadata": {},
   "source": [
    "### Assignment 12: Currying\n",
    "\n",
    "Define a curried function that takes three arguments, one at a time, and returns their product. Test the function by providing arguments one at a time."
   ]
  },
  {
   "cell_type": "code",
   "execution_count": 66,
   "id": "80ae879f",
   "metadata": {},
   "outputs": [],
   "source": [
    "\n"
   ]
  },
  {
   "cell_type": "markdown",
   "id": "1b4aed39",
   "metadata": {},
   "source": [
    "### Assignment 13: Function with Context Manager\n",
    "\n",
    "Define a function that uses a context manager to write a list of integers to a file. The function should handle any errors that occur during file operations. Test with different lists."
   ]
  },
  {
   "cell_type": "code",
   "execution_count": 69,
   "id": "1d443627",
   "metadata": {},
   "outputs": [],
   "source": [
    "def write_to_file(lst, file_name):\n",
    "    try:\n",
    "        with open(file_name, 'w') as f:\n",
    "            for e in lst:\n",
    "                f.write(f'{e}')\n",
    "    except IOError as e:\n",
    "        print(f\"an error occured : {e}\")\n",
    "\n",
    "\n",
    "lst = [1,2,3,4,5,6,7,8,10]\n",
    "write_to_file(lst, 'test_files/test_1.txt')"
   ]
  },
  {
   "cell_type": "markdown",
   "id": "a81bc261",
   "metadata": {},
   "source": [
    "### Assignment 14: Function with Multiple Return Types\n",
    "\n",
    "Define a function that takes a list of mixed data types (integers, strings, and floats) and returns three lists: one containing all the integers, one containing all the strings, and one containing all the floats. Test with different inputs."
   ]
  },
  {
   "cell_type": "code",
   "execution_count": 82,
   "id": "bb547e30",
   "metadata": {},
   "outputs": [
    {
     "data": {
      "text/plain": [
       "([1, 3], [5.6, 5.7], ['Hemanth', 'LVS'])"
      ]
     },
     "execution_count": 82,
     "metadata": {},
     "output_type": "execute_result"
    }
   ],
   "source": [
    "data = [1,5.6,3,5.7,'Hemanth','LVS']\n",
    "\n",
    "def separate_datatypes(data):\n",
    "    integer_lst, float_lst, string_lst = [], [], []\n",
    "    for item in data:\n",
    "        if isinstance(item, int):\n",
    "            integer_lst.append(item)\n",
    "        if isinstance(item, float):\n",
    "            float_lst.append(item)\n",
    "        if isinstance(item, str):\n",
    "            string_lst.append(item)\n",
    "    return integer_lst,float_lst,string_lst\n",
    "\n",
    "separate_datatypes(data)"
   ]
  },
  {
   "cell_type": "markdown",
   "id": "8f01ab8c",
   "metadata": {},
   "source": [
    "### Assignment 15: Function with State\n",
    "\n",
    "Define a function that maintains state between calls using a mutable default argument. The function should keep track of how many times it has been called. Test by calling the function multiple times."
   ]
  },
  {
   "cell_type": "code",
   "execution_count": null,
   "id": "c3f21e35",
   "metadata": {},
   "outputs": [],
   "source": []
  }
 ],
 "metadata": {
  "kernelspec": {
   "display_name": "venv",
   "language": "python",
   "name": "python3"
  },
  "language_info": {
   "codemirror_mode": {
    "name": "ipython",
    "version": 3
   },
   "file_extension": ".py",
   "mimetype": "text/x-python",
   "name": "python",
   "nbconvert_exporter": "python",
   "pygments_lexer": "ipython3",
   "version": "3.10.0"
  }
 },
 "nbformat": 4,
 "nbformat_minor": 5
}
