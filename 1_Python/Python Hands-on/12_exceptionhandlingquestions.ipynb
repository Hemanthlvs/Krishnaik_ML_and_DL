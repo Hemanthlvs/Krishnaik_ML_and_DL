{
 "cells": [
  {
   "cell_type": "markdown",
   "metadata": {},
   "source": [
    "# Module: Exception Handling Assignments\n",
    "## Lesson: Exception Handling with try, except, and finally\n",
    "### Assignment 1: Handling Division by Zero\n",
    "\n",
    "Write a function that takes two integers as input and returns their division. Use try, except, and finally blocks to handle division by zero and print an appropriate message."
   ]
  },
  {
   "cell_type": "code",
   "execution_count": 1,
   "metadata": {},
   "outputs": [
    {
     "name": "stdout",
     "output_type": "stream",
     "text": [
      "division by zero\n",
      "function executed\n"
     ]
    }
   ],
   "source": [
    "def handling_error(num):\n",
    "    try:\n",
    "        num/0\n",
    "    except ZeroDivisionError as e:\n",
    "        print(e)\n",
    "    finally:\n",
    "        print(\"function executed\")\n",
    "\n",
    "handling_error(10)"
   ]
  },
  {
   "cell_type": "markdown",
   "id": "bc1520e8",
   "metadata": {},
   "source": [
    "### Assignment 2: File Reading with Exception Handling\n",
    "\n",
    "Write a function that reads the contents of a file named `data.txt`. Use try, except, and finally blocks to handle file not found errors and ensure the file is properly closed."
   ]
  },
  {
   "cell_type": "code",
   "execution_count": 7,
   "id": "d1f08c53",
   "metadata": {},
   "outputs": [
    {
     "name": "stdout",
     "output_type": "stream",
     "text": [
      "hi\n",
      "heyyyyyy\n",
      "world.\n",
      "heyyyyyy\n",
      "heyyyyyy\n",
      "heyyyyyy heyyyyyy\n",
      "hey\n",
      "hey\n",
      "how are you?\n",
      "\n",
      "file closed\n"
     ]
    }
   ],
   "source": [
    "def file_not_found(file_name):\n",
    "    try:\n",
    "        file = open(file_name, 'r')\n",
    "        content = file.read()\n",
    "        print(content)\n",
    "    except FileNotFoundError as e:\n",
    "        print(f\"error is : {e}\")\n",
    "    finally:\n",
    "        try:\n",
    "            file.close()\n",
    "            print(\"file closed\")\n",
    "        except NameError:\n",
    "            pass\n",
    "\n",
    "\n",
    "\n",
    "file_not_found('11_merged.txt')"
   ]
  },
  {
   "cell_type": "markdown",
   "id": "fbdd1ad2",
   "metadata": {},
   "source": [
    "### Assignment 3: Handling Multiple Exceptions\n",
    "\n",
    "Write a function that takes a list of integers and returns their sum. Use try, except, and finally blocks to handle TypeError if a non-integer value is encountered and print an appropriate message."
   ]
  },
  {
   "cell_type": "code",
   "execution_count": 17,
   "id": "3b121357",
   "metadata": {},
   "outputs": [
    {
     "name": "stdout",
     "output_type": "stream",
     "text": [
      "execution completed\n"
     ]
    },
    {
     "data": {
      "text/plain": [
       "33.5"
      ]
     },
     "execution_count": 17,
     "metadata": {},
     "output_type": "execute_result"
    }
   ],
   "source": [
    "def sum_list(lst):\n",
    "    try:\n",
    "        sum_value = sum(lst)\n",
    "        return sum_value\n",
    "    except TypeError as e:\n",
    "        print(f'error is : {e}')\n",
    "    finally:\n",
    "        print(\"execution completed\")\n",
    "\n",
    "\n",
    "sum_list([1,2.5,6,7,8,9])\n",
    "# sum_list(['asc','asw','safd','advdsv'])"
   ]
  },
  {
   "cell_type": "markdown",
   "id": "ef115b7b",
   "metadata": {},
   "source": [
    "### Assignment 4: Exception Handling in User Input\n",
    "\n",
    "Write a function that prompts the user to enter an integer. Use try, except, and finally blocks to handle ValueError if the user enters a non-integer value and print an appropriate message."
   ]
  },
  {
   "cell_type": "code",
   "execution_count": 32,
   "id": "92f3dd73",
   "metadata": {},
   "outputs": [
    {
     "name": "stdout",
     "output_type": "stream",
     "text": [
      "error is : invalid literal for int() with base 10: 'dsfad'\n"
     ]
    }
   ],
   "source": [
    "def check_integer():\n",
    "    try:\n",
    "        print(int(input()))\n",
    "    except ValueError as e:\n",
    "        print(f'error is : {e}')\n",
    "\n",
    "check_integer()"
   ]
  },
  {
   "cell_type": "markdown",
   "id": "44083607",
   "metadata": {},
   "source": [
    "### Assignment 5: Exception Handling in Dictionary Access\n",
    "\n",
    "Write a function that takes a dictionary and a key as input and returns the value associated with the key. Use try, except, and finally blocks to handle KeyError if the key is not found in the dictionary and print an appropriate message."
   ]
  },
  {
   "cell_type": "code",
   "execution_count": 27,
   "id": "39f03b22",
   "metadata": {},
   "outputs": [
    {
     "name": "stdout",
     "output_type": "stream",
     "text": [
      "error is : 'age' -- key not found\n",
      "Execution completed\n"
     ]
    }
   ],
   "source": [
    "def dict_fun(dic,key):\n",
    "    try:\n",
    "        value = dic[key]\n",
    "    except KeyError as e:\n",
    "        print(f'error is : {e} -- key not found')\n",
    "        value=None\n",
    "    finally:\n",
    "        print(\"Execution completed\")\n",
    "    return value\n",
    "\n",
    "dict_fun({'name':'Hemanth','id':1},'age')"
   ]
  },
  {
   "cell_type": "markdown",
   "id": "8fdfecf9",
   "metadata": {},
   "source": [
    "### Assignment 6: Nested Exception Handling\n",
    "\n",
    "Write a function that performs nested exception handling. It should first attempt to convert a string to an integer, and then attempt to divide by that integer. Use nested try, except, and finally blocks to handle ValueError and ZeroDivisionError and print appropriate messages."
   ]
  },
  {
   "cell_type": "code",
   "execution_count": 30,
   "id": "5612e759",
   "metadata": {},
   "outputs": [
    {
     "name": "stdout",
     "output_type": "stream",
     "text": [
      "error is division by zero\n",
      "integer division completed\n",
      "completed\n"
     ]
    }
   ],
   "source": [
    "def nested_exception(string):\n",
    "    try:\n",
    "        integer = int(string)\n",
    "        try:\n",
    "            result = 10/integer\n",
    "            return result\n",
    "        except Exception as e:\n",
    "            print(f\"error is {e}\")\n",
    "        finally:\n",
    "            print(\"integer division completed\")\n",
    "    except Exception as e:\n",
    "        print(f\"error is {e}\")\n",
    "    finally:\n",
    "        print(\"completed\")\n",
    "\n",
    "nested_exception('0')"
   ]
  },
  {
   "cell_type": "markdown",
   "id": "b76a01f2",
   "metadata": {},
   "source": [
    "### Assignment 7: Exception Handling in List Operations\n",
    "\n",
    "Write a function that takes a list and an index as input and returns the element at the given index. Use try, except, and finally blocks to handle IndexError if the index is out of range and print an appropriate message."
   ]
  },
  {
   "cell_type": "code",
   "execution_count": 33,
   "id": "ccbf48c6",
   "metadata": {},
   "outputs": [
    {
     "name": "stdout",
     "output_type": "stream",
     "text": [
      "error is list index out of range\n",
      "execution completed\n"
     ]
    }
   ],
   "source": [
    "def list_check(lst,idx):\n",
    "    try:\n",
    "        value = lst[idx]\n",
    "        return value\n",
    "    except IndexError as e:\n",
    "        print(f\"error is {e}\")\n",
    "    finally:\n",
    "        print(\"execution completed\")\n",
    "\n",
    "\n",
    "list_check([1,2,3,4,5],10)"
   ]
  },
  {
   "cell_type": "markdown",
   "id": "afd132fd",
   "metadata": {},
   "source": [
    "### Assignment 8: Exception Handling in Network Operations\n",
    "\n",
    "Write a function that attempts to open a URL and read its contents. Use try, except, and finally blocks to handle network-related errors and print an appropriate message."
   ]
  },
  {
   "cell_type": "code",
   "execution_count": 2,
   "id": "c28ed683",
   "metadata": {},
   "outputs": [
    {
     "ename": "ModuleNotFoundError",
     "evalue": "No module named 'requests'",
     "output_type": "error",
     "traceback": [
      "\u001b[1;31m---------------------------------------------------------------------------\u001b[0m",
      "\u001b[1;31mModuleNotFoundError\u001b[0m                       Traceback (most recent call last)",
      "Cell \u001b[1;32mIn[2], line 1\u001b[0m\n\u001b[1;32m----> 1\u001b[0m \u001b[38;5;28;01mimport\u001b[39;00m \u001b[38;5;21;01mrequests\u001b[39;00m\n",
      "\u001b[1;31mModuleNotFoundError\u001b[0m: No module named 'requests'"
     ]
    }
   ],
   "source": [
    "import requests\n"
   ]
  },
  {
   "cell_type": "markdown",
   "id": "76677762",
   "metadata": {},
   "source": [
    "### Assignment 9: Exception Handling in JSON Parsing\n",
    "\n",
    "Write a function that attempts to parse a JSON string. Use try, except, and finally blocks to handle JSONDecodeError if the string is not a valid JSON and print an appropriate message."
   ]
  },
  {
   "cell_type": "code",
   "execution_count": 7,
   "id": "400c8ee1",
   "metadata": {},
   "outputs": [
    {
     "name": "stdout",
     "output_type": "stream",
     "text": [
      "error is Expecting value: line 1 column 1 (char 0)\n",
      "execution completed\n",
      "None\n"
     ]
    }
   ],
   "source": [
    "import json\n",
    "\n",
    "def parse_json(json_data):\n",
    "    try:\n",
    "        data = json.loads(json_data)\n",
    "        return data\n",
    "    except json.JSONDecodeError as e:\n",
    "        print(f\"error is {e}\")\n",
    "    finally:\n",
    "        print(\"execution completed\")\n",
    "\n",
    "\n",
    "#print(parse_json('{\"name\": \"John\", \"age\": 30}'))  # {'name': 'John', 'age': 30}\n",
    "print(parse_json('Invalid JSON'))  # None"
   ]
  },
  {
   "cell_type": "markdown",
   "id": "c8103b8d",
   "metadata": {},
   "source": [
    "### Assignment 10: Custom Exception Handling\n",
    "\n",
    "Define a custom exception named `NegativeNumberError`. Write a function that raises this exception if a negative number is encountered in a list. Use try, except, and finally blocks to handle the custom exception and print an appropriate message."
   ]
  },
  {
   "cell_type": "code",
   "execution_count": 9,
   "id": "1d7d7a5f",
   "metadata": {},
   "outputs": [
    {
     "name": "stdout",
     "output_type": "stream",
     "text": [
      "error is : Negative number entered in list\n",
      "execution completed\n"
     ]
    }
   ],
   "source": [
    "class NegativeNumberError(Exception):\n",
    "    pass\n",
    "\n",
    "def raise_negative_error(lst):\n",
    "    try:\n",
    "        for e in lst:\n",
    "            if e < 0:\n",
    "                raise NegativeNumberError(f\"Negative number entered in list\")\n",
    "    except NegativeNumberError as e:\n",
    "        print(f\"error is : {e}\")\n",
    "    finally:\n",
    "        print(\"execution completed\")\n",
    "\n",
    "raise_negative_error([1,2,3,4,-5])"
   ]
  },
  {
   "cell_type": "markdown",
   "id": "dc499870",
   "metadata": {},
   "source": [
    "### Assignment 11: Exception Handling in Function Calls\n",
    "\n",
    "Write a function that calls another function which may raise an exception. Use try, except, and finally blocks to handle the exception and print an appropriate message."
   ]
  },
  {
   "cell_type": "code",
   "execution_count": 34,
   "id": "5ba5492d",
   "metadata": {},
   "outputs": [
    {
     "name": "stdout",
     "output_type": "stream",
     "text": [
      "this is the error : Error occured in risky function\n"
     ]
    }
   ],
   "source": [
    "def risky_function():\n",
    "    raise ValueError(\"Error occured in risky function\")\n",
    "\n",
    "def call_function():\n",
    "    try:\n",
    "        risky_function()\n",
    "    except ValueError as e:\n",
    "        print(f'this is the error : {e}')\n",
    "\n",
    "\n",
    "call_function()"
   ]
  },
  {
   "cell_type": "markdown",
   "id": "9bcfcfa5",
   "metadata": {},
   "source": [
    "### Assignment 12: Exception Handling in Class Methods\n",
    "\n",
    "Define a class with a method that performs a division operation. Use try, except, and finally blocks within the method to handle division by zero and print an appropriate message."
   ]
  },
  {
   "cell_type": "code",
   "execution_count": 29,
   "id": "2538e2e2",
   "metadata": {},
   "outputs": [
    {
     "name": "stdout",
     "output_type": "stream",
     "text": [
      "execution completed\n",
      "Division of the given numbers are : 2.0\n",
      "execution completed\n",
      "error is : division by zero\n"
     ]
    }
   ],
   "source": [
    "class calc():\n",
    "    def __init__(self, number1, number2):\n",
    "        self.number1 = number1\n",
    "        self.number2 = number2\n",
    "\n",
    "    def division(self):\n",
    "        try:\n",
    "            return f\"Division of the given numbers are : {self.number1 / self.number2}\"\n",
    "    \n",
    "        except Exception as e:\n",
    "            return f\"error is : {e}\"\n",
    "\n",
    "        finally:\n",
    "            print(\"execution completed\")\n",
    "\n",
    "\n",
    "result = calc(4,2)\n",
    "print(result.division())\n",
    "\n",
    "result1 = calc(2,0)\n",
    "print(result1.division())\n",
    "            "
   ]
  },
  {
   "cell_type": "markdown",
   "id": "00aa6ee9",
   "metadata": {},
   "source": [
    "### Assignment 13: Exception Handling in Data Conversion\n",
    "\n",
    "Write a function that takes a list of strings and converts them to integers. Use try, except, and finally blocks to handle ValueError if a string cannot be converted and print an appropriate message."
   ]
  },
  {
   "cell_type": "code",
   "execution_count": 37,
   "id": "13f3665c",
   "metadata": {},
   "outputs": [
    {
     "name": "stdout",
     "output_type": "stream",
     "text": [
      "given values are unable to convert to integer of list due to this error : invalid literal for int() with base 10: 'Hemanth'\n"
     ]
    }
   ],
   "source": [
    "def check_list(lst):\n",
    "    final_lst = []\n",
    "    try:\n",
    "        for e in lst:\n",
    "            final_lst.append(int(e))\n",
    "        return final_lst\n",
    "    except ValueError as e:\n",
    "        print(f\"given values are unable to convert to integer of list due to this error : {e}\" )\n",
    "\n",
    "check_list(['2','Hemanth','6','7','8'])\n",
    "\n"
   ]
  },
  {
   "cell_type": "markdown",
   "id": "12c9e087",
   "metadata": {},
   "source": [
    "### Assignment 14: Exception Handling in List Comprehensions\n",
    "\n",
    "Write a function that uses a list comprehension to convert a list of strings to integers. Use try, except, and finally blocks within the list comprehension to handle ValueError and print an appropriate message."
   ]
  },
  {
   "cell_type": "code",
   "execution_count": 12,
   "id": "48fdaac8",
   "metadata": {},
   "outputs": [
    {
     "name": "stdout",
     "output_type": "stream",
     "text": [
      "['1', '2', '3', '4', '5']\n",
      "[1, 2, 3, 4, 5]\n",
      "<class 'list'>\n"
     ]
    }
   ],
   "source": [
    "lst = ['1','2','3','4','5']\n",
    "print(lst)\n",
    "lst = [int(e) for e in lst]\n",
    "print(lst)"
   ]
  },
  {
   "cell_type": "markdown",
   "id": "34eb7da1",
   "metadata": {},
   "source": [
    "### Assignment 15: Exception Handling in File Writing\n",
    "\n",
    "Write a function that attempts to write a list of strings to a file. Use try, except, and finally blocks to handle IOError and ensure the file is properly closed."
   ]
  },
  {
   "cell_type": "code",
   "execution_count": 43,
   "id": "9e27a21d",
   "metadata": {},
   "outputs": [
    {
     "name": "stdout",
     "output_type": "stream",
     "text": [
      "List written into the file 11_test_file.txt\n",
      "file got closed\n"
     ]
    }
   ],
   "source": [
    "def file_lst(lst, file_name):\n",
    "    try:\n",
    "        file = open(file_name, 'w')\n",
    "        for e in lst:\n",
    "            file.write(e+'\\n')\n",
    "        print(f\"List written into the file {file_name}\")\n",
    "    except Exception as e:\n",
    "        print(f\"Error is {e}\")\n",
    "    finally:\n",
    "        file.close()\n",
    "        print(\"file got closed\")\n",
    "\n",
    "file_lst(['1','2','3','4','5'], '11_test_file.txt')"
   ]
  }
 ],
 "metadata": {
  "kernelspec": {
   "display_name": "venv",
   "language": "python",
   "name": "python3"
  },
  "language_info": {
   "codemirror_mode": {
    "name": "ipython",
    "version": 3
   },
   "file_extension": ".py",
   "mimetype": "text/x-python",
   "name": "python",
   "nbconvert_exporter": "python",
   "pygments_lexer": "ipython3",
   "version": "3.10.0"
  }
 },
 "nbformat": 4,
 "nbformat_minor": 5
}
