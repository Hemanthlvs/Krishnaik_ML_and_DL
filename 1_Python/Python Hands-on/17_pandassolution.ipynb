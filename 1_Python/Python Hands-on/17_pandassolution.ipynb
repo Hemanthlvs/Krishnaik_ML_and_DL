{
 "cells": [
  {
   "cell_type": "markdown",
   "metadata": {},
   "source": [
    "# Module: Pandas Assignments\n",
    "## Lesson: Pandas\n",
    "### Assignment 1: DataFrame Creation and Indexing\n",
    "\n",
    "1. Create a Pandas DataFrame with 4 columns and 6 rows filled with random integers. Set the index to be the first column."
   ]
  },
  {
   "cell_type": "code",
   "execution_count": 2,
   "metadata": {},
   "outputs": [
    {
     "name": "stdout",
     "output_type": "stream",
     "text": [
      "Original DataFrame:\n",
      "    A   B   C   D\n",
      "0  64  82  22  93\n",
      "1  16  72  56   3\n",
      "2  96  50  67  89\n",
      "3  55  94  32  34\n",
      "4  92  91  77  69\n",
      "5  55  42  59  33\n",
      "DataFrame with new index:\n",
      "     B   C   D\n",
      "A             \n",
      "64  82  22  93\n",
      "16  72  56   3\n",
      "96  50  67  89\n",
      "55  94  32  34\n",
      "92  91  77  69\n",
      "55  42  59  33\n"
     ]
    }
   ],
   "source": [
    "import pandas as pd\n",
    "import numpy as np\n",
    "\n",
    "# Create a Pandas DataFrame with 4 columns and 6 rows filled with random integers\n",
    "df = pd.DataFrame(np.random.randint(1, 100, size=(6, 4)), columns=['A', 'B', 'C', 'D'])\n",
    "print(\"Original DataFrame:\")\n",
    "print(df)\n",
    "\n",
    "# Set the index to be the first column\n",
    "df.set_index('A', inplace=True)\n",
    "print(\"DataFrame with new index:\")\n",
    "print(df)"
   ]
  },
  {
   "cell_type": "code",
   "execution_count": 12,
   "id": "662d6e54",
   "metadata": {},
   "outputs": [
    {
     "data": {
      "text/html": [
       "<div>\n",
       "<style scoped>\n",
       "    .dataframe tbody tr th:only-of-type {\n",
       "        vertical-align: middle;\n",
       "    }\n",
       "\n",
       "    .dataframe tbody tr th {\n",
       "        vertical-align: top;\n",
       "    }\n",
       "\n",
       "    .dataframe thead th {\n",
       "        text-align: right;\n",
       "    }\n",
       "</style>\n",
       "<table border=\"1\" class=\"dataframe\">\n",
       "  <thead>\n",
       "    <tr style=\"text-align: right;\">\n",
       "      <th></th>\n",
       "      <th>Name</th>\n",
       "      <th>Age</th>\n",
       "      <th>Designation</th>\n",
       "      <th>Relation</th>\n",
       "    </tr>\n",
       "  </thead>\n",
       "  <tbody>\n",
       "    <tr>\n",
       "      <th>0</th>\n",
       "      <td>Harshini</td>\n",
       "      <td>27</td>\n",
       "      <td>QnA</td>\n",
       "      <td>Atha</td>\n",
       "    </tr>\n",
       "    <tr>\n",
       "      <th>1</th>\n",
       "      <td>Anirudh</td>\n",
       "      <td>29</td>\n",
       "      <td>Cloud engineer</td>\n",
       "      <td>Mama</td>\n",
       "    </tr>\n",
       "    <tr>\n",
       "      <th>2</th>\n",
       "      <td>Padmavathi</td>\n",
       "      <td>52</td>\n",
       "      <td>Lic Manager</td>\n",
       "      <td>Maternal Grandmother</td>\n",
       "    </tr>\n",
       "    <tr>\n",
       "      <th>3</th>\n",
       "      <td>Raja Shekar</td>\n",
       "      <td>52</td>\n",
       "      <td>HOD of School</td>\n",
       "      <td>Maternal Grandfather</td>\n",
       "    </tr>\n",
       "  </tbody>\n",
       "</table>\n",
       "</div>"
      ],
      "text/plain": [
       "          Name  Age     Designation              Relation\n",
       "0     Harshini   27             QnA                  Atha\n",
       "1      Anirudh   29  Cloud engineer                  Mama\n",
       "2   Padmavathi   52     Lic Manager  Maternal Grandmother\n",
       "3  Raja Shekar   52   HOD of School  Maternal Grandfather"
      ]
     },
     "execution_count": 12,
     "metadata": {},
     "output_type": "execute_result"
    }
   ],
   "source": [
    "data_1 = {\n",
    "'Name' : ['Harshini', 'Anirudh', 'Padmavathi', 'Raja Shekar'],\n",
    "'Age' : [27,29,52,52],\n",
    "'Designation' : ['QnA', 'Cloud engineer', 'Lic Manager', 'HOD of School'],\n",
    "'Relation' : ['Atha', 'Mama', 'Maternal Grandmother', 'Maternal Grandfather']\n",
    "}\n",
    "\n",
    "df_1 = pd.DataFrame(data_1)\n",
    "df_1"
   ]
  },
  {
   "cell_type": "code",
   "execution_count": 14,
   "id": "d4a3a1cd",
   "metadata": {},
   "outputs": [
    {
     "ename": "ValueError",
     "evalue": "The truth value of a Series is ambiguous. Use a.empty, a.bool(), a.item(), a.any() or a.all().",
     "output_type": "error",
     "traceback": [
      "\u001b[1;31m---------------------------------------------------------------------------\u001b[0m",
      "\u001b[1;31mValueError\u001b[0m                                Traceback (most recent call last)",
      "\u001b[1;32m~\\AppData\\Local\\Temp\\ipykernel_14856\\2598006876.py\u001b[0m in \u001b[0;36m?\u001b[1;34m()\u001b[0m\n\u001b[0;32m      1\u001b[0m \u001b[1;32mfor\u001b[0m \u001b[0mnames\u001b[0m \u001b[1;32min\u001b[0m \u001b[0mdf_1\u001b[0m\u001b[1;33m[\u001b[0m\u001b[1;34m\"Name\"\u001b[0m\u001b[1;33m]\u001b[0m\u001b[1;33m:\u001b[0m\u001b[1;33m\u001b[0m\u001b[1;33m\u001b[0m\u001b[0m\n\u001b[0;32m      2\u001b[0m     \u001b[1;32mfor\u001b[0m \u001b[0mname\u001b[0m \u001b[1;32min\u001b[0m \u001b[0mnames\u001b[0m\u001b[1;33m:\u001b[0m\u001b[1;33m\u001b[0m\u001b[1;33m\u001b[0m\u001b[0m\n\u001b[1;32m----> 3\u001b[1;33m         \u001b[1;32mif\u001b[0m \u001b[0mdf_1\u001b[0m\u001b[1;33m[\u001b[0m\u001b[1;34m\"Name\"\u001b[0m\u001b[1;33m]\u001b[0m \u001b[1;33m==\u001b[0m \u001b[1;34m\"Harshini\"\u001b[0m\u001b[1;33m:\u001b[0m\u001b[1;33m\u001b[0m\u001b[1;33m\u001b[0m\u001b[0m\n\u001b[0m\u001b[0;32m      4\u001b[0m             \u001b[0mprint\u001b[0m\u001b[1;33m(\u001b[0m\u001b[0mdf_1\u001b[0m\u001b[1;33m[\u001b[0m\u001b[1;34m\"Relation\"\u001b[0m\u001b[1;33m]\u001b[0m\u001b[1;33m)\u001b[0m\u001b[1;33m\u001b[0m\u001b[1;33m\u001b[0m\u001b[0m\n",
      "\u001b[1;32mc:\\Users\\91949\\OneDrive\\Desktop\\Hemanth\\Data science\\Python\\Complete-Python-Bootcamp-main\\Python Hands-on\\venv\\lib\\site-packages\\pandas\\core\\generic.py\u001b[0m in \u001b[0;36m?\u001b[1;34m(self)\u001b[0m\n\u001b[0;32m   1575\u001b[0m     \u001b[1;33m@\u001b[0m\u001b[0mfinal\u001b[0m\u001b[1;33m\u001b[0m\u001b[1;33m\u001b[0m\u001b[0m\n\u001b[0;32m   1576\u001b[0m     \u001b[1;32mdef\u001b[0m \u001b[0m__nonzero__\u001b[0m\u001b[1;33m(\u001b[0m\u001b[0mself\u001b[0m\u001b[1;33m)\u001b[0m \u001b[1;33m->\u001b[0m \u001b[0mNoReturn\u001b[0m\u001b[1;33m:\u001b[0m\u001b[1;33m\u001b[0m\u001b[1;33m\u001b[0m\u001b[0m\n\u001b[1;32m-> 1577\u001b[1;33m         raise ValueError(\n\u001b[0m\u001b[0;32m   1578\u001b[0m             \u001b[1;34mf\"The truth value of a {type(self).__name__} is ambiguous. \"\u001b[0m\u001b[1;33m\u001b[0m\u001b[1;33m\u001b[0m\u001b[0m\n\u001b[0;32m   1579\u001b[0m             \u001b[1;34m\"Use a.empty, a.bool(), a.item(), a.any() or a.all().\"\u001b[0m\u001b[1;33m\u001b[0m\u001b[1;33m\u001b[0m\u001b[0m\n\u001b[0;32m   1580\u001b[0m         )\n",
      "\u001b[1;31mValueError\u001b[0m: The truth value of a Series is ambiguous. Use a.empty, a.bool(), a.item(), a.any() or a.all()."
     ]
    }
   ],
   "source": [
    "for names in df_1[\"Name\"]:\n",
    "    for name in names:\n",
    "        if df_1[\"Name\"] == \"Harshini\":\n",
    "            print(df_1[\"Relation\"])"
   ]
  },
  {
   "cell_type": "markdown",
   "metadata": {},
   "source": [
    "2. Create a Pandas DataFrame with columns 'A', 'B', 'C' and index 'X', 'Y', 'Z'. Fill the DataFrame with random integers and access the element at row 'Y' and column 'B'."
   ]
  },
  {
   "cell_type": "code",
   "execution_count": null,
   "metadata": {},
   "outputs": [],
   "source": [
    "# Create a Pandas DataFrame with specified columns and index\n",
    "df = pd.DataFrame(np.random.randint(1, 100, size=(3, 3)), columns=['A', 'B', 'C'], index=['X', 'Y', 'Z'])\n",
    "print(\"Original DataFrame:\")\n",
    "print(df)\n",
    "\n",
    "# Access the element at row 'Y' and column 'B'\n",
    "element = df.at['Y', 'B']\n",
    "print(\"Element at row 'Y' and column 'B':\", element)"
   ]
  },
  {
   "cell_type": "markdown",
   "metadata": {},
   "source": [
    "### Assignment 2: DataFrame Operations\n",
    "\n",
    "1. Create a Pandas DataFrame with 3 columns and 5 rows filled with random integers. Add a new column that is the product of the first two columns."
   ]
  },
  {
   "cell_type": "code",
   "execution_count": null,
   "metadata": {},
   "outputs": [],
   "source": [
    "# Create a Pandas DataFrame with 3 columns and 5 rows filled with random integers\n",
    "df = pd.DataFrame(np.random.randint(1, 100, size=(5, 3)), columns=['A', 'B', 'C'])\n",
    "print(\"Original DataFrame:\")\n",
    "print(df)\n",
    "\n",
    "# Add a new column that is the product of the first two columns\n",
    "df['D'] = df['A'] * df['B']\n",
    "print(\"DataFrame with new column:\")\n",
    "print(df)"
   ]
  },
  {
   "cell_type": "markdown",
   "metadata": {},
   "source": [
    "2. Create a Pandas DataFrame with 3 columns and 4 rows filled with random integers. Compute the row-wise and column-wise sum."
   ]
  },
  {
   "cell_type": "code",
   "execution_count": null,
   "metadata": {},
   "outputs": [],
   "source": [
    "# Create a Pandas DataFrame with 3 columns and 4 rows filled with random integers\n",
    "df = pd.DataFrame(np.random.randint(1, 100, size=(4, 3)), columns=['A', 'B', 'C'])\n",
    "print(\"Original DataFrame:\")\n",
    "print(df)\n",
    "\n",
    "# Compute the row-wise and column-wise sum\n",
    "row_sum = df.sum(axis=1)\n",
    "column_sum = df.sum(axis=0)\n",
    "\n",
    "print(\"Row-wise sum:\")\n",
    "print(row_sum)\n",
    "print(\"Column-wise sum:\")\n",
    "print(column_sum)"
   ]
  },
  {
   "cell_type": "markdown",
   "metadata": {},
   "source": [
    "### Assignment 3: Data Cleaning\n",
    "\n",
    "1. Create a Pandas DataFrame with 3 columns and 5 rows filled with random integers. Introduce some NaN values. Fill the NaN values with the mean of the respective columns."
   ]
  },
  {
   "cell_type": "code",
   "execution_count": null,
   "metadata": {},
   "outputs": [],
   "source": [
    "# Create a Pandas DataFrame with 3 columns and 5 rows filled with random integers\n",
    "df = pd.DataFrame(np.random.randint(1, 100, size=(5, 3)), columns=['A', 'B', 'C'])\n",
    "print(\"Original DataFrame:\")\n",
    "print(df)\n",
    "\n",
    "# Introduce some NaN values\n",
    "df.iloc[0, 1] = np.nan\n",
    "df.iloc[2, 2] = np.nan\n",
    "df.iloc[4, 0] = np.nan\n",
    "print(\"DataFrame with NaN values:\")\n",
    "print(df)\n",
    "\n",
    "# Fill the NaN values with the mean of the respective columns\n",
    "df.fillna(df.mean(), inplace=True)\n",
    "print(\"DataFrame with NaN values filled:\")\n",
    "print(df)"
   ]
  },
  {
   "cell_type": "markdown",
   "metadata": {},
   "source": [
    "2. Create a Pandas DataFrame with 4 columns and 6 rows filled with random integers. Introduce some NaN values. Drop the rows with any NaN values."
   ]
  },
  {
   "cell_type": "code",
   "execution_count": null,
   "metadata": {},
   "outputs": [],
   "source": [
    "# Create a Pandas DataFrame with 4 columns and 6 rows filled with random integers\n",
    "df = pd.DataFrame(np.random.randint(1, 100, size=(6, 4)), columns=['A', 'B', 'C', 'D'])\n",
    "print(\"Original DataFrame:\")\n",
    "print(df)\n",
    "\n",
    "# Introduce some NaN values\n",
    "df.iloc[1, 2] = np.nan\n",
    "df.iloc[3, 0] = np.nan\n",
    "df.iloc[5, 1] = np.nan\n",
    "print(\"DataFrame with NaN values:\")\n",
    "print(df)\n",
    "\n",
    "# Drop the rows with any NaN values\n",
    "df.dropna(inplace=True)\n",
    "print(\"DataFrame with NaN values dropped:\")\n",
    "print(df)"
   ]
  },
  {
   "cell_type": "markdown",
   "metadata": {},
   "source": [
    "### Assignment 4: Data Aggregation\n",
    "\n",
    "1. Create a Pandas DataFrame with 2 columns: 'Category' and 'Value'. Fill the 'Category' column with random categories ('A', 'B', 'C') and the 'Value' column with random integers. Group the DataFrame by 'Category' and compute the sum and mean of 'Value' for each category."
   ]
  },
  {
   "cell_type": "code",
   "execution_count": null,
   "metadata": {},
   "outputs": [],
   "source": [
    "# Create a Pandas DataFrame with 2 columns: 'Category' and 'Value'\n",
    "df = pd.DataFrame({'Category': np.random.choice(['A', 'B', 'C'], size=10), 'Value': np.random.randint(1, 100, size=10)})\n",
    "print(\"Original DataFrame:\")\n",
    "print(df)\n",
    "\n",
    "# Group the DataFrame by 'Category' and compute the sum and mean of 'Value' for each category\n",
    "grouped = df.groupby('Category')['Value'].agg(['sum', 'mean'])\n",
    "print(\"Grouped DataFrame:\")\n",
    "print(grouped)"
   ]
  },
  {
   "cell_type": "markdown",
   "metadata": {},
   "source": [
    "2. Create a Pandas DataFrame with 3 columns: 'Product', 'Category', and 'Sales'. Fill the DataFrame with random data. Group the DataFrame by 'Category' and compute the total sales for each category."
   ]
  },
  {
   "cell_type": "code",
   "execution_count": 3,
   "metadata": {},
   "outputs": [
    {
     "name": "stdout",
     "output_type": "stream",
     "text": [
      "Original DataFrame:\n",
      "  Product Category  Sales\n",
      "0   Prod3        C     21\n",
      "1   Prod2        C     92\n",
      "2   Prod1        B     60\n",
      "3   Prod2        B     20\n",
      "4   Prod2        C     52\n",
      "5   Prod2        B      8\n",
      "6   Prod2        C     54\n",
      "7   Prod2        A      3\n",
      "8   Prod2        B     81\n",
      "9   Prod2        C      8\n",
      "Grouped DataFrame:\n",
      "Category\n",
      "A      3\n",
      "B    169\n",
      "C    227\n",
      "Name: Sales, dtype: int32\n"
     ]
    }
   ],
   "source": [
    "# Create a Pandas DataFrame with 3 columns: 'Product', 'Category', and 'Sales'\n",
    "df = pd.DataFrame({'Product': np.random.choice(['Prod1', 'Prod2', 'Prod3'], size=10), 'Category': np.random.choice(['A', 'B', 'C'], size=10), 'Sales': np.random.randint(1, 100, size=10)})\n",
    "print(\"Original DataFrame:\")\n",
    "print(df)\n",
    "\n",
    "# Group the DataFrame by 'Category' and compute the total sales for each category\n",
    "grouped = df.groupby('Category')['Sales'].sum()\n",
    "print(\"Grouped DataFrame:\")\n",
    "print(grouped)"
   ]
  },
  {
   "cell_type": "markdown",
   "metadata": {},
   "source": [
    "### Assignment 5: Merging DataFrames\n",
    "\n",
    "1. Create two Pandas DataFrames with a common column. Merge the DataFrames using the common column."
   ]
  },
  {
   "cell_type": "code",
   "execution_count": null,
   "metadata": {},
   "outputs": [],
   "source": [
    "# Create two Pandas DataFrames with a common column\n",
    "df1 = pd.DataFrame({'Key': ['A', 'B', 'C', 'D'], 'Value1': np.random.randint(1, 100, size=4)})\n",
    "df2 = pd.DataFrame({'Key': ['A', 'B', 'C', 'E'], 'Value2': np.random.randint(1, 100, size=4)})\n",
    "print(\"DataFrame 1:\")\n",
    "print(df1)\n",
    "print(\"DataFrame 2:\")\n",
    "print(df2)\n",
    "\n",
    "# Merge the DataFrames using the common column\n",
    "merged = pd.merge(df1, df2, on='Key')\n",
    "print(\"Merged DataFrame:\")\n",
    "print(merged)"
   ]
  },
  {
   "cell_type": "markdown",
   "metadata": {},
   "source": [
    "2. Create two Pandas DataFrames with different columns. Concatenate the DataFrames along the rows and along the columns."
   ]
  },
  {
   "cell_type": "code",
   "execution_count": null,
   "metadata": {},
   "outputs": [],
   "source": [
    "# Create two Pandas DataFrames with different columns\n",
    "df1 = pd.DataFrame({'A': np.random.randint(1, 100, size=3), 'B': np.random.randint(1, 100, size=3)})\n",
    "df2 = pd.DataFrame({'C': np.random.randint(1, 100, size=3), 'D': np.random.randint(1, 100, size=3)})\n",
    "print(\"DataFrame 1:\")\n",
    "print(df1)\n",
    "print(\"DataFrame 2:\")\n",
    "print(df2)\n",
    "\n",
    "# Concatenate the DataFrames along the rows\n",
    "concat_rows = pd.concat([df1, df2], axis=0)\n",
    "print(\"Concatenated DataFrame (rows):\")\n",
    "print(concat_rows)\n",
    "\n",
    "# Concatenate the DataFrames along the columns\n",
    "concat_columns = pd.concat([df1, df2], axis=1)\n",
    "print(\"Concatenated DataFrame (columns):\")\n",
    "print(concat_columns)"
   ]
  },
  {
   "cell_type": "markdown",
   "metadata": {},
   "source": [
    "### Assignment 6: Time Series Analysis\n",
    "\n",
    "1. Create a Pandas DataFrame with a datetime index and one column filled with random integers. Resample the DataFrame to compute the monthly mean of the values."
   ]
  },
  {
   "cell_type": "code",
   "execution_count": null,
   "metadata": {},
   "outputs": [],
   "source": [
    "# Create a Pandas DataFrame with a datetime index and one column filled with random integers\n",
    "date_rng = pd.date_range(start='2022-01-01', end='2022-12-31', freq='D')\n",
    "df = pd.DataFrame(date_rng, columns=['date'])\n",
    "df['data'] = np.random.randint(0, 100, size=(len(date_rng)))\n",
    "df.set_index('date', inplace=True)\n",
    "print(\"Original DataFrame:\")\n",
    "print(df)\n",
    "\n",
    "# Resample the DataFrame to compute the monthly mean of the values\n",
    "monthly_mean = df.resample('M').mean()\n",
    "print(\"Monthly mean DataFrame:\")\n",
    "print(monthly_mean)"
   ]
  },
  {
   "cell_type": "markdown",
   "metadata": {},
   "source": [
    "2. Create a Pandas DataFrame with a datetime index ranging from '2021-01-01' to '2021-12-31' and one column filled with random integers. Compute the rolling mean with a window of 7 days."
   ]
  },
  {
   "cell_type": "code",
   "execution_count": null,
   "metadata": {},
   "outputs": [],
   "source": [
    "# Create a Pandas DataFrame with a datetime index ranging from '2021-01-01' to '2021-12-31'\n",
    "date_rng = pd.date_range(start='2021-01-01', end='2021-12-31', freq='D')\n",
    "df = pd.DataFrame(date_rng, columns=['date'])\n",
    "df['data'] = np.random.randint(0, 100, size=(len(date_rng)))\n",
    "df.set_index('date', inplace=True)\n",
    "print(\"Original DataFrame:\")\n",
    "print(df)\n",
    "\n",
    "# Compute the rolling mean with a window of 7 days\n",
    "rolling_mean = df.rolling(window=7).mean()\n",
    "print(\"Rolling mean DataFrame:\")\n",
    "print(rolling_mean)"
   ]
  },
  {
   "cell_type": "markdown",
   "metadata": {},
   "source": [
    "### Assignment 7: MultiIndex DataFrame\n",
    "\n",
    "1. Create a Pandas DataFrame with a MultiIndex (hierarchical index). Perform some basic indexing and slicing operations on the MultiIndex DataFrame."
   ]
  },
  {
   "cell_type": "code",
   "execution_count": 4,
   "metadata": {},
   "outputs": [
    {
     "name": "stdout",
     "output_type": "stream",
     "text": [
      "MultiIndex DataFrame:\n",
      "                      Value1  Value2  Value3\n",
      "Category SubCategory                        \n",
      "A        one              26      97      43\n",
      "         two              55      55      87\n",
      "B        one              31      86      77\n",
      "         two              72      52      44\n",
      "Indexing at Category 'A':\n",
      "             Value1  Value2  Value3\n",
      "SubCategory                        \n",
      "one              26      97      43\n",
      "two              55      55      87\n",
      "Slicing at Category 'B' and SubCategory 'two':\n",
      "Value1    72\n",
      "Value2    52\n",
      "Value3    44\n",
      "Name: (B, two), dtype: int32\n"
     ]
    }
   ],
   "source": [
    "# Create a Pandas DataFrame with a MultiIndex (hierarchical index)\n",
    "arrays = [['A', 'A', 'B', 'B'], ['one', 'two', 'one', 'two']]\n",
    "index = pd.MultiIndex.from_arrays(arrays, names=('Category', 'SubCategory'))\n",
    "df = pd.DataFrame(np.random.randint(1, 100, size=(4, 3)), index=index, columns=['Value1', 'Value2', 'Value3'])\n",
    "print(\"MultiIndex DataFrame:\")\n",
    "print(df)\n",
    "\n",
    "# Basic indexing and slicing operations\n",
    "print(\"Indexing at Category 'A':\")\n",
    "print(df.loc['A'])\n",
    "\n",
    "print(\"Slicing at Category 'B' and SubCategory 'two':\")\n",
    "print(df.loc[('B', 'two')])"
   ]
  },
  {
   "cell_type": "markdown",
   "metadata": {},
   "source": [
    "2. Create a Pandas DataFrame with MultiIndex consisting of 'Category' and 'SubCategory'. Fill the DataFrame with random data and compute the sum of values for each 'Category' and 'SubCategory'."
   ]
  },
  {
   "cell_type": "code",
   "execution_count": 7,
   "metadata": {},
   "outputs": [
    {
     "name": "stdout",
     "output_type": "stream",
     "text": [
      "MultiIndex DataFrame:\n",
      "                      Value1  Value2  Value3\n",
      "Category SubCategory                        \n",
      "A        one              11      49      59\n",
      "         two              68      94      16\n",
      "B        one               3      45      51\n",
      "         two              51      55      68\n",
      "C        one              10      33      44\n",
      "         two              97      12      39\n",
      "Sum of values:\n",
      "                      Value1  Value2  Value3\n",
      "Category SubCategory                        \n",
      "A        one              11      49      59\n",
      "         two              68      94      16\n",
      "B        one               3      45      51\n",
      "         two              51      55      68\n",
      "C        one              10      33      44\n",
      "         two              97      12      39\n"
     ]
    }
   ],
   "source": [
    "# Create a Pandas DataFrame with MultiIndex consisting of 'Category' and 'SubCategory'\n",
    "arrays = [['A', 'A', 'B', 'B', 'C', 'C'], ['one', 'two', 'one', 'two', 'one', 'two']]\n",
    "index = pd.MultiIndex.from_arrays(arrays, names=('Category', 'SubCategory'))\n",
    "df = pd.DataFrame(np.random.randint(1, 100, size=(6, 3)), index=index, columns=['Value1', 'Value2', 'Value3'])\n",
    "print(\"MultiIndex DataFrame:\")\n",
    "print(df)\n",
    "\n",
    "# Compute the sum of values for each 'Category' and 'SubCategory'\n",
    "sum_values = df.groupby(['Category', 'SubCategory']).sum()\n",
    "print(\"Sum of values:\")\n",
    "print(sum_values)"
   ]
  },
  {
   "cell_type": "markdown",
   "metadata": {},
   "source": [
    "### Assignment 8: Pivot Tables\n",
    "\n",
    "1. Create a Pandas DataFrame with columns 'Date', 'Category', and 'Value'. Create a pivot table to compute the sum of 'Value' for each 'Category' by 'Date'."
   ]
  },
  {
   "cell_type": "code",
   "execution_count": 8,
   "metadata": {},
   "outputs": [
    {
     "name": "stdout",
     "output_type": "stream",
     "text": [
      "Original DataFrame:\n",
      "         Date Category  Value\n",
      "0  2022-01-06        C      6\n",
      "1  2022-01-05        A     16\n",
      "2  2022-01-09        C     21\n",
      "3  2022-01-05        A     90\n",
      "4  2022-01-09        B     97\n",
      "5  2022-01-08        B     30\n",
      "6  2022-01-01        C     59\n",
      "7  2022-01-10        B     63\n",
      "8  2022-01-02        B     57\n",
      "9  2022-01-02        A     17\n",
      "10 2022-01-04        B     99\n",
      "11 2022-01-05        B     45\n",
      "12 2022-01-08        A     10\n",
      "13 2022-01-10        B     86\n",
      "14 2022-01-04        B     15\n",
      "15 2022-01-06        A     78\n",
      "16 2022-01-05        C     81\n",
      "17 2022-01-04        B     14\n",
      "18 2022-01-08        C     48\n",
      "19 2022-01-04        A     49\n",
      "Pivot Table:\n",
      "Category        A      B     C\n",
      "Date                          \n",
      "2022-01-01    NaN    NaN  59.0\n",
      "2022-01-02   17.0   57.0   NaN\n",
      "2022-01-04   49.0  128.0   NaN\n",
      "2022-01-05  106.0   45.0  81.0\n",
      "2022-01-06   78.0    NaN   6.0\n",
      "2022-01-08   10.0   30.0  48.0\n",
      "2022-01-09    NaN   97.0  21.0\n",
      "2022-01-10    NaN  149.0   NaN\n"
     ]
    }
   ],
   "source": [
    "# Create a Pandas DataFrame with columns 'Date', 'Category', and 'Value'\n",
    "date_rng = pd.date_range(start='2022-01-01', end='2022-01-10', freq='D')\n",
    "df = pd.DataFrame({'Date': np.random.choice(date_rng, size=20), 'Category': np.random.choice(['A', 'B', 'C'], size=20), 'Value': np.random.randint(1, 100, size=20)})\n",
    "print(\"Original DataFrame:\")\n",
    "print(df)\n",
    "\n",
    "# Create a pivot table to compute the sum of 'Value' for each 'Category' by 'Date'\n",
    "pivot_table = df.pivot_table(values='Value', index='Date', columns='Category', aggfunc='sum')\n",
    "print(\"Pivot Table:\")\n",
    "print(pivot_table)"
   ]
  },
  {
   "cell_type": "markdown",
   "metadata": {},
   "source": [
    "2. Create a Pandas DataFrame with columns 'Year', 'Quarter', and 'Revenue'. Create a pivot table to compute the mean 'Revenue' for each 'Quarter' by 'Year'."
   ]
  },
  {
   "cell_type": "code",
   "execution_count": null,
   "metadata": {},
   "outputs": [],
   "source": [
    "# Create a Pandas DataFrame with columns 'Year', 'Quarter', and 'Revenue'\n",
    "df = pd.DataFrame({'Year': np.random.choice([2020, 2021, 2022], size=12), 'Quarter': np.random.choice(['Q1', 'Q2', 'Q3', 'Q4'], size=12), 'Revenue': np.random.randint(1, 1000, size=12)})\n",
    "print(\"Original DataFrame:\")\n",
    "print(df)\n",
    "\n",
    "# Create a pivot table to compute the mean 'Revenue' for each 'Quarter' by 'Year'\n",
    "pivot_table = df.pivot_table(values='Revenue', index='Year', columns='Quarter', aggfunc='mean')\n",
    "print(\"Pivot Table:\")\n",
    "print(pivot_table)"
   ]
  },
  {
   "cell_type": "markdown",
   "metadata": {},
   "source": [
    "### Assignment 9: Applying Functions\n",
    "\n",
    "1. Create a Pandas DataFrame with 3 columns and 5 rows filled with random integers. Apply a function that doubles the values of the DataFrame."
   ]
  },
  {
   "cell_type": "code",
   "execution_count": null,
   "metadata": {},
   "outputs": [],
   "source": [
    "# Create a Pandas DataFrame with 3 columns and 5 rows filled with random integers\n",
    "df = pd.DataFrame(np.random.randint(1, 100, size=(5, 3)), columns=['A', 'B', 'C'])\n",
    "print(\"Original DataFrame:\")\n",
    "print(df)\n",
    "\n",
    "# Apply a function that doubles the values of the DataFrame\n",
    "df_doubled = df.applymap(lambda x: x * 2)\n",
    "print(\"Doubled DataFrame:\")\n",
    "print(df_doubled)"
   ]
  },
  {
   "cell_type": "markdown",
   "metadata": {},
   "source": [
    "2. Create a Pandas DataFrame with 3 columns and 6 rows filled with random integers. Apply a lambda function to create a new column that is the sum of the existing columns."
   ]
  },
  {
   "cell_type": "code",
   "execution_count": null,
   "metadata": {},
   "outputs": [],
   "source": [
    "# Create a Pandas DataFrame with 3 columns and 6 rows filled with random integers\n",
    "df = pd.DataFrame(np.random.randint(1, 100, size=(6, 3)), columns=['A', 'B', 'C'])\n",
    "print(\"Original DataFrame:\")\n",
    "print(df)\n",
    "\n",
    "# Apply a lambda function to create a new column that is the sum of the existing columns\n",
    "df['Sum'] = df.apply(lambda row: row.sum(), axis=1)\n",
    "print(\"DataFrame with Sum column:\")\n",
    "print(df)"
   ]
  },
  {
   "cell_type": "markdown",
   "metadata": {},
   "source": [
    "### Assignment 10: Working with Text Data\n",
    "\n",
    "1. Create a Pandas Series with 5 random text strings. Convert all the strings to uppercase."
   ]
  },
  {
   "cell_type": "code",
   "execution_count": null,
   "metadata": {},
   "outputs": [],
   "source": [
    "# Create a Pandas Series with 5 random text strings\n",
    "text_data = pd.Series(['apple', 'banana', 'cherry', 'date', 'elderberry'])\n",
    "print(\"Original Series:\")\n",
    "print(text_data)\n",
    "\n",
    "# Convert all the strings to uppercase\n",
    "uppercase_data = text_data.str.upper()\n",
    "print(\"Uppercase Series:\")\n",
    "print(uppercase_data)"
   ]
  },
  {
   "cell_type": "markdown",
   "metadata": {},
   "source": [
    "2. Create a Pandas Series with 5 random text strings. Extract the first three characters of each string."
   ]
  },
  {
   "cell_type": "code",
   "execution_count": null,
   "metadata": {},
   "outputs": [],
   "source": [
    "# Create a Pandas Series with 5 random text strings\n",
    "text_data = pd.Series(['apple', 'banana', 'cherry', 'date', 'elderberry'])\n",
    "print(\"Original Series:\")\n",
    "print(text_data)\n",
    "\n",
    "# Extract the first three characters of each string\n",
    "first_three_chars = text_data.str[:3]\n",
    "print(\"First three characters:\")\n",
    "print(first_three_chars)"
   ]
  }
 ],
 "metadata": {
  "kernelspec": {
   "display_name": "venv",
   "language": "python",
   "name": "python3"
  },
  "language_info": {
   "codemirror_mode": {
    "name": "ipython",
    "version": 3
   },
   "file_extension": ".py",
   "mimetype": "text/x-python",
   "name": "python",
   "nbconvert_exporter": "python",
   "pygments_lexer": "ipython3",
   "version": "3.10.0"
  }
 },
 "nbformat": 4,
 "nbformat_minor": 5
}
