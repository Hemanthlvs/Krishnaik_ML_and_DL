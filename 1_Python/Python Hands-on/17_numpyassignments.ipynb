{
 "cells": [
  {
   "cell_type": "markdown",
   "metadata": {},
   "source": [
    "# Module: NumPy Assignments\n",
    "## Lesson: NumPy\n",
    "### Assignment 1: Array Creation and Manipulation\n",
    "\n",
    "1. Create a NumPy array of shape (5, 5) filled with random integers between 1 and 20. Replace all the elements in the third column with 1."
   ]
  },
  {
   "cell_type": "code",
   "execution_count": 1,
   "metadata": {},
   "outputs": [],
   "source": [
    "import numpy as np"
   ]
  },
  {
   "cell_type": "code",
   "execution_count": 33,
   "id": "b0011b40",
   "metadata": {},
   "outputs": [
    {
     "data": {
      "text/plain": [
       "array([[16, 12,  5, 18, 13],\n",
       "       [18, 17,  3,  4,  6],\n",
       "       [ 9,  4,  9, 16, 18],\n",
       "       [12,  7,  5, 12,  5],\n",
       "       [17,  6, 19,  4,  7]], dtype=int32)"
      ]
     },
     "execution_count": 33,
     "metadata": {},
     "output_type": "execute_result"
    }
   ],
   "source": [
    "np_array = np.random.randint(1,20,size=(5,5))\n",
    "np_array"
   ]
  },
  {
   "cell_type": "code",
   "execution_count": 61,
   "id": "068e2627",
   "metadata": {},
   "outputs": [
    {
     "data": {
      "text/plain": [
       "array([[16, 12,  1, 18, 13],\n",
       "       [18, 17,  1,  4,  6],\n",
       "       [ 9,  4,  1, 16, 18],\n",
       "       [12,  7,  1, 12,  5],\n",
       "       [17,  6,  1,  4,  7]], dtype=int32)"
      ]
     },
     "execution_count": 61,
     "metadata": {},
     "output_type": "execute_result"
    }
   ],
   "source": [
    "np_array[:,2] = 1\n",
    "np_array"
   ]
  },
  {
   "cell_type": "code",
   "execution_count": 31,
   "id": "a8d1b308",
   "metadata": {},
   "outputs": [],
   "source": [
    "# for n in range(0,5):\n",
    "#     np_array[n][2] = 1\n",
    "# np_array"
   ]
  },
  {
   "cell_type": "markdown",
   "id": "8af3abad",
   "metadata": {},
   "source": [
    "2. Create a NumPy array of shape (4, 4) with values from 1 to 16. Replace the diagonal elements with 0."
   ]
  },
  {
   "cell_type": "code",
   "execution_count": 66,
   "id": "724e19ac",
   "metadata": {},
   "outputs": [
    {
     "data": {
      "text/plain": [
       "array([[ 4,  9, 13, 10],\n",
       "       [ 2,  8, 15,  5],\n",
       "       [ 7, 10,  1,  2],\n",
       "       [ 1, 14,  8,  5]], dtype=int32)"
      ]
     },
     "execution_count": 66,
     "metadata": {},
     "output_type": "execute_result"
    }
   ],
   "source": [
    "np_array = np.random.randint(1,16,size=(4,4))\n",
    "np_array"
   ]
  },
  {
   "cell_type": "code",
   "execution_count": 74,
   "id": "0c6ce10d",
   "metadata": {},
   "outputs": [
    {
     "data": {
      "text/plain": [
       "array([[ 0,  9, 13, 10],\n",
       "       [ 2,  0, 15,  5],\n",
       "       [ 7, 10,  0,  2],\n",
       "       [ 1, 14,  8,  0]], dtype=int32)"
      ]
     },
     "execution_count": 74,
     "metadata": {},
     "output_type": "execute_result"
    }
   ],
   "source": [
    "np.fill_diagonal(np_array,0)\n",
    "np_array"
   ]
  },
  {
   "cell_type": "markdown",
   "id": "715b58bf",
   "metadata": {},
   "source": [
    "### Assignment 2: Array Indexing and Slicing\n",
    "\n",
    "1. Create a NumPy array of shape (6, 6) with values from 1 to 36. Extract the sub-array consisting of the 3rd to 5th rows and 2nd to 4th columns.\n"
   ]
  },
  {
   "cell_type": "code",
   "execution_count": 83,
   "id": "0e354b71",
   "metadata": {},
   "outputs": [
    {
     "name": "stdout",
     "output_type": "stream",
     "text": [
      "[[36 21 21  9 22 28]\n",
      " [20 31  8 23 19 18]\n",
      " [14 36 36  2 28 25]\n",
      " [30  7 32  8 26  5]\n",
      " [ 1  1 15  1 30 27]\n",
      " [22  6 12  6 27 29]]\n",
      "[[36 36  2]\n",
      " [ 7 32  8]\n",
      " [ 1 15  1]]\n"
     ]
    }
   ],
   "source": [
    "np_array = np.random.randint(1,37,size=(6,6))\n",
    "print(np_array)\n",
    "print(np_array[2:5,1:4])"
   ]
  },
  {
   "cell_type": "markdown",
   "id": "0f5f80ad",
   "metadata": {},
   "source": [
    "2. Create a NumPy array of shape (5, 5) with random integers. Extract the elements on the border."
   ]
  },
  {
   "cell_type": "code",
   "execution_count": 88,
   "id": "d5377da3",
   "metadata": {},
   "outputs": [
    {
     "name": "stdout",
     "output_type": "stream",
     "text": [
      "[[10 19  4  5 12]\n",
      " [ 5  9  6 13 16]\n",
      " [ 3 12  2 15  8]\n",
      " [ 7 16  4  3 10]\n",
      " [ 2  9 11 12  4]]\n"
     ]
    }
   ],
   "source": [
    "np_array = np.random.randint(1,20,size=(5,5))\n",
    "print(np_array)"
   ]
  },
  {
   "cell_type": "code",
   "execution_count": 110,
   "id": "6217fde9",
   "metadata": {},
   "outputs": [
    {
     "data": {
      "text/plain": [
       "array([10, 19,  4,  5, 12, 16,  8, 10,  2,  9, 11, 12,  4,  5,  3,  7],\n",
       "      dtype=int32)"
      ]
     },
     "execution_count": 110,
     "metadata": {},
     "output_type": "execute_result"
    }
   ],
   "source": [
    "np.concatenate((np_array[0,:],np_array[1:-1,-1],np_array[-1,:],np_array[1:-1:,0]))"
   ]
  },
  {
   "cell_type": "markdown",
   "id": "d7a90b28",
   "metadata": {},
   "source": [
    "### Assignment 3: Array Operations\n",
    "\n",
    "1. Create two NumPy arrays of shape (3, 4) filled with random integers. Perform element-wise addition, subtraction, multiplication, and division."
   ]
  },
  {
   "cell_type": "code",
   "execution_count": 116,
   "id": "d4984bbf",
   "metadata": {},
   "outputs": [
    {
     "name": "stdout",
     "output_type": "stream",
     "text": [
      "[[19  9 19  4]\n",
      " [14 16  3  9]\n",
      " [ 7  6 13 10]]\n",
      "[[19 11  7 10]\n",
      " [ 5  5  4  9]\n",
      " [19  6 19 13]]\n",
      "Addition\n",
      "[[38 20 26 14]\n",
      " [19 21  7 18]\n",
      " [26 12 32 23]]\n",
      "Subtraction\n",
      "[[  0  -2  12  -6]\n",
      " [  9  11  -1   0]\n",
      " [-12   0  -6  -3]]\n",
      "Multiplication\n",
      "[[361  99 133  40]\n",
      " [ 70  80  12  81]\n",
      " [133  36 247 130]]\n",
      "Division\n",
      "[[1.         0.81818182 2.71428571 0.4       ]\n",
      " [2.8        3.2        0.75       1.        ]\n",
      " [0.36842105 1.         0.68421053 0.76923077]]\n"
     ]
    }
   ],
   "source": [
    "np_array_1 = np.random.randint(1,20,size=(3,4))\n",
    "np_array_2 = np.random.randint(1,20,size=(3,4))\n",
    "print(np_array_1)\n",
    "print(np_array_2)\n",
    "print(\"Addition\")\n",
    "print(np_array_1 + np_array_2)\n",
    "print(\"Subtraction\")\n",
    "print(np_array_1 - np_array_2)\n",
    "print(\"Multiplication\")\n",
    "print(np_array_1 * np_array_2)\n",
    "print(\"Division\")\n",
    "print(np_array_1 / np_array_2)\n"
   ]
  },
  {
   "cell_type": "markdown",
   "id": "29b39ff9",
   "metadata": {},
   "source": [
    "2. Create a NumPy array of shape (4, 4) with values from 1 to 16. Compute the row-wise and column-wise sum."
   ]
  },
  {
   "cell_type": "code",
   "execution_count": 121,
   "id": "7cc67b25",
   "metadata": {},
   "outputs": [
    {
     "name": "stdout",
     "output_type": "stream",
     "text": [
      "[[10  7 13 13]\n",
      " [13 11 14  6]\n",
      " [ 2  1 11  6]\n",
      " [ 6 10 15 13]]\n",
      "[31 29 53 38]\n",
      "[43 44 20 44]\n"
     ]
    }
   ],
   "source": [
    "np_array = np.random.randint(1,16,size=(4,4))\n",
    "print(np_array)\n",
    "print(np_array.sum(axis=0))\n",
    "print(np_array.sum(axis=1))"
   ]
  },
  {
   "cell_type": "markdown",
   "id": "f34e1037",
   "metadata": {},
   "source": [
    "### Assignment 4: Statistical Operations\n",
    "\n",
    "1. Create a NumPy array of shape (5, 5) filled with random integers. Compute the mean, median, standard deviation, and variance of the array.\n"
   ]
  },
  {
   "cell_type": "code",
   "execution_count": 126,
   "id": "1e94652d",
   "metadata": {},
   "outputs": [
    {
     "name": "stdout",
     "output_type": "stream",
     "text": [
      "[[ 2 18 12  7 13]\n",
      " [17  3 17  9 12]\n",
      " [ 7 19 16 19 15]\n",
      " [10  1 14 19 18]\n",
      " [ 3  4 14  8  4]]\n",
      "11.24\n",
      "12.0\n",
      "5.928102563215315\n",
      "35.142399999999995\n"
     ]
    }
   ],
   "source": [
    "np_array = np.random.randint(1,20,size=(5,5))\n",
    "print(np_array)\n",
    "print(np.mean(np_array))\n",
    "print(np.median(np_array))\n",
    "print(np.std(np_array))\n",
    "print(np.var(np_array))"
   ]
  },
  {
   "cell_type": "markdown",
   "id": "0b08f3d9",
   "metadata": {},
   "source": [
    "2. Create a NumPy array of shape (3, 3) with values from 1 to 9. Normalize the array (i.e., scale the values to have a mean of 0 and a standard deviation of 1)."
   ]
  },
  {
   "cell_type": "code",
   "execution_count": 128,
   "id": "fc97c958",
   "metadata": {},
   "outputs": [
    {
     "name": "stdout",
     "output_type": "stream",
     "text": [
      "[[1 7 3]\n",
      " [7 7 4]\n",
      " [8 4 8]]\n",
      "[[-1.88144174  0.65850461 -1.03479296]\n",
      " [ 0.65850461  0.65850461 -0.61146856]\n",
      " [ 1.081829   -0.61146856  1.081829  ]]\n"
     ]
    }
   ],
   "source": [
    "np_array = np.random.randint(1,10,size=(3,3))\n",
    "print(np_array)\n",
    "print((np_array-np.mean(np_array))/np.std(np_array))"
   ]
  },
  {
   "cell_type": "markdown",
   "id": "edce2b7a",
   "metadata": {},
   "source": [
    "### Assignment 5: Broadcasting\n",
    "\n",
    "1. Create a NumPy array of shape (3, 3) filled with random integers. Add a 1D array of shape (3,) to each row of the 2D array using broadcasting.\n"
   ]
  },
  {
   "cell_type": "markdown",
   "id": "a7913091",
   "metadata": {},
   "source": []
  },
  {
   "cell_type": "code",
   "execution_count": 139,
   "id": "c7f7dac1",
   "metadata": {},
   "outputs": [
    {
     "name": "stdout",
     "output_type": "stream",
     "text": [
      "[[5 9 6]\n",
      " [8 8 3]\n",
      " [3 8 5]]\n",
      "[2 8 7]\n",
      "[[ 7 17 13]\n",
      " [10 16 10]\n",
      " [ 5 16 12]]\n"
     ]
    }
   ],
   "source": [
    "np_array_1 = np.random.randint(1,10,size=(3,3))\n",
    "np_array_2 = np.random.randint(1,10,size=(3,))\n",
    "print(np_array_1)\n",
    "print(np_array_2)\n",
    "\n",
    "print(np_array_1 + np_array_2)"
   ]
  },
  {
   "cell_type": "markdown",
   "id": "71beb4d0",
   "metadata": {},
   "source": [
    "2. Create a NumPy array of shape (4, 4) filled with random integers. Subtract a 1D array of shape (4,) from each column of the 2D array using broadcasting."
   ]
  },
  {
   "cell_type": "code",
   "execution_count": 147,
   "id": "0a8c9a2a",
   "metadata": {},
   "outputs": [
    {
     "name": "stdout",
     "output_type": "stream",
     "text": [
      "[[3 2 3 8]\n",
      " [8 8 8 4]\n",
      " [6 6 6 3]\n",
      " [1 8 6 4]]\n",
      "[1 1 7 8]\n",
      "[[1]\n",
      " [1]\n",
      " [7]\n",
      " [8]]\n",
      "[[ 2  1  2  7]\n",
      " [ 7  7  7  3]\n",
      " [-1 -1 -1 -4]\n",
      " [-7  0 -2 -4]]\n"
     ]
    }
   ],
   "source": [
    "np_array_1 = np.random.randint(1,10,size=(4,4))\n",
    "np_array_2 = np.random.randint(1,10,size=(4,))\n",
    "print(np_array_1)\n",
    "print(np_array_2)\n",
    "print(np_array_2[:, np.newaxis])\n",
    "print(np_array_1-np_array_2[:, np.newaxis])"
   ]
  },
  {
   "cell_type": "markdown",
   "id": "87e14325",
   "metadata": {},
   "source": [
    "### Assignment 6: Linear Algebra\n",
    "\n",
    "1. Create a NumPy array of shape (3, 3) representing a matrix. Compute its determinant, inverse, and eigenvalues."
   ]
  },
  {
   "cell_type": "code",
   "execution_count": 154,
   "id": "fbe01fb6",
   "metadata": {},
   "outputs": [
    {
     "name": "stdout",
     "output_type": "stream",
     "text": [
      "[[1 6 2]\n",
      " [6 7 8]\n",
      " [9 2 9]]\n",
      "deteminant : 53.00000000000001\n",
      "Inverse : [[ 0.88679245 -0.94339623  0.64150943]\n",
      " [ 0.33962264 -0.16981132  0.0754717 ]\n",
      " [-0.96226415  0.98113208 -0.54716981]]\n",
      "Eigenvalues : [16.65064779+0.j         0.17467611+1.7755415j  0.17467611-1.7755415j]\n"
     ]
    }
   ],
   "source": [
    "np_array = np.random.randint(1,10,size=(3,3))\n",
    "print(np_array)\n",
    "print(f\"deteminant : {np.linalg.det(np_array)}\")\n",
    "\n",
    "print(f\"Inverse : {np.linalg.inv(np_array)}\")\n",
    "\n",
    "print(f\"Eigenvalues : {np.linalg.eigvals(np_array)}\")\n",
    "\n"
   ]
  },
  {
   "cell_type": "markdown",
   "id": "85ad5662",
   "metadata": {},
   "source": [
    "2. Create two NumPy arrays of shape (2, 3) and (3, 2). Perform matrix multiplication on these arrays."
   ]
  },
  {
   "cell_type": "code",
   "execution_count": 158,
   "id": "5522e8d7",
   "metadata": {},
   "outputs": [
    {
     "name": "stdout",
     "output_type": "stream",
     "text": [
      "[[5 5 4]\n",
      " [8 8 7]]\n",
      "[[1 6]\n",
      " [9 9]\n",
      " [6 2]]\n",
      "[[ 74  83]\n",
      " [122 134]]\n"
     ]
    }
   ],
   "source": [
    "np_array_1 = np.random.randint(1,10,size=(2,3))\n",
    "np_array_2 = np.random.randint(1,10,size=(3,2))\n",
    "\n",
    "print(np_array_1)\n",
    "print(np_array_2)\n",
    "print(np.dot(np_array_1,np_array_2))\n",
    "\n"
   ]
  },
  {
   "cell_type": "markdown",
   "id": "32a57cc2",
   "metadata": {},
   "source": [
    "### Assignment 7: Advanced Array Manipulation\n",
    "\n",
    "1. Create a NumPy array of shape (3, 3) with values from 1 to 9. Reshape the array to shape (1, 9) and then to shape (9, 1)."
   ]
  },
  {
   "cell_type": "code",
   "execution_count": 163,
   "id": "0c6bdbef",
   "metadata": {},
   "outputs": [
    {
     "name": "stdout",
     "output_type": "stream",
     "text": [
      "[[4 2 4]\n",
      " [8 8 6]\n",
      " [3 6 8]]\n",
      "[[4 2 4 8 8 6 3 6 8]]\n",
      "[[4]\n",
      " [2]\n",
      " [4]\n",
      " [8]\n",
      " [8]\n",
      " [6]\n",
      " [3]\n",
      " [6]\n",
      " [8]]\n"
     ]
    }
   ],
   "source": [
    "np_array = np.random.randint(1,9,size=(3,3))\n",
    "print(np_array)\n",
    "np_array_1 = np_array.reshape((1,9))\n",
    "print(np_array_1)\n",
    "np_array_2 = np_array.reshape((9,1))\n",
    "print(np_array_2)"
   ]
  },
  {
   "cell_type": "markdown",
   "id": "7d073718",
   "metadata": {},
   "source": []
  },
  {
   "cell_type": "markdown",
   "id": "afe25ce1",
   "metadata": {},
   "source": [
    "2. Create a NumPy array of shape (5, 5) filled with random integers. Flatten the array and then reshape it back to (5, 5)."
   ]
  },
  {
   "cell_type": "code",
   "execution_count": 176,
   "id": "7fe7b9ec",
   "metadata": {},
   "outputs": [
    {
     "name": "stdout",
     "output_type": "stream",
     "text": [
      "[[ 8  4  1  9  8]\n",
      " [ 9  1  9 10  9]\n",
      " [ 6  1  7  3  4]\n",
      " [ 6  8  6  2  6]\n",
      " [ 4  9  5  2  2]]\n",
      "[ 8  4  1  9  8  9  1  9 10  9  6  1  7  3  4  6  8  6  2  6  4  9  5  2\n",
      "  2]\n",
      "[[ 8  4  1  9  8]\n",
      " [ 9  1  9 10  9]\n",
      " [ 6  1  7  3  4]\n",
      " [ 6  8  6  2  6]\n",
      " [ 4  9  5  2  2]]\n"
     ]
    }
   ],
   "source": [
    "np_array = np.random.randint(1,11,size=(5,5))\n",
    "print(np_array)\n",
    "np_array_flatten = np_array.flatten()\n",
    "print(np_array_flatten)\n",
    "np_array_final = np_array_flatten.reshape(5,5)\n",
    "print(np_array_final)"
   ]
  },
  {
   "cell_type": "markdown",
   "id": "65b5c4ed",
   "metadata": {},
   "source": [
    "### Assignment 8: Fancy Indexing and Boolean Indexing\n",
    "\n",
    "1. Create a NumPy array of shape (5, 5) filled with random integers. Use fancy indexing to extract the elements at the corners of the array."
   ]
  },
  {
   "cell_type": "code",
   "execution_count": null,
   "id": "863fefa6",
   "metadata": {},
   "outputs": [],
   "source": []
  },
  {
   "cell_type": "markdown",
   "id": "c0e69240",
   "metadata": {},
   "source": [
    "2. Create a NumPy array of shape (4, 4) filled with random integers. Use boolean indexing to set all elements greater than 10 to 10."
   ]
  },
  {
   "cell_type": "code",
   "execution_count": 186,
   "id": "88e69ab1",
   "metadata": {},
   "outputs": [
    {
     "name": "stdout",
     "output_type": "stream",
     "text": [
      "[[11 22 10 15]\n",
      " [17 28 12 26]\n",
      " [ 4  8 23 25]\n",
      " [26 20 27  4]]\n",
      "[[10 10 10 10]\n",
      " [10 10 10 10]\n",
      " [ 4  8 10 10]\n",
      " [10 10 10  4]]\n"
     ]
    }
   ],
   "source": [
    "np_array = np.random.randint(1,30,size=(4,4))\n",
    "print(np_array)\n",
    "np_array[np_array>10] = 10\n",
    "print(np_array)"
   ]
  },
  {
   "cell_type": "markdown",
   "id": "cfd2b5bb",
   "metadata": {},
   "source": [
    "### Assignment 9: Structured Arrays\n",
    "\n",
    "1. Create a structured array with fields 'name' (string), 'age' (integer), and 'weight' (float). Add some data and sort the array by age."
   ]
  },
  {
   "cell_type": "code",
   "execution_count": 202,
   "id": "c24b72b1",
   "metadata": {},
   "outputs": [
    {
     "name": "stdout",
     "output_type": "stream",
     "text": [
      "[('Hemanth', 30, 70.3) ('Ramu', 29, 60.8) ('Somu', 33, 88.3)]\n",
      "[('Ramu', 29, 60.8) ('Hemanth', 30, 70.3) ('Somu', 33, 88.3)]\n",
      "[('Ramu', 29, 60.8) ('Hemanth', 30, 70.3) ('Somu', 33, 88.3)]\n"
     ]
    }
   ],
   "source": [
    "schema = [('name','U10'),('age',int),('weight',float)]\n",
    "data = np.array([('Hemanth',30,70.3),('Ramu',29,60.8),('Somu',33,88.3)],dtype = schema)\n",
    "print(data)\n",
    "sorted_1 = np.sort(data, order = 'age')\n",
    "print(sorted_1)\n",
    "\n",
    "data.sort(order = 'age')\n",
    "print(data)"
   ]
  },
  {
   "cell_type": "markdown",
   "id": "2ed0b1ad",
   "metadata": {},
   "source": [
    "2. Create a structured array with fields 'x' and 'y' (both integers). Add some data and compute the Euclidean distance between each pair of points."
   ]
  },
  {
   "cell_type": "code",
   "execution_count": 17,
   "id": "9d436300",
   "metadata": {},
   "outputs": [
    {
     "name": "stdout",
     "output_type": "stream",
     "text": [
      "[( 1, 2) ( 3, 4) ( 5, 6) (19, 4)]\n",
      "[[ 1]\n",
      " [ 3]\n",
      " [ 5]\n",
      " [19]]\n",
      "[ 1  3  5 19]\n",
      "[[ 0.          2.82842712  5.65685425 18.11077028]\n",
      " [ 2.82842712  0.          2.82842712 16.        ]\n",
      " [ 5.65685425  2.82842712  0.         14.14213562]\n",
      " [18.11077028 16.         14.14213562  0.        ]]\n"
     ]
    }
   ],
   "source": [
    "schema = [('x','i4'),('y','i4')]\n",
    "np_array = np.array([(1,2),(3,4),(5,6),(19,4)],dtype=schema)\n",
    "print(np_array)\n",
    "\n",
    "print(np_array['x'][:,np.newaxis])\n",
    "print(np_array['x'])\n",
    "\n",
    "euclidean = np.sqrt((np_array['x'][:,np.newaxis] - np_array['x'])**2 + (np_array['y'][:,np.newaxis] - np_array['y'])**2)\n",
    "print(euclidean)\n"
   ]
  },
  {
   "cell_type": "markdown",
   "id": "8dd6d9cf",
   "metadata": {},
   "source": [
    "### Assignment 10: Masked Arrays\n",
    "\n",
    "1. Create a masked array of shape (4, 4) with random integers and mask the elements greater than 10. Compute the sum of the unmasked elements."
   ]
  },
  {
   "cell_type": "code",
   "execution_count": 23,
   "id": "4bc5f872",
   "metadata": {},
   "outputs": [
    {
     "name": "stdout",
     "output_type": "stream",
     "text": [
      "[[12 15  8  2]\n",
      " [ 5  8 17 15]\n",
      " [14 14  6 16]\n",
      " [13 17 17 18]]\n",
      "[[-- -- 8 2]\n",
      " [5 8 -- --]\n",
      " [-- -- 6 --]\n",
      " [-- -- -- --]]\n",
      "29\n"
     ]
    }
   ],
   "source": [
    "array = np.random.randint(1,20,size=(4,4))\n",
    "print(array)\n",
    "\n",
    "masked_array = np.ma.masked_greater(array, 10)\n",
    "print(masked_array)\n",
    "\n",
    "sum_array = masked_array.sum()\n",
    "print(sum_array)"
   ]
  },
  {
   "cell_type": "markdown",
   "id": "a83cbc3c",
   "metadata": {},
   "source": [
    "2. Create a masked array of shape (3, 3) with random integers and mask the diagonal elements. Replace the masked elements with the mean of the unmasked elements."
   ]
  },
  {
   "cell_type": "code",
   "execution_count": 24,
   "id": "a40dfc31",
   "metadata": {},
   "outputs": [
    {
     "name": "stdout",
     "output_type": "stream",
     "text": [
      "[[4 6 1]\n",
      " [7 4 6]\n",
      " [7 2 3]]\n"
     ]
    }
   ],
   "source": []
  }
 ],
 "metadata": {
  "kernelspec": {
   "display_name": "venv",
   "language": "python",
   "name": "python3"
  },
  "language_info": {
   "codemirror_mode": {
    "name": "ipython",
    "version": 3
   },
   "file_extension": ".py",
   "mimetype": "text/x-python",
   "name": "python",
   "nbconvert_exporter": "python",
   "pygments_lexer": "ipython3",
   "version": "3.10.0"
  }
 },
 "nbformat": 4,
 "nbformat_minor": 5
}
