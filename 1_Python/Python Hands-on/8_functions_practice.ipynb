{
 "cells": [
  {
   "cell_type": "markdown",
   "metadata": {},
   "source": [
    "### create a function that takes celsius value and convert to fahrenheit"
   ]
  },
  {
   "cell_type": "code",
   "execution_count": 3,
   "metadata": {},
   "outputs": [
    {
     "name": "stdout",
     "output_type": "stream",
     "text": [
      "77.0\n",
      "32.0\n"
     ]
    }
   ],
   "source": [
    "def celsius_to_fahrenheit(t):\n",
    "    F = t*(9/5)+32\n",
    "    return F\n",
    "\n",
    "print(celsius_to_fahrenheit(25))\n",
    "print(celsius_to_fahrenheit(0))"
   ]
  },
  {
   "cell_type": "markdown",
   "metadata": {},
   "source": [
    "### area of a rectangle"
   ]
  },
  {
   "cell_type": "code",
   "execution_count": 7,
   "metadata": {},
   "outputs": [
    {
     "name": "stdout",
     "output_type": "stream",
     "text": [
      "15\n",
      "18.0\n"
     ]
    }
   ],
   "source": [
    "def area_of_rectangle(l,b):\n",
    "    a = l*b\n",
    "    return a\n",
    "\n",
    "print(area_of_rectangle(5,3))\n",
    "print(area_of_rectangle(7.5,2.4))"
   ]
  },
  {
   "cell_type": "markdown",
   "metadata": {},
   "source": [
    "### Distance covered by vehicle"
   ]
  },
  {
   "cell_type": "code",
   "execution_count": 9,
   "metadata": {},
   "outputs": [
    {
     "name": "stdout",
     "output_type": "stream",
     "text": [
      "120\n",
      "75.75\n"
     ]
    }
   ],
   "source": [
    "def cal_distance(speed, time):\n",
    "    distance = speed*time\n",
    "    return distance\n",
    "\n",
    "print(cal_distance(60,2))\n",
    "print(cal_distance(50.5,1.5))"
   ]
  },
  {
   "cell_type": "markdown",
   "metadata": {},
   "source": [
    "### Number of rounds of lift"
   ]
  },
  {
   "cell_type": "code",
   "execution_count": 16,
   "metadata": {},
   "outputs": [
    {
     "name": "stdout",
     "output_type": "stream",
     "text": [
      "4\n",
      "2\n"
     ]
    }
   ],
   "source": [
    "import math\n",
    "\n",
    "def cal_lift_rounds(n, capacity):\n",
    "    rounds = math.ceil(n/capacity)\n",
    "    return rounds\n",
    "\n",
    "print(cal_lift_rounds(10, 3))\n",
    "print(cal_lift_rounds(7, 4))"
   ]
  },
  {
   "cell_type": "markdown",
   "metadata": {},
   "source": [
    "### Line equation"
   ]
  },
  {
   "cell_type": "code",
   "execution_count": 18,
   "metadata": {},
   "outputs": [
    {
     "name": "stdout",
     "output_type": "stream",
     "text": [
      "11\n",
      "1.0\n"
     ]
    }
   ],
   "source": [
    "def line_equation(m, x, b):\n",
    "    y = m*b+x\n",
    "    return y\n",
    "\n",
    "print(line_equation(2,3,4))\n",
    "print(line_equation(1.5,-2,2))"
   ]
  }
 ],
 "metadata": {
  "kernelspec": {
   "display_name": "venv",
   "language": "python",
   "name": "python3"
  },
  "language_info": {
   "codemirror_mode": {
    "name": "ipython",
    "version": 3
   },
   "file_extension": ".py",
   "mimetype": "text/x-python",
   "name": "python",
   "nbconvert_exporter": "python",
   "pygments_lexer": "ipython3",
   "version": "3.10.0"
  }
 },
 "nbformat": 4,
 "nbformat_minor": 2
}
