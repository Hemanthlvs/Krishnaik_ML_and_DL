{
 "cells": [
  {
   "cell_type": "markdown",
   "metadata": {},
   "source": [
    "### Sum of list elements"
   ]
  },
  {
   "cell_type": "code",
   "execution_count": 2,
   "metadata": {},
   "outputs": [
    {
     "name": "stdout",
     "output_type": "stream",
     "text": [
      "15\n",
      "18\n"
     ]
    }
   ],
   "source": [
    "def sum_list(numbers):\n",
    "    return sum(numbers)\n",
    "\n",
    "print(sum_list([1,2,3,4,5]))\n",
    "print(sum_list([10,-5,7,8-2]))\n"
   ]
  },
  {
   "cell_type": "markdown",
   "metadata": {},
   "source": [
    "### Largest element in the list"
   ]
  },
  {
   "cell_type": "code",
   "execution_count": 9,
   "metadata": {},
   "outputs": [
    {
     "name": "stdout",
     "output_type": "stream",
     "text": [
      "10\n",
      "-1\n"
     ]
    }
   ],
   "source": [
    "def find_largest(numbers):\n",
    "    return max(numbers)\n",
    "\n",
    "print(find_largest([3,8,2,10,5]))\n",
    "print(find_largest([-5,-10,-2,-1,-7]))"
   ]
  },
  {
   "cell_type": "markdown",
   "metadata": {},
   "source": [
    "### Remove duplicates in list"
   ]
  },
  {
   "cell_type": "code",
   "execution_count": 10,
   "metadata": {},
   "outputs": [
    {
     "name": "stdout",
     "output_type": "stream",
     "text": [
      "[1, 2, 3, 4, 5]\n",
      "[4, 5, 6, 7]\n"
     ]
    }
   ],
   "source": [
    "def remove_duplicates(lst):\n",
    "    return list(set(lst))\n",
    "\n",
    "print(remove_duplicates([1,2,2,3,4,4,5]))\n",
    "print(remove_duplicates([4,5,5,4,6,7]))"
   ]
  },
  {
   "cell_type": "markdown",
   "metadata": {},
   "source": [
    "### check if all elements in a list are unique"
   ]
  },
  {
   "cell_type": "code",
   "execution_count": 11,
   "metadata": {},
   "outputs": [
    {
     "name": "stdout",
     "output_type": "stream",
     "text": [
      "True\n",
      "False\n"
     ]
    }
   ],
   "source": [
    "def check_unique(lst):\n",
    "    return len(lst) == len(set(lst))\n",
    "\n",
    "print(check_unique([1,2,3,4,5]))\n",
    "print(check_unique([1,2,3,3,4,5]))"
   ]
  },
  {
   "cell_type": "markdown",
   "metadata": {},
   "source": [
    "### reversing a list without using slicing [::-1]"
   ]
  },
  {
   "cell_type": "code",
   "execution_count": 15,
   "metadata": {},
   "outputs": [
    {
     "name": "stdout",
     "output_type": "stream",
     "text": [
      "[5, 4, 3, 2, 1]\n"
     ]
    }
   ],
   "source": [
    "def reverse_list(lst):\n",
    "    lst.reverse()\n",
    "    return lst\n",
    "\n",
    "print(reverse_list([1,2,3,4,5]))"
   ]
  },
  {
   "cell_type": "markdown",
   "metadata": {},
   "source": [
    "### Number of odd and even elements in the list"
   ]
  },
  {
   "cell_type": "code",
   "execution_count": 21,
   "metadata": {},
   "outputs": [
    {
     "name": "stdout",
     "output_type": "stream",
     "text": [
      "(2, 3)\n"
     ]
    }
   ],
   "source": [
    "def count_even_odd(lst):\n",
    "    even = len([e for e in lst if e%2==0])\n",
    "    odd = len([e for e in lst if e%2!=0])\n",
    "    return (even, odd)\n",
    "\n",
    "print(count_even_odd([1,2,3,4,5]))\n"
   ]
  },
  {
   "cell_type": "markdown",
   "metadata": {},
   "source": [
    "### check if list is subset of another list"
   ]
  },
  {
   "cell_type": "code",
   "execution_count": 28,
   "metadata": {},
   "outputs": [
    {
     "name": "stdout",
     "output_type": "stream",
     "text": [
      "True\n",
      "False\n"
     ]
    }
   ],
   "source": [
    "def is_subset(lst1, lst2):\n",
    "    return set(lst1).issubset(set(lst2))\n",
    "\n",
    "print(is_subset([1,2,3],[1,2,3,4,5]))\n",
    "print(is_subset([1,6],[1,2,3,4,5]))\n",
    "\n"
   ]
  },
  {
   "cell_type": "markdown",
   "metadata": {},
   "source": [
    "### Maximum difference of a 2 consecutive elements in a list"
   ]
  },
  {
   "cell_type": "code",
   "execution_count": 53,
   "metadata": {},
   "outputs": [
    {
     "name": "stdout",
     "output_type": "stream",
     "text": [
      "7\n",
      "12\n"
     ]
    }
   ],
   "source": [
    "def max_consecutive_difference(lst):\n",
    "    max_diff = 0\n",
    "    if len(lst)<2:\n",
    "        print(\"unable to find difference since it has only one value\")\n",
    "    else:\n",
    "        for i in range(1, len(lst)):\n",
    "            diff = abs(lst[i]-lst[i-1])\n",
    "            if diff > max_diff:\n",
    "                max_diff = diff\n",
    "    return max_diff\n",
    "\n",
    "print(max_consecutive_difference([1,7,3,10,5]))\n",
    "print(max_consecutive_difference([10,11,15,3]))\n"
   ]
  },
  {
   "cell_type": "markdown",
   "metadata": {},
   "source": [
    "### Merge 2 sorted lists"
   ]
  },
  {
   "cell_type": "code",
   "execution_count": 56,
   "metadata": {},
   "outputs": [
    {
     "name": "stdout",
     "output_type": "stream",
     "text": [
      "[1, 2, 3, 4, 5, 6]\n",
      "[1, 2, 3, 4, 5, 7, 8]\n"
     ]
    }
   ],
   "source": [
    "def merge_two_sorted_lists(list1, list2):\n",
    "    merge_list = list1 + list2\n",
    "    merge_list.sort()\n",
    "    return merge_list\n",
    "\n",
    "print(merge_two_sorted_lists([1,3,5],[2,4,6]))\n",
    "print(merge_two_sorted_lists([1,4,7],[2,3,5,8]))\n"
   ]
  },
  {
   "cell_type": "markdown",
   "metadata": {},
   "source": [
    "### Rotate a list"
   ]
  },
  {
   "cell_type": "code",
   "execution_count": null,
   "metadata": {},
   "outputs": [],
   "source": [
    "\n"
   ]
  },
  {
   "cell_type": "markdown",
   "metadata": {},
   "source": [
    "### Merge 2 lists into dictionary"
   ]
  },
  {
   "cell_type": "code",
   "execution_count": 74,
   "metadata": {},
   "outputs": [
    {
     "name": "stdout",
     "output_type": "stream",
     "text": [
      "{'a': 1, 'b': 2, 'c': 3}\n",
      "{'x': 10, 'y': 20, 'z': 30}\n"
     ]
    }
   ],
   "source": [
    "def merge_lists_to_dictionary(keys, values):\n",
    "    dic = {}\n",
    "    for i in range(len(keys)):\n",
    "        dic[keys[i]] = values[i]\n",
    "    return dic\n",
    "\n",
    "\n",
    "keys1 = ['a','b','c']\n",
    "values1 = [1,2,3]\n",
    "keys2 = ['x','y','z']\n",
    "values2 = [10,20,30]\n",
    "print(merge_lists_to_dictionary(keys1,values1))\n",
    "print(merge_lists_to_dictionary(keys2,values2))"
   ]
  },
  {
   "cell_type": "markdown",
   "metadata": {},
   "source": [
    "### Merge multiple dictionaries"
   ]
  },
  {
   "cell_type": "code",
   "execution_count": 79,
   "metadata": {},
   "outputs": [
    {
     "name": "stdout",
     "output_type": "stream",
     "text": [
      "{'a': 1, 'b': 2, 'c': 3, 'd': 4, 'e': 5, 'f': 6}\n"
     ]
    }
   ],
   "source": [
    "dict1 = {'a': 1, 'b': 2}\n",
    "dict2 = {'c': 3, 'd': 4}\n",
    "dict3 = {'e': 5, 'f': 6}\n",
    "\n",
    "dict4 = {'x': 10, 'y': 20}\n",
    "dict5 = {'z': 30}\n",
    "dict6 = {'a': 40, 'b': 50}\n",
    "\n",
    "def merge_three_dictionaries(dict1,dict2,dict3):\n",
    "    dict2.update(dict3)\n",
    "    dict1.update(dict2)\n",
    "    return dict1\n",
    "\n",
    "print(merge_three_dictionaries(dict1, dict2, dict3))\n",
    "print(merge_three_dictionaries(dict4, dict5, dict6))\n",
    "\n"
   ]
  },
  {
   "cell_type": "markdown",
   "metadata": {},
   "source": [
    "### Words frequency in sentence"
   ]
  },
  {
   "cell_type": "code",
   "execution_count": 90,
   "metadata": {},
   "outputs": [
    {
     "name": "stdout",
     "output_type": "stream",
     "text": [
      "{'hello': 2, 'world': 1}\n",
      "{'the': 2, 'quick': 1, 'brown': 1, 'fox': 1, 'jumps': 1, 'over': 1, 'lazy': 1, 'dog': 1}\n"
     ]
    }
   ],
   "source": [
    "str1 = \"hello world hello\"\n",
    "str2 = \"the quick brown fox jumps over the lazy dog\"\n",
    "\n",
    "def count_word_frequency(sentence):\n",
    "    dict = {}\n",
    "    for word in sentence.split():\n",
    "        if word not in dict.keys():\n",
    "            dict[word] = 1\n",
    "        else:\n",
    "            dict[word] += 1\n",
    "    return dict\n",
    "\n",
    "\n",
    "print(count_word_frequency(str1))\n",
    "print(count_word_frequency(str2))"
   ]
  },
  {
   "cell_type": "markdown",
   "metadata": {},
   "source": [
    "### palindromic tuple"
   ]
  },
  {
   "cell_type": "code",
   "execution_count": 100,
   "metadata": {},
   "outputs": [
    {
     "name": "stdout",
     "output_type": "stream",
     "text": [
      "True\n",
      "True\n",
      "False\n",
      "False\n",
      "True\n"
     ]
    }
   ],
   "source": [
    "tpl1 = (1,2,3,2,1)\n",
    "tpl2 = ('a','b','c','b','a')\n",
    "tpl3 = (1,2,3,4,5)\n",
    "tpl4 = ('x','y','z','x')\n",
    "tpl5 = ('a',)\n",
    "\n",
    "def is_palindrome_tuple(tpl):\n",
    "    return tpl == tpl[::-1]\n",
    "\n",
    "print(is_palindrome_tuple(tpl1))\n",
    "print(is_palindrome_tuple(tpl2))\n",
    "print(is_palindrome_tuple(tpl3))\n",
    "print(is_palindrome_tuple(tpl4))\n",
    "print(is_palindrome_tuple(tpl5))\n"
   ]
  },
  {
   "cell_type": "markdown",
   "metadata": {},
   "source": [
    "### Merge dictionaries with common keys"
   ]
  },
  {
   "cell_type": "code",
   "execution_count": 127,
   "metadata": {},
   "outputs": [
    {
     "name": "stdout",
     "output_type": "stream",
     "text": [
      "{'a': 1, 'b': 5, 'c': 9, 'd': 6}\n"
     ]
    }
   ],
   "source": [
    "dict1 = {'a': 1, 'b': 2}\n",
    "dict2 = {'b': 3, 'c': 4}\n",
    "dict3 = {'c': 5, 'd': 6}\n",
    "\n",
    "dict4 = {'x': 10, 'y': 20}\n",
    "dict5 = {'y': 30, 'z':40}\n",
    "dict6 = {'z': 50, 'x': 60}\n",
    "\n",
    "dict = [dict1, dict2, dict3]\n",
    "merged_dict = {}\n",
    "for d in dict:\n",
    "    for key, value in d.items():\n",
    "        # merged_dict[key] = merged_dict.get(key,0)+value\n",
    "        if key not in merged_dict:\n",
    "            #print(key)\n",
    "            merged_dict[key] = value\n",
    "        else:\n",
    "            merged_dict[key] += value\n",
    "            #print(key)\n",
    "print(merged_dict)\n",
    "\n"
   ]
  },
  {
   "cell_type": "code",
   "execution_count": null,
   "metadata": {},
   "outputs": [],
   "source": []
  }
 ],
 "metadata": {
  "kernelspec": {
   "display_name": "venv",
   "language": "python",
   "name": "python3"
  },
  "language_info": {
   "codemirror_mode": {
    "name": "ipython",
    "version": 3
   },
   "file_extension": ".py",
   "mimetype": "text/x-python",
   "name": "python",
   "nbconvert_exporter": "python",
   "pygments_lexer": "ipython3",
   "version": "3.10.0"
  }
 },
 "nbformat": 4,
 "nbformat_minor": 2
}
