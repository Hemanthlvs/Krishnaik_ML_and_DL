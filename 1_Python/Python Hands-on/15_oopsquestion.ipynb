{
 "cells": [
  {
   "cell_type": "markdown",
   "metadata": {},
   "source": [
    "# Module: OOP Assignments\n",
    "## Lesson: Polymorphism, Abstraction, and Encapsulation\n",
    "### Assignment 1: Polymorphism with Methods\n",
    "\n",
    "Create a base class named `Shape` with a method `area`. Create two derived classes `Circle` and `Square` that override the `area` method. Create a list of `Shape` objects and call the `area` method on each object to demonstrate polymorphism."
   ]
  },
  {
   "cell_type": "code",
   "execution_count": 2,
   "metadata": {},
   "outputs": [
    {
     "name": "stdout",
     "output_type": "stream",
     "text": [
      "area of circle\n",
      "area of square\n"
     ]
    }
   ],
   "source": [
    "class shape():\n",
    "    def area(self):\n",
    "        print(f\"area of shape\")\n",
    "\n",
    "class circle(shape):\n",
    "    def area(self):\n",
    "        print(f\"area of circle\")\n",
    "\n",
    "class square(shape):\n",
    "    def area(self):\n",
    "        print(f\"area of square\")\n",
    "\n",
    "shapes = [circle(), square()]\n",
    "for shape in shapes:\n",
    "    shape.area()"
   ]
  },
  {
   "cell_type": "markdown",
   "id": "72857b96",
   "metadata": {},
   "source": [
    "### Assignment 2: Polymorphism with Function Arguments\n",
    "\n",
    "Create a function named `describe_shape` that takes a `Shape` object as an argument and calls its `area` method. Create objects of `Circle` and `Square` classes and pass them to the `describe_shape` function."
   ]
  },
  {
   "cell_type": "code",
   "execution_count": 7,
   "id": "d175ab9b",
   "metadata": {},
   "outputs": [
    {
     "name": "stdout",
     "output_type": "stream",
     "text": [
      "the area of the given shape is : 78.53981633974483\n",
      "the area of the given shape is : 25\n"
     ]
    }
   ],
   "source": [
    "import math\n",
    "\n",
    "class shape():\n",
    "    def area(self):\n",
    "        pass\n",
    "\n",
    "class circle(shape):\n",
    "    def __init__(self, radius):\n",
    "        self.radius = radius\n",
    "\n",
    "    def area(self):\n",
    "        return (math.pi)*self.radius**2\n",
    "\n",
    "class square(shape):\n",
    "    def __init__(self, length):\n",
    "        self.length = length\n",
    "    \n",
    "    def area(self):\n",
    "        return self.length*self.length\n",
    "    \n",
    "def describe_shape(shape):\n",
    "    print(f\"the area of the given shape is : {shape.area()}\")\n",
    "\n",
    "shapes = [circle(5), square(5)]\n",
    "for shape in shapes:\n",
    "    describe_shape(shape)"
   ]
  },
  {
   "cell_type": "markdown",
   "id": "ad3cd655",
   "metadata": {},
   "source": [
    "### Assignment 3: Abstract Base Class with Abstract Methods\n",
    "\n",
    "Create an abstract base class named `Vehicle` with an abstract method `start_engine`. Create derived classes `Car` and `Bike` that implement the `start_engine` method. Create objects of the derived classes and call the `start_engine` method."
   ]
  },
  {
   "cell_type": "code",
   "execution_count": 20,
   "id": "e1171db9",
   "metadata": {},
   "outputs": [
    {
     "name": "stdout",
     "output_type": "stream",
     "text": [
      "Car engine starts....\n",
      "Bike engine starts....\n"
     ]
    }
   ],
   "source": [
    "from abc import ABC, abstractmethod\n",
    "\n",
    "class Vehicle(ABC):\n",
    "    @abstractmethod\n",
    "    def start_engine(self):\n",
    "        pass\n",
    "\n",
    "class Car(Vehicle):\n",
    "    def start_engine(self):\n",
    "        print(f\"Car engine starts....\")\n",
    "\n",
    "class Bike(Vehicle):\n",
    "    def start_engine(self):\n",
    "        print(f\"Bike engine starts....\")\n",
    "\n",
    "car = Car()\n",
    "bike = Bike()\n",
    "\n",
    "car.start_engine()\n",
    "bike.start_engine()"
   ]
  },
  {
   "cell_type": "markdown",
   "id": "b94c0373",
   "metadata": {},
   "source": [
    "### Assignment 4: Abstract Base Class with Concrete Methods\n",
    "\n",
    "In the `Vehicle` class, add a concrete method `fuel_type` that returns a generic fuel type. Override this method in `Car` and `Bike` classes to return specific fuel types. Create objects of the derived classes and call the `fuel_type` method."
   ]
  },
  {
   "cell_type": "code",
   "execution_count": 25,
   "id": "b68c9812",
   "metadata": {},
   "outputs": [
    {
     "name": "stdout",
     "output_type": "stream",
     "text": [
      "diesel petrol\n"
     ]
    }
   ],
   "source": [
    "class vehicle(ABC):\n",
    "    @abstractmethod\n",
    "    def fuel_type():\n",
    "        pass\n",
    "\n",
    "class car(vehicle):\n",
    "    def __init__(self, fuel_type):\n",
    "        self.fuel_type = fuel_type\n",
    "    \n",
    "    def fuel_type(self):\n",
    "        print(f\"fuel type of the car is : {self.fuel_type}\")\n",
    "\n",
    "class bike(vehicle):\n",
    "    def __init__(self, fuel_type):\n",
    "        self.fuel_type = fuel_type\n",
    "    \n",
    "    def fuel_type(self):\n",
    "        print(f\"fuel type of the bike is : {self.fuel_type}\")\n",
    "\n",
    "car = car('diesel')\n",
    "bike = bike('petrol')\n",
    "print(car.fuel_type, bike.fuel_type)"
   ]
  },
  {
   "cell_type": "markdown",
   "id": "1d4a8fcf",
   "metadata": {},
   "source": [
    "### Assignment 5: Encapsulation with Private Attributes\n",
    "\n",
    "Create a class named `BankAccount` with private attributes `account_number` and `balance`. Add methods to deposit and withdraw money, and to check the balance. Ensure that the balance cannot be accessed directly."
   ]
  },
  {
   "cell_type": "code",
   "execution_count": 5,
   "id": "68abd647",
   "metadata": {},
   "outputs": [
    {
     "name": "stdout",
     "output_type": "stream",
     "text": [
      "amount 100 got deposited\n",
      "amount 20 got withdraw\n",
      "80\n"
     ]
    }
   ],
   "source": [
    "class BankAccount():\n",
    "    def __init__(self, account_number, balance=0):\n",
    "        self.__account_number = account_number\n",
    "        self.__balance = balance\n",
    "        \n",
    "    def deposit(self, dep_amount):\n",
    "        self.__balance += dep_amount\n",
    "        print(f\"amount {dep_amount} got deposited\")\n",
    "\n",
    "    def withdraw(self, wd_amount):\n",
    "        if wd_amount > self.__balance:\n",
    "            print(\"Insufficiene Balance\")\n",
    "        else:\n",
    "            self.__balance -= wd_amount\n",
    "            print(f\"amount {wd_amount} got withdraw\")\n",
    "\n",
    "    def check_balance(self):\n",
    "        return self.__balance\n",
    "\n",
    "\n",
    "cust = BankAccount(123)\n",
    "cust.deposit(100)\n",
    "cust.withdraw(20)\n",
    "print(cust.check_balance())\n"
   ]
  },
  {
   "cell_type": "markdown",
   "id": "142a00fc",
   "metadata": {},
   "source": [
    "### Assignment 6: Encapsulation with Property Decorators\n",
    "\n",
    "In the `BankAccount` class, use property decorators to get and set the `balance` attribute. Ensure that the balance cannot be set to a negative value."
   ]
  },
  {
   "cell_type": "code",
   "execution_count": 7,
   "id": "f690acf1",
   "metadata": {},
   "outputs": [
    {
     "name": "stdout",
     "output_type": "stream",
     "text": [
      "amount 100 got deposited\n",
      "amount 20 got withdraw\n",
      "80\n",
      "80\n",
      "5080\n",
      "balance can't be negative\n",
      "5080\n"
     ]
    }
   ],
   "source": [
    "class BankAccount():\n",
    "    def __init__(self, account_number, balance=0):\n",
    "        self.__account_number = account_number\n",
    "        self.__balance = balance\n",
    "    \n",
    "    @property\n",
    "    def balance(self):\n",
    "        return self.__balance\n",
    "    \n",
    "    @balance.setter\n",
    "    def balance(self, amount):\n",
    "        if amount > 0:\n",
    "            self.__balance += amount\n",
    "        else :\n",
    "            print(\"balance can't be negative\")\n",
    "        \n",
    "    def deposit(self, dep_amount):\n",
    "        self.__balance += dep_amount\n",
    "        print(f\"amount {dep_amount} got deposited\")\n",
    "\n",
    "    def withdraw(self, wd_amount):\n",
    "        if wd_amount > self.__balance:\n",
    "            print(\"Insufficiene Balance\")\n",
    "        else:\n",
    "            self.__balance -= wd_amount\n",
    "            print(f\"amount {wd_amount} got withdraw\")\n",
    "\n",
    "    def check_balance(self):\n",
    "        return self.__balance\n",
    "\n",
    "\n",
    "cust = BankAccount(123)\n",
    "cust.deposit(100)\n",
    "cust.withdraw(20)\n",
    "print(cust.check_balance())\n",
    "print(cust.balance)\n",
    "cust.balance= 5000\n",
    "print(cust.balance)\n",
    "cust.balance = -200\n",
    "print(cust.balance)"
   ]
  },
  {
   "cell_type": "markdown",
   "id": "0adafcd7",
   "metadata": {},
   "source": [
    "### Assignment 7: Combining Encapsulation and Inheritance\n",
    "\n",
    "Create a base class named `Person` with private attributes `name` and `age`. Add methods to get and set these attributes. Create a derived class named `Student` that adds an attribute `student_id`. Create an object of the `Student` class and test the encapsulation."
   ]
  },
  {
   "cell_type": "code",
   "execution_count": 20,
   "id": "86621dfe",
   "metadata": {},
   "outputs": [
    {
     "name": "stdout",
     "output_type": "stream",
     "text": [
      "123\n",
      "person name is : Hemanth and the age is : 30\n"
     ]
    },
    {
     "ename": "TypeError",
     "evalue": "person.details() missing 1 required positional argument: 'person_age'",
     "output_type": "error",
     "traceback": [
      "\u001b[1;31m---------------------------------------------------------------------------\u001b[0m",
      "\u001b[1;31mTypeError\u001b[0m                                 Traceback (most recent call last)",
      "Cell \u001b[1;32mIn[20], line 24\u001b[0m\n\u001b[0;32m     22\u001b[0m \u001b[38;5;28mprint\u001b[39m(student\u001b[38;5;241m.\u001b[39mstudent_id)\n\u001b[0;32m     23\u001b[0m student\u001b[38;5;241m.\u001b[39mdetails\n\u001b[1;32m---> 24\u001b[0m \u001b[43mstudent\u001b[49m\u001b[38;5;241;43m.\u001b[39;49m\u001b[43mdetails\u001b[49m \u001b[38;5;241m=\u001b[39m (\u001b[38;5;124m'\u001b[39m\u001b[38;5;124mHemanth\u001b[39m\u001b[38;5;124m'\u001b[39m, \u001b[38;5;241m29\u001b[39m)\n\u001b[0;32m     25\u001b[0m student\u001b[38;5;241m.\u001b[39mdetails\n",
      "\u001b[1;31mTypeError\u001b[0m: person.details() missing 1 required positional argument: 'person_age'"
     ]
    }
   ],
   "source": [
    "class person():\n",
    "    def __init__(self, name, age):\n",
    "        self.__name = name\n",
    "        self.__age = age\n",
    "    \n",
    "    @property\n",
    "    def details(self):\n",
    "        print(f\"person name is : {self.__name} and the age is : {self.__age}\")\n",
    "\n",
    "    @details.setter\n",
    "    def details(self, person_name, person_age):\n",
    "        self.__name = person_name\n",
    "        self.__age = person_age\n",
    "\n",
    "class student(person):\n",
    "    def __init__(self, __name, __age, student_id):\n",
    "        super().__init__(__name, __age)\n",
    "        self.student_id = student_id\n",
    "\n",
    "\n",
    "student = student('Hemanth', 30, 123)\n",
    "print(student.student_id)\n",
    "student.details\n",
    "\n"
   ]
  },
  {
   "cell_type": "markdown",
   "id": "573f0476",
   "metadata": {},
   "source": [
    "### Assignment 8: Polymorphism with Inheritance\n",
    "\n",
    "Create a base class named `Animal` with a method `speak`. Create two derived classes `Dog` and `Cat` that override the `speak` method. Create a list of `Animal` objects and call the `speak` method on each object to demonstrate polymorphism."
   ]
  },
  {
   "cell_type": "code",
   "execution_count": 27,
   "id": "5390e8b6",
   "metadata": {},
   "outputs": [
    {
     "name": "stdout",
     "output_type": "stream",
     "text": [
      "woof woof\n",
      "meow meow\n"
     ]
    }
   ],
   "source": [
    "class animal():\n",
    "    def speak():\n",
    "        pass\n",
    "\n",
    "class dog(animal):\n",
    "    def speak(self):\n",
    "        return print(\"woof woof\")\n",
    "\n",
    "class cat(animal):\n",
    "    def speak(self):\n",
    "        return print(\"meow meow\")\n",
    "\n",
    "Animals = [dog(), cat()]\n",
    "for Animal in Animals:\n",
    "    Animal.speak()\n"
   ]
  },
  {
   "cell_type": "markdown",
   "id": "09531e60",
   "metadata": {},
   "source": [
    "### Assignment 9: Abstract Methods in Base Class\n",
    "\n",
    "Create an abstract base class named `Employee` with an abstract method `calculate_salary`. Create two derived classes `FullTimeEmployee` and `PartTimeEmployee` that implement the `calculate_salary` method. Create objects of the derived classes and call the `calculate_salary` method."
   ]
  },
  {
   "cell_type": "code",
   "execution_count": 32,
   "id": "698498f3",
   "metadata": {},
   "outputs": [
    {
     "name": "stdout",
     "output_type": "stream",
     "text": [
      "300\n",
      "100\n"
     ]
    }
   ],
   "source": [
    "from abc import ABC, abstractmethod\n",
    "\n",
    "class Employee():\n",
    "    @abstractmethod\n",
    "    def calculate_salary():\n",
    "        pass\n",
    "\n",
    "class FullTimeEmployee(Employee):\n",
    "    def __init__(self, salary):\n",
    "        self.salary = salary\n",
    "    def calculate_salary(self):\n",
    "        return self.salary\n",
    "    \n",
    "class PartTimeEmployee(Employee):\n",
    "    def __init__(self, salary):\n",
    "        self.salary = salary\n",
    "    def calculate_salary(self):\n",
    "        return self.salary\n",
    "    \n",
    "\n",
    "Fulltime_salary = FullTimeEmployee(300)\n",
    "Parttime_salary = PartTimeEmployee(100)\n",
    "print(Fulltime_salary.calculate_salary())\n",
    "print(Parttime_salary.calculate_salary())\n"
   ]
  },
  {
   "cell_type": "markdown",
   "id": "06715408",
   "metadata": {},
   "source": [
    "### Assignment 10: Encapsulation in Data Classes\n",
    "\n",
    "Create a data class named `Product` with private attributes `product_id`, `name`, and `price`. Add methods to get and set these attributes. Ensure that the price cannot be set to a negative value."
   ]
  },
  {
   "cell_type": "code",
   "execution_count": 38,
   "id": "920ebe80",
   "metadata": {},
   "outputs": [
    {
     "name": "stdout",
     "output_type": "stream",
     "text": [
      "123\n",
      "Apple_15_Plus\n",
      "80000\n",
      "....................................................................\n",
      "456\n",
      "Apple_16\n",
      "100000\n",
      "....................................................................\n",
      "Price can't be set negative\n",
      "982\n",
      "Apple_12\n",
      "100000\n"
     ]
    }
   ],
   "source": [
    "class Product():\n",
    "    def __init__(self, product_id, name, price):\n",
    "        self.__product_id = product_id\n",
    "        self.__name = name\n",
    "        self.__price = price\n",
    "    \n",
    "    def get_product_id(self):\n",
    "        return self.__product_id\n",
    "    \n",
    "    def get_name(self):\n",
    "        return self.__name\n",
    "    \n",
    "    def get_price(self):\n",
    "        return self.__price\n",
    "    \n",
    "    def set_product_id(self, product_id):\n",
    "        self.__product_id = product_id\n",
    "\n",
    "    def set_name(self, name):\n",
    "        self.__name = name\n",
    "    \n",
    "    def set_price(self, price):\n",
    "        if price < 0:\n",
    "            print(\"Price can't be set negative\")\n",
    "        else:\n",
    "            self.__price = price\n",
    "\n",
    "\n",
    "product = Product(123, 'Apple_15_Plus', 80000)\n",
    "print(product.get_product_id())\n",
    "print(product.get_name())\n",
    "print(product.get_price())\n",
    "print(\"....................................................................\")\n",
    "product.set_product_id(456)\n",
    "product.set_name('Apple_16')\n",
    "product.set_price(100000)\n",
    "\n",
    "print(product.get_product_id())\n",
    "print(product.get_name())\n",
    "print(product.get_price())\n",
    "print(\"....................................................................\")\n",
    "product.set_product_id(982)\n",
    "product.set_name('Apple_12')\n",
    "product.set_price(-67556)\n",
    "\n",
    "print(product.get_product_id())\n",
    "print(product.get_name())\n",
    "print(product.get_price())\n"
   ]
  },
  {
   "cell_type": "markdown",
   "id": "d65af417",
   "metadata": {},
   "source": [
    "### Assignment 11: Polymorphism with Operator Overloading\n",
    "\n",
    "Create a class named `Vector` with attributes `x` and `y`. Overload the `+` operator to add two `Vector` objects. Create objects of the class and test the operator overloading."
   ]
  },
  {
   "cell_type": "code",
   "execution_count": 48,
   "id": "c9b2c536",
   "metadata": {},
   "outputs": [
    {
     "name": "stdout",
     "output_type": "stream",
     "text": [
      "vector(2,4)\n"
     ]
    }
   ],
   "source": [
    "class vector:\n",
    "    def __init__(self, x, y):\n",
    "        self.x = x\n",
    "        self.y = y\n",
    "\n",
    "    def __add__(self, other):\n",
    "        return vector(self.x + other.x , self.y + other.y)\n",
    "    \n",
    "    def __str__(self):\n",
    "        return f\"vector({self.x},{self.y})\"\n",
    "\n",
    "vec1 = vector(1,2)\n",
    "vec2 = vector(1,2)\n",
    "print(vec1 + vec2)"
   ]
  },
  {
   "cell_type": "markdown",
   "id": "4cc2d900",
   "metadata": {},
   "source": [
    "### Assignment 12: Abstract Properties\n",
    "\n",
    "Create an abstract base class named `Appliance` with an abstract property `power`. Create two derived classes `WashingMachine` and `Refrigerator` that implement the `power` property. Create objects of the derived classes and access the `power` property."
   ]
  },
  {
   "cell_type": "code",
   "execution_count": 51,
   "id": "0db191ad",
   "metadata": {},
   "outputs": [
    {
     "name": "stdout",
     "output_type": "stream",
     "text": [
      "Washing machine...............\n",
      "Refrigerator...............\n"
     ]
    }
   ],
   "source": [
    "class Applaince(ABC):\n",
    "    @property\n",
    "    @abstractmethod\n",
    "    def power(self):\n",
    "        pass\n",
    "\n",
    "class WashingMachine(Applaince):\n",
    "    @property\n",
    "    def power(self):\n",
    "        print(\"Washing machine...............\")\n",
    "\n",
    "class Refrigerator(Applaince):\n",
    "    @property\n",
    "    def power(self):\n",
    "        print(\"Refrigerator...............\")\n",
    "\n",
    "washingmachine = WashingMachine()\n",
    "refrigerator = Refrigerator()\n",
    "washingmachine.power\n",
    "refrigerator.power"
   ]
  },
  {
   "cell_type": "markdown",
   "id": "efc5fa0a",
   "metadata": {},
   "source": [
    "### Assignment 13: Encapsulation in Class Hierarchies\n",
    "\n",
    "Create a base class named `Account` with private attributes `account_number` and `balance`. Add methods to get and set these attributes. Create a derived class named `SavingsAccount` that adds an attribute `interest_rate`. Create an object of the `SavingsAccount` class and test the encapsulation."
   ]
  },
  {
   "cell_type": "code",
   "execution_count": 61,
   "id": "dc6fdcc5",
   "metadata": {},
   "outputs": [
    {
     "name": "stdout",
     "output_type": "stream",
     "text": [
      "123\n",
      "1000\n",
      "6\n"
     ]
    }
   ],
   "source": [
    "class account():\n",
    "    def __init__(self, account_number, balance):\n",
    "        self.__account_number = account_number\n",
    "        self.__balance = balance\n",
    "\n",
    "    def get_account_number(self):\n",
    "        return self.__account_number\n",
    "    \n",
    "    def get_balance(self):\n",
    "        return self.__balance\n",
    "    \n",
    "    def set_account_number(self, acnt_num):\n",
    "        self.__account_number = acnt_num\n",
    "    \n",
    "    def set_balance(self, bal):\n",
    "        self.__balance = bal\n",
    "\n",
    "class SavingsAccount(account):\n",
    "    def __init__(self, account_number, balance, interest_rate):\n",
    "        super().__init__(account_number, balance)\n",
    "        self.interest_rate = interest_rate\n",
    "\n",
    "sa = SavingsAccount(123, 5000, 6)\n",
    "sa.set_balance(1000)\n",
    "print(sa.get_account_number())\n",
    "print(sa.get_balance())\n",
    "print(sa.interest_rate)"
   ]
  },
  {
   "cell_type": "markdown",
   "id": "4315ebf8",
   "metadata": {},
   "source": [
    "### Assignment 14: Polymorphism with Multiple Inheritance\n",
    "\n",
    "Create a class named `Flyer` with a method `fly`. Create a class named `Swimmer` with a method `swim`. Create a class named `Superhero` that inherits from both `Flyer` and `Swimmer` and overrides both methods. Create an object of the `Superhero` class and call both methods."
   ]
  },
  {
   "cell_type": "code",
   "execution_count": 62,
   "id": "7ab16e6f",
   "metadata": {},
   "outputs": [
    {
     "name": "stdout",
     "output_type": "stream",
     "text": [
      "flying super hero\n",
      "swimming super hero\n"
     ]
    }
   ],
   "source": [
    "class Flyer:\n",
    "    def fly(self):\n",
    "        print(\"Flying in flyer...\")\n",
    "\n",
    "class Swimmer:\n",
    "    def swim(self):\n",
    "        print(\"Swimming in swimmer...\")\n",
    "\n",
    "class Superhero(Flyer, Swimmer):\n",
    "    def fly(self):\n",
    "        print(f\"flying super hero\")\n",
    "    def swim(self):\n",
    "        print(f\"swimming super hero\")\n",
    "\n",
    "# Test\n",
    "superhero = Superhero()\n",
    "superhero.fly()\n",
    "superhero.swim()"
   ]
  },
  {
   "cell_type": "markdown",
   "id": "4f0d5326",
   "metadata": {},
   "source": [
    "### Assignment 15: Abstract Methods and Multiple Inheritance\n",
    "\n",
    "Create an abstract base class named `Worker` with an abstract method `work`. Create two derived classes `Engineer` and `Doctor` that implement the `work` method. Create another derived class `Scientist` that inherits from both `Engineer` and `Doctor`. Create an object of the `Scientist` class and call the `work` method."
   ]
  },
  {
   "cell_type": "code",
   "execution_count": 68,
   "id": "bad09dfe",
   "metadata": {},
   "outputs": [
    {
     "name": "stdout",
     "output_type": "stream",
     "text": [
      "engineer work\n",
      "Doctor work\n"
     ]
    }
   ],
   "source": [
    "class worker(ABC):\n",
    "    @abstractmethod\n",
    "    def work(self):\n",
    "        pass\n",
    "\n",
    "class Engineer(worker):\n",
    "    def work(self):\n",
    "        return print(f\"engineer work\")\n",
    "\n",
    "class Doctor(worker):\n",
    "    def work(self):\n",
    "        return print(f\"Doctor work\")\n",
    "\n",
    "class Scientist(Engineer, Doctor):\n",
    "    def work(self):\n",
    "        Engineer.work(self)\n",
    "        Doctor.work(self)\n",
    "\n",
    "scientist = Scientist()\n",
    "scientist.work()"
   ]
  },
  {
   "cell_type": "code",
   "execution_count": null,
   "id": "eba080db",
   "metadata": {},
   "outputs": [],
   "source": []
  }
 ],
 "metadata": {
  "kernelspec": {
   "display_name": "venv",
   "language": "python",
   "name": "python3"
  },
  "language_info": {
   "codemirror_mode": {
    "name": "ipython",
    "version": 3
   },
   "file_extension": ".py",
   "mimetype": "text/x-python",
   "name": "python",
   "nbconvert_exporter": "python",
   "pygments_lexer": "ipython3",
   "version": "3.10.0"
  }
 },
 "nbformat": 4,
 "nbformat_minor": 5
}
