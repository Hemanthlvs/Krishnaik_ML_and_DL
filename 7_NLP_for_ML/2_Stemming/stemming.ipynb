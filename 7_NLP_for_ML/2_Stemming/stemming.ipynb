{
 "cells": [
  {
   "cell_type": "markdown",
   "id": "c3e375fc",
   "metadata": {},
   "source": [
    "# Stemming"
   ]
  },
  {
   "cell_type": "code",
   "execution_count": 14,
   "id": "3cb9f71d",
   "metadata": {},
   "outputs": [],
   "source": [
    "## Classification Problem\n",
    "## Comments of product is a positive review or negative review\n",
    "## Reviews ----> eating, eat,ate [going,gone,goes]--->go\n",
    "\n",
    "words=[\"eating\",\"eats\",\"ate\",\"writing\",\"writes\",\"programming\",\"programs\",\"history\",\"finally\",\"finalized\",\"congratulations\"\n",
    "       ,\"fairly\",\"sportingly\"]\n"
   ]
  },
  {
   "cell_type": "code",
   "execution_count": 15,
   "id": "9406469e",
   "metadata": {},
   "outputs": [
    {
     "name": "stdout",
     "output_type": "stream",
     "text": [
      "eating ----> eat\n",
      "eats ----> eat\n",
      "ate ----> ate\n",
      "writing ----> write\n",
      "writes ----> write\n",
      "programming ----> program\n",
      "programs ----> program\n",
      "history ----> histori\n",
      "finally ----> final\n",
      "finalized ----> final\n",
      "congratulations ----> congratul\n",
      "fairly ----> fairli\n",
      "sportingly ----> sportingli\n"
     ]
    }
   ],
   "source": [
    "from nltk.stem import PorterStemmer\n",
    "\n",
    "stemming =  PorterStemmer()\n",
    "\n",
    "for word in words:\n",
    "    print(f\"{word} ----> {stemming.stem(word)}\")"
   ]
  },
  {
   "cell_type": "markdown",
   "id": "d7718168",
   "metadata": {},
   "source": [
    "### As you can see, this is converting every word into their root word. But this has some disadvantages. You can see, words like history,congratulations,fairly,sportingly are not converted correctly."
   ]
  },
  {
   "cell_type": "markdown",
   "id": "36c5248f",
   "metadata": {},
   "source": [
    "# RegexpStemmer class"
   ]
  },
  {
   "cell_type": "code",
   "execution_count": 16,
   "id": "ffb3e548",
   "metadata": {},
   "outputs": [
    {
     "data": {
      "text/plain": [
       "'eat'"
      ]
     },
     "execution_count": 16,
     "metadata": {},
     "output_type": "execute_result"
    }
   ],
   "source": [
    "from nltk.stem import RegexpStemmer\n",
    "\n",
    "reg_stemmer = RegexpStemmer(\"ing$|s$|e$|able$\",min=4)\n",
    "# It means we are asking to remove the words we mentioned in the parameter. \n",
    "# $ at the end means if those expressions are at the end then remove them.\n",
    "\n",
    "reg_stemmer.stem('eating')\n",
    "#as you can see ing is at the end of eating so it got removed"
   ]
  },
  {
   "cell_type": "code",
   "execution_count": 17,
   "id": "16b9776e",
   "metadata": {},
   "outputs": [
    {
     "data": {
      "text/plain": [
       "'ingeat'"
      ]
     },
     "execution_count": 17,
     "metadata": {},
     "output_type": "execute_result"
    }
   ],
   "source": [
    "reg_stemmer.stem('ingeat')\n",
    "# since it's not at end it won't get removed. to remove ing anywhere in the values you need to give \"ing\" instead of \"ing$\""
   ]
  },
  {
   "cell_type": "markdown",
   "id": "243a4e70",
   "metadata": {},
   "source": [
    "### Snowball Stemmer"
   ]
  },
  {
   "cell_type": "code",
   "execution_count": 18,
   "id": "64b91e0a",
   "metadata": {},
   "outputs": [
    {
     "name": "stdout",
     "output_type": "stream",
     "text": [
      "eating ----> eat\n",
      "eats ----> eat\n",
      "ate ----> ate\n",
      "writing ----> write\n",
      "writes ----> write\n",
      "programming ----> program\n",
      "programs ----> program\n",
      "history ----> histori\n",
      "finally ----> final\n",
      "finalized ----> final\n",
      "congratulations ----> congratul\n",
      "fairly ----> fair\n",
      "sportingly ----> sport\n"
     ]
    }
   ],
   "source": [
    "from nltk.stem import SnowballStemmer\n",
    "\n",
    "snowball_stemmer = SnowballStemmer('english')\n",
    "\n",
    "for word in words:\n",
    "    print(f\"{word} ----> {snowball_stemmer.stem(word)}\")"
   ]
  },
  {
   "cell_type": "markdown",
   "id": "8c0b17f5",
   "metadata": {},
   "source": [
    "### You can clearly see, fairly, sportingly changed to meaningful words. but still there are few words like history and finally didn't got changed."
   ]
  },
  {
   "cell_type": "code",
   "execution_count": null,
   "id": "41b51a0c",
   "metadata": {},
   "outputs": [],
   "source": []
  }
 ],
 "metadata": {
  "kernelspec": {
   "display_name": "myenv",
   "language": "python",
   "name": "python3"
  },
  "language_info": {
   "codemirror_mode": {
    "name": "ipython",
    "version": 3
   },
   "file_extension": ".py",
   "mimetype": "text/x-python",
   "name": "python",
   "nbconvert_exporter": "python",
   "pygments_lexer": "ipython3",
   "version": "3.9.21"
  }
 },
 "nbformat": 4,
 "nbformat_minor": 5
}
