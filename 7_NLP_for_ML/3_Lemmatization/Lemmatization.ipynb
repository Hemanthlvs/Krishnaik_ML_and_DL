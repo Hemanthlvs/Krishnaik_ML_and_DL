{
 "cells": [
  {
   "cell_type": "markdown",
   "id": "d58e61f3",
   "metadata": {},
   "source": [
    "# Lemmatization"
   ]
  },
  {
   "cell_type": "code",
   "execution_count": 2,
   "id": "3196309d",
   "metadata": {},
   "outputs": [
    {
     "name": "stderr",
     "output_type": "stream",
     "text": [
      "[nltk_data] Downloading package wordnet to\n",
      "[nltk_data]     C:\\Users\\ZE634LD/nltk_data...\n"
     ]
    },
    {
     "data": {
      "text/plain": [
       "True"
      ]
     },
     "execution_count": 2,
     "metadata": {},
     "output_type": "execute_result"
    }
   ],
   "source": [
    "import nltk\n",
    "nltk.download('wordnet')\n"
   ]
  },
  {
   "cell_type": "code",
   "execution_count": 4,
   "id": "d16e1ef3",
   "metadata": {},
   "outputs": [
    {
     "name": "stdout",
     "output_type": "stream",
     "text": [
      "eating ---> eating\n",
      "eats ---> eats\n",
      "ate ---> ate\n",
      "writing ---> writing\n",
      "writes ---> writes\n",
      "programming ---> programming\n",
      "programs ---> program\n",
      "history ---> history\n",
      "finally ---> finally\n",
      "finalized ---> finalized\n",
      "congratulations ---> congratulation\n",
      "fairly ---> fairly\n",
      "sportingly ---> sportingly\n"
     ]
    }
   ],
   "source": [
    "from nltk.stem import WordNetLemmatizer\n",
    "\n",
    "lemmatization = WordNetLemmatizer()\n",
    "\n",
    "words=[\"eating\",\"eats\",\"ate\",\"writing\",\"writes\",\"programming\",\"programs\",\"history\",\"finally\",\"finalized\",\"congratulations\"\n",
    "       ,\"fairly\",\"sportingly\"]\n",
    "\n",
    "for word in words:\n",
    "    print(f\"{word} ---> {lemmatization.lemmatize(word,pos='n')}\")\n",
    "\n",
    "#by default pos is noun"
   ]
  },
  {
   "cell_type": "code",
   "execution_count": 5,
   "id": "20ed9495",
   "metadata": {},
   "outputs": [
    {
     "name": "stdout",
     "output_type": "stream",
     "text": [
      "eating ---> eat\n",
      "eats ---> eat\n",
      "ate ---> eat\n",
      "writing ---> write\n",
      "writes ---> write\n",
      "programming ---> program\n",
      "programs ---> program\n",
      "history ---> history\n",
      "finally ---> finally\n",
      "finalized ---> finalize\n",
      "congratulations ---> congratulations\n",
      "fairly ---> fairly\n",
      "sportingly ---> sportingly\n"
     ]
    }
   ],
   "source": [
    "'''\n",
    "POS- Noun-n\n",
    "verb-v\n",
    "adjective-a\n",
    "adverb-r\n",
    "'''\n",
    "\n",
    "# since there are many verb values we can use verb here\n",
    "\n",
    "for word in words:\n",
    "    print(f\"{word} ---> {lemmatization.lemmatize(word,pos='v')}\")"
   ]
  },
  {
   "cell_type": "code",
   "execution_count": 7,
   "id": "ca510b31",
   "metadata": {},
   "outputs": [],
   "source": [
    "# you can see everthing has changed in a good way now. This is better than stemming.\n",
    "# but this is slow compared to stemming. That's why this prefered to use in the scenarios of chatbot, Q&A etc..,"
   ]
  }
 ],
 "metadata": {
  "kernelspec": {
   "display_name": "myenv",
   "language": "python",
   "name": "python3"
  },
  "language_info": {
   "codemirror_mode": {
    "name": "ipython",
    "version": 3
   },
   "file_extension": ".py",
   "mimetype": "text/x-python",
   "name": "python",
   "nbconvert_exporter": "python",
   "pygments_lexer": "ipython3",
   "version": "3.9.21"
  }
 },
 "nbformat": 4,
 "nbformat_minor": 5
}
